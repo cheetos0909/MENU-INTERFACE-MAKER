{
  "nbformat": 4,
  "nbformat_minor": 0,
  "metadata": {
    "colab": {
      "provenance": []
    },
    "kernelspec": {
      "name": "python3",
      "display_name": "Python 3"
    },
    "language_info": {
      "name": "python"
    }
  },
  "cells": [
    {
      "cell_type": "markdown",
      "source": [
        "\n",
        "Tax - Basic\n",
        "Discount - Basic\n",
        "Customisations-Gold\n",
        "Meals-Premium\n",
        "\n",
        "1.   Tax - Basic  Done\n",
        "2.   Discount - Basic    Done\n",
        "3.   Category Discount - Gold   Done\n",
        "4.   Customisations - Gold      Done\n",
        "5.   Particular Discounts - Premium      Done\n",
        "6.   Meals- Premium\n",
        "\n"
      ],
      "metadata": {
        "id": "IhLifVSgPXGT"
      }
    },
    {
      "cell_type": "markdown",
      "source": [
        "## ENTER SCREEN"
      ],
      "metadata": {
        "id": "YGBoODDhQIC8"
      }
    },
    {
      "cell_type": "code",
      "execution_count": null,
      "metadata": {
        "id": "IR9NSxgtPRcx"
      },
      "outputs": [],
      "source": [
        "def enter():\n",
        "  \"\"\"\n",
        "    The function \"enter\" prompts the user to press Enter to start and displays different messages based\n",
        "    on the user's input.\n",
        "    \"\"\"\n",
        "  print('Press Enter to Start!')\n",
        "  k=input()\n",
        "  if not k:\n",
        "    print('You have Started!')\n",
        "  if k:\n",
        "    print('Dont you want to start the menu?')\n",
        "    enter()"
      ]
    },
    {
      "cell_type": "code",
      "source": [
        "enter()"
      ],
      "metadata": {
        "colab": {
          "base_uri": "https://localhost:8080/"
        },
        "id": "7IlpQwRTQNqy",
        "outputId": "4fed2ee5-3e98-4670-8829-7b83454e9019"
      },
      "execution_count": null,
      "outputs": [
        {
          "output_type": "stream",
          "name": "stdout",
          "text": [
            "Press Enter to Start!\n",
            "m\n",
            "Dont you want to start the menu?\n",
            "Press Enter to Start!\n",
            "\n",
            "You have Started!\n"
          ]
        }
      ]
    },
    {
      "cell_type": "markdown",
      "source": [
        "## DINING LOCATION SCREEN"
      ],
      "metadata": {
        "id": "F-WOqriD7aBR"
      }
    },
    {
      "cell_type": "code",
      "source": [
        "def dining_location():\n",
        "  \"\"\"\n",
        "  The function `dining_location` prompts the user to enter either '1' for Eat In or '2' for Takeaway,\n",
        "  and returns the corresponding value.\n",
        "  :return: the value of the variable 'var' which represents the dining location.\n",
        "  \"\"\"\n",
        "  fetch=str(input(\"Press 1 for Eat In & 2 for Takeaway  :\"))\n",
        "  if fetch=='1':\n",
        "    var='Eat In'\n",
        "    return var\n",
        "  elif fetch=='2':\n",
        "    var='Takeaway'\n",
        "    return var\n",
        "  else:\n",
        "    print('Wrong Input Entered!')\n",
        "    dining_location()\n",
        "  # print(var)\n"
      ],
      "metadata": {
        "id": "p5Ruu_AQQSWx"
      },
      "execution_count": null,
      "outputs": []
    },
    {
      "cell_type": "code",
      "source": [
        "dining_location()"
      ],
      "metadata": {
        "colab": {
          "base_uri": "https://localhost:8080/",
          "height": 53
        },
        "id": "UPXONEXi8AWw",
        "outputId": "efddd2c1-8eba-4958-f5d4-ac87b21de7bb"
      },
      "execution_count": null,
      "outputs": [
        {
          "name": "stdout",
          "output_type": "stream",
          "text": [
            "Press 1 for Eat In & 2 for Takeaway  :1\n"
          ]
        },
        {
          "output_type": "execute_result",
          "data": {
            "text/plain": [
              "'Eat In'"
            ],
            "application/vnd.google.colaboratory.intrinsic+json": {
              "type": "string"
            }
          },
          "metadata": {},
          "execution_count": 18
        }
      ]
    },
    {
      "cell_type": "markdown",
      "source": [
        "## Payment Screen"
      ],
      "metadata": {
        "id": "M9nNmIYB8qKS"
      }
    },
    {
      "cell_type": "code",
      "source": [
        "def payment():\n",
        "  fetch=str(input(\"Press 1 for Cash at Counter & 2 for CARD/BHIM  :\"))\n",
        "  if fetch=='1':\n",
        "    var='Cash at Counter'\n",
        "    return var\n",
        "  elif fetch=='2':\n",
        "    var='CARD/BHIM'\n",
        "    return var\n",
        "  # print(var)\n",
        "  else:\n",
        "    print('Wrong Input Entered!')\n",
        "    payment()"
      ],
      "metadata": {
        "id": "fDRZZb2D8Ldt"
      },
      "execution_count": null,
      "outputs": []
    },
    {
      "cell_type": "code",
      "source": [
        "payment()"
      ],
      "metadata": {
        "colab": {
          "base_uri": "https://localhost:8080/"
        },
        "id": "Yl8qmiGu85X6",
        "outputId": "d00df8b2-9c74-4624-e41f-b88f2cf8b5c2"
      },
      "execution_count": null,
      "outputs": [
        {
          "name": "stdout",
          "output_type": "stream",
          "text": [
            "Press 1 for Cash at Counter & 2 for CARD/BHIM  :g\n",
            "Wrong Input Entered!\n",
            "Press 1 for Cash at Counter & 2 for CARD/BHIM  :2\n"
          ]
        }
      ]
    },
    {
      "cell_type": "markdown",
      "source": [
        "## INITIATING CLASS"
      ],
      "metadata": {
        "id": "2_vxAvoa9fNW"
      }
    },
    {
      "cell_type": "code",
      "source": [
        "class items:\n",
        "  menu={}\n",
        "\n",
        "\n",
        "  def __init__(self,name,price,description,type,customisation=None,veg=None):\n",
        "    self.name=name\n",
        "    self.price=price\n",
        "    self.description=description\n",
        "    self.type=type\n",
        "    self.veg=veg\n",
        "    self.custom={}\n",
        "    if customisation:\n",
        "      num=int(input('How many ingredients to be included in customisations ?'))\n",
        "      for i in range(num):\n",
        "        ing=str(input(\"What is the ingredient  :\"))\n",
        "        pri=float(input(f\"What is the price of {ing}?\"))\n",
        "        self.custom[ing]=pri\n",
        "    else:\n",
        "      self.custom={}\n",
        "    items.menu[self.name]={'Price':self.price,'Description':self.description,'Veg':self.veg,'Type':self.type,'Customisations':self.custom}\n",
        "\n",
        "\n",
        "  @classmethod\n",
        "  def get(self):\n",
        "    self.name=str(input('What is the name of the dish?'))\n",
        "    self.price=float(input('What is the price of the dish?'))\n",
        "    self.description=str(input('What is the description of the dish?'))\n",
        "    self.type=str(input('What is the type of the Dish?'))\n",
        "    self.veg=bool(int(input('Press 1 for Veg , 0 for Non-Veg!')))\n",
        "    self.ask=bool(str(input('Press any key to add Customisation Feature')))\n",
        "    if self.ask:\n",
        "      self.custom={}\n",
        "      num=int(input('How many ingredients to be included in customisations ?'))\n",
        "      for i in range(num):\n",
        "        ing=str(input(\"What is the ingredient  :\"))\n",
        "        pri=float(input(f\"What is the price of {ing}?\"))\n",
        "        self.custom[ing]=pri\n",
        "    else:\n",
        "      self.custom={}\n",
        "    items.menu[self.name]={'Price':self.price,'Description':self.description,'Veg':self.veg,'Type':self.type,'Customisations':self.custom}\n",
        "\n",
        "\n",
        "  @classmethod\n",
        "  def copy(self,dictionaryy):\n",
        "    for k,v in dictionaryy.items():\n",
        "      self.name=k\n",
        "      self.price=v['Price']\n",
        "      self.description=v['Description']\n",
        "      self.type=v['Type']\n",
        "      if 'Veg' in v:\n",
        "        self.veg=v['Veg']\n",
        "      if 'Customisations' in v:\n",
        "        self.custom={}\n",
        "        self.custom=v['Customisations']\n",
        "      else:\n",
        "        self.custom={}\n",
        "      items.menu[self.name]={'Price':self.price,'Description':self.description,'Veg':self.veg,'Type':self.type,'Customisations':self.custom}\n"
      ],
      "metadata": {
        "id": "2baCsL4F867h"
      },
      "execution_count": null,
      "outputs": []
    },
    {
      "cell_type": "markdown",
      "source": [
        "## Way 1 to Create a Object through DUNDER METHOD __init__()"
      ],
      "metadata": {
        "id": "4WoVwowQDUsx"
      }
    },
    {
      "cell_type": "code",
      "source": [
        "McAlooTikki=items('Mexican McAloo Tikki Burger',250,'The Tastiest Burger in the town!','Burger',customisation=False,veg=True)"
      ],
      "metadata": {
        "id": "RNE5v-ldDTOs"
      },
      "execution_count": null,
      "outputs": []
    },
    {
      "cell_type": "code",
      "source": [
        "items.menu"
      ],
      "metadata": {
        "colab": {
          "base_uri": "https://localhost:8080/"
        },
        "id": "7-REAcXUDhGR",
        "outputId": "7774a195-1a46-4500-a262-bdde3bccab29"
      },
      "execution_count": null,
      "outputs": [
        {
          "output_type": "execute_result",
          "data": {
            "text/plain": [
              "{'Mexican McAloo Tikki Burger': {'Price': 250,\n",
              "  'Description': 'The Tastiest Burger in the town!',\n",
              "  'Veg': True,\n",
              "  'Type': 'Burger',\n",
              "  'Customisations': {}}}"
            ]
          },
          "metadata": {},
          "execution_count": 12
        }
      ]
    },
    {
      "cell_type": "code",
      "source": [
        "Burger=items('Vej Maharaja Mac',250,'The King of Burgers is here','Burger',customisation=True,veg=True)"
      ],
      "metadata": {
        "colab": {
          "base_uri": "https://localhost:8080/"
        },
        "id": "A8xc9fCpDi-f",
        "outputId": "e494655b-81e5-419f-bc73-d383f26b88ce"
      },
      "execution_count": null,
      "outputs": [
        {
          "name": "stdout",
          "output_type": "stream",
          "text": [
            "How many ingredients to be included in customisations ?3\n",
            "What is the ingredient  :onion\n",
            "What is the price of onion?5\n",
            "What is the ingredient  :tomato\n",
            "What is the price of tomato?6\n",
            "What is the ingredient  :lettuce\n",
            "What is the price of lettuce?10\n"
          ]
        }
      ]
    },
    {
      "cell_type": "code",
      "source": [
        "items.menu"
      ],
      "metadata": {
        "colab": {
          "base_uri": "https://localhost:8080/"
        },
        "id": "s5GUNoZqDl10",
        "outputId": "f4f33b6d-fa5b-4a79-fc00-f7a496854611"
      },
      "execution_count": null,
      "outputs": [
        {
          "output_type": "execute_result",
          "data": {
            "text/plain": [
              "{'Mexican McAloo Tikki Burger': {'Price': 250,\n",
              "  'Description': 'The Tastiest Burger in the town!',\n",
              "  'Veg': True,\n",
              "  'Type': 'Burger',\n",
              "  'Customisations': {}},\n",
              " 'Vej Maharaja Mac': {'Price': 250,\n",
              "  'Description': 'The King of Burgers is here',\n",
              "  'Veg': True,\n",
              "  'Type': 'Burger',\n",
              "  'Customisations': {'Onion': 5.0, 'Tomato': 7.5, 'Lettuce': 8.0}}}"
            ]
          },
          "metadata": {},
          "execution_count": 14
        }
      ]
    },
    {
      "cell_type": "markdown",
      "source": [
        "## Way 2 to Create Object through get()"
      ],
      "metadata": {
        "id": "ZBHmraFeFgrf"
      }
    },
    {
      "cell_type": "code",
      "source": [
        "items.get()"
      ],
      "metadata": {
        "colab": {
          "base_uri": "https://localhost:8080/"
        },
        "id": "au_Vu-DLDt-0",
        "outputId": "50a041ea-d34d-4635-cc56-11c4294861a2"
      },
      "execution_count": null,
      "outputs": [
        {
          "name": "stdout",
          "output_type": "stream",
          "text": [
            "What is the name of the dish?Mexican Chicken Roll\n",
            "What is the price of the dish?400\n",
            "What is the description of the dish?Tastiest Chicken Roll With Mexican Spices\n",
            "What is the type of the Dish?Roll\n",
            "Press 1 for Veg , 0 for Non-Veg!0\n",
            "Press any key to add Customisation Featurej\n",
            "How many ingredients to be included in customisations ?3\n",
            "What is the ingredient  :Chicken\n",
            "What is the price of Chicken?40.0\n",
            "What is the ingredient  :Onion\n",
            "What is the price of Onion?25.0\n",
            "What is the ingredient  :Tomato\n",
            "What is the price of Tomato?10.0\n"
          ]
        }
      ]
    },
    {
      "cell_type": "code",
      "source": [
        "items.menu"
      ],
      "metadata": {
        "colab": {
          "base_uri": "https://localhost:8080/"
        },
        "id": "aySk0pfQFvFq",
        "outputId": "a2b2ad56-ccbc-4518-e1f1-a7bc5ec5bc99"
      },
      "execution_count": null,
      "outputs": [
        {
          "output_type": "execute_result",
          "data": {
            "text/plain": [
              "{'Mexican McAloo Tikki Burger': {'Price': 250,\n",
              "  'Description': 'The Tastiest Burger in the town!',\n",
              "  'Veg': True,\n",
              "  'Type': 'Burger',\n",
              "  'Customisations': {}},\n",
              " 'Vej Maharaja Mac': {'Price': 250,\n",
              "  'Description': 'The King of Burgers is here',\n",
              "  'Veg': True,\n",
              "  'Type': 'Burger',\n",
              "  'Customisations': {'Tomato': 5.0, 'Onion': 7.5}}}"
            ]
          },
          "metadata": {},
          "execution_count": 15
        }
      ]
    },
    {
      "cell_type": "markdown",
      "source": [
        "## SAMPLE DATA"
      ],
      "metadata": {
        "id": "RR4MBo7XGRnZ"
      }
    },
    {
      "cell_type": "code",
      "source": [
        "dicti={'McAlooTikki': {'Price': 63,\n",
        "  'Description': \"The World's favourite Indian burger! Crunchy potato and peas patty with delicious Tom Mayo & crunchy onions; now with Whole Wheat Bun\",\n",
        "  'Veg': True,\n",
        "  'Type': 'Burger'},\n",
        " 'McSpicy Paneer Burger': {'Price': 200,\n",
        "  'Description': 'Rich and filling cottage cheese patty coated in spicy, crispy batter topped with a creamy sauce and crispy shredded lettuce will have you craving for more.',\n",
        "  'Veg': True,\n",
        "  'Type': 'Burger'},\n",
        " 'McVeggie Burger': {'Price': 148,\n",
        "  'Description': 'A delectable patty filled with potatoes, peas, carrots and tasty Indian spices. Topped with crispy lettuce, mayonnaise, and packed into toasted sesame buns.',\n",
        "  'Veg': True,\n",
        "  'Type': 'Burger'},\n",
        " 'Mexican McAloo Tikki Burger': {'Price': 72,\n",
        "  'Description': 'A fusion of international taste combined with your favourite aloo tikki patty, layered with shredded onion, delicious Chipotle sauce, now with Whole Wheat Bun',\n",
        "  'Veg': True,\n",
        "  'Type': 'Burger'},\n",
        " 'Veg Maharaja Mac': {'Price': 220,\n",
        "  'Description': 'Enjoy the tallest burgers innovated by us. Created with perfectly fried corn and cheese patty paired along with fresh ingredients like jalapeﺃ١o, onion, slice of cheese & crunchy lettuce dressed with cocktail sauce.',\n",
        "  'Veg': True,\n",
        "  'Type': 'Burger'},\n",
        " 'Masala McEgg Burger': {'Price': 66,\n",
        "  'Description': 'Steamed egg patty loaded with crunchy onion, habanero sauce sandwiched between toasted buns.',\n",
        "  'Veg': False,\n",
        "  'Type': 'Burger'},\n",
        " 'McChicken Burger': {'Price': 135,\n",
        "  'Description': 'Tender and juicy chicken patty cooked to perfection, with creamy mayonnaise and crunchy lettuce adding flavour to each bite.',\n",
        "  'Veg': False,\n",
        "  'Type': 'Burger'},\n",
        " 'McSpicy Chicken Burger': {'Price': 184,\n",
        "  'Description': 'Tender and juicy chicken patty coated in spicy, crispy batter topped with a creamy sauce and crispy shredded lettuce will have you craving for more.',\n",
        "  'Veg': False,\n",
        "  'Type': 'Burger'},\n",
        " 'Chicken Maharaja Mac': {'Price': 246,\n",
        "  'Description': 'Enjoy the tallest burgers innovated by us. Created with chunky juicy grilled chicken patty paired along with fresh ingredients like jalapeno, onion, slice of cheese, tomatoes & crunchy lettuce dressed with the classical Habanero sauce.',\n",
        "  'Veg': False,\n",
        "  'Type': 'Burger'},\n",
        " 'McCheese Burger Chicken': {'Price': 271,\n",
        "  'Description': 'Formerly known as Cheese Lava Chicken, this is a burger with sinfully oozing cheesy Veg patty and Flame Grilled Chicken patty, loaded with Roasted Chipotle sauce, shreddedﺁ  Onions, Jalapenos & lettuce, layered between freshly toasted Buns.',\n",
        "  'Veg': False,\n",
        "  'Type': 'Burger'},\n",
        " 'Big Spicy Chicken Wrap': {'Price': 227,\n",
        "  'Description': 'Tender and juicy chicken patty coated in spicy, crispy batter, topped with a creamy sauce, wrapped with lettuce, onions, tomatoes & seasoning and cheese. A BIG indulgence.',\n",
        "  'Veg': False,\n",
        "  'Type': 'Wrap'},\n",
        " 'Big Spicy Paneer Wrap': {'Price': 210,\n",
        "  'Description': 'Rich & filling cottage cheese patty coated in spicy crispy batter, topped with tom mayo sauce wrapped with lettuce, onions, tomatoes & cheese',\n",
        "  'Veg': True,\n",
        "  'Type': 'Wrap'},\n",
        " 'Fries': {'Price': 55,\n",
        "  'Description': 'Enjoy Salted Fries with your AMigos ',\n",
        "  'Veg': True,\n",
        "  'Type': 'Fries'},\n",
        " 'Peri Peri Fries': {'Price': 75,\n",
        "  'Description': 'Fries Sprinkled with Peri Peri on Top can be a handy munchy appetizer',\n",
        "  'Veg': True,\n",
        "  'Type': 'Fries'},\n",
        " 'Chicken Nuggets-20 pcs': {'Price': 368,\n",
        "  'Description': '20 pieces of our iconic crispy, golden fried Chicken McNuggets!',\n",
        "  'Veg': False,\n",
        "  'Type': 'Nuggets'},\n",
        " 'McSaver Wedges': {'Price': 50,\n",
        "  'Description': 'tasty wedges',\n",
        "  'Veg': True,\n",
        "  'Type': 'Wedges'},\n",
        " 'Coke': {'Price': 94,\n",
        "  'Description': 'The perfect companion to your burger, fries and everything nice',\n",
        "  'Type': 'Drinks'},\n",
        " 'Coke Zero Can': {'Price': 66,\n",
        "  'Description': 'The perfect diet companion to your burger, fries and everything nice. Regular serving size, 300 Ml.',\n",
        "  'Type': 'Drinks'},\n",
        " 'Chilli Guava Coke': {'Price': 94,\n",
        "  'Description': 'Experience our new blend of spicy guava with bubbly lemony Coke for a refreshing twist with your meal',\n",
        "  'Type': 'Drinks'},\n",
        " 'Fanta': {'Price': 94,\n",
        "  'Description': 'Add a zest of refreshing orange to your meal.',\n",
        "  'Type': 'Drinks'},\n",
        " 'Flat White': {'Price': 173,\n",
        "  'Description': 'Our signature McCafe espresso made with 100% Arabica beans, blended with steamed and slightly frothed 100% real milk',\n",
        "  'Type': 'Beverages'},\n",
        " 'Moroccan Mint Green Tea': {'Price': 190,\n",
        "  'Description': 'Freshly brewed refreshing tea with hint of Moroccon Mint flavour.',\n",
        "  'Type': 'Beverages'},\n",
        " 'Cappuccino': {'Price': 165,\n",
        "  'Description': 'A refreshingly warm shot of espresso made with 100% Arabica beans, topped with milk that is steamed to a thick, perfect froth. A classic favourite.',\n",
        "  'Type': 'Beverages'},\n",
        " 'Hot Chocolate': {'Price': 216,\n",
        "  'Description': 'Sinful chocolate whisked with silky steamed milk and topped with an even sweeter touch of chocolate.',\n",
        "  'Type': 'Beverages'},\n",
        " 'Classic Cheesy Dip': {'Price': 15,\n",
        "  'Description': 'A delicious cheesy dip, now Jain Friendly, goes well with your favourite burgers and sides.',\n",
        "  'Veg': True,\n",
        "  'Type': 'addons'},\n",
        " 'Classic Corn Cup': {'Price': 87,\n",
        "  'Description': 'A delicious side of golden sweet kernels of corn in a cup',\n",
        "  'Veg': True,\n",
        "  'Type': 'addons'},\n",
        " 'Piri Piri Spice Mix': {'Price': 23,\n",
        "  'Description': 'The perfect, taste bud tingling partner for our World Famous Fries. Shake Shake, and dive in!',\n",
        "  'Veg': True,\n",
        "  'Type': 'addons'},\n",
        " 'Barbeque Sauce': {'Price': 19,\n",
        "  'Description': 'Looking for a sauce to complement your meal? Look no further.',\n",
        "  'Veg': True,\n",
        "  'Type': 'addons'},\n",
        " 'Kit Kat McFlurry': {'Price': 118,\n",
        "  'Description': 'Indulgence starts withﺁ our creamy vanilla soft serve, swirled with pieces of crispy Kit Kat bits and creamy milk chocolate',\n",
        "  'Type': 'Desserts'},\n",
        " 'Kit Kat Sundae': {'Price': 99,\n",
        "  'Description': 'Deliciousness in a cup! With crushed Kit-Kat chocolate fingers, chocolate fudge sauce and our creamy vanilla soft serve',\n",
        "  'Type': 'Desserts'},\n",
        " 'Soft Serve Hot Fudge': {'Price': 65,\n",
        "  'Description': 'A sinful delight, soft serve topped with delicious, gooey hot chocolate fudge. Always grab an extra spoon.',\n",
        "  'Type': 'Desserts'},\n",
        " 'Brownie Hot Fudge': {'Price': 138,\n",
        "  'Description': 'Luscious chocolate brownie and hot-chocolate fudge to sweeten your day',\n",
        "  'Type': 'Desserts'}}"
      ],
      "metadata": {
        "id": "uOgCtDPmGGka"
      },
      "execution_count": null,
      "outputs": []
    },
    {
      "cell_type": "code",
      "source": [
        "dicti2 = {\n",
        "    'McAlooTikki': {\n",
        "        'Price': 63,\n",
        "        'Description': \"The World's favourite Indian burger! Crunchy potato and peas patty with delicious Tom Mayo & crunchy onions; now with Whole Wheat Bun\",\n",
        "        'Veg': True,\n",
        "        'Type': 'Burger',\n",
        "        'Customisations': {'Extra Cheese': 10.00, 'Spicy Sauce': 5.00}\n",
        "    },\n",
        "    'McSpicy Paneer Burger': {\n",
        "        'Price': 200,\n",
        "        'Description': 'Rich and filling cottage cheese patty coated in spicy, crispy batter topped with a creamy sauce and crispy shredded lettuce will have you craving for more.',\n",
        "        'Veg': True,\n",
        "        'Type': 'Burger',\n",
        "        'Customisations': {'Onions': 5.00, 'Tomatoes': 7.00, 'Lettuce': 4.00}\n",
        "    },\n",
        "    'Big Mac': {\n",
        "        'Price': 230,\n",
        "        'Description': 'The iconic double-decker burger featuring two beef patties, special sauce, lettuce, cheese, pickles, and onions on a sesame seed bun.',\n",
        "        'Veg': False,\n",
        "        'Type': 'Burger',\n",
        "        'Customisations': {'Extra Patty': 50.00, 'Bacon': 20.00}\n",
        "    },\n",
        "    'Filet-O-Fish': {\n",
        "        'Price': 180,\n",
        "        'Description': 'A delicious fish fillet with tartar sauce and shredded lettuce, served on a soft steamed bun.',\n",
        "        'Veg': False,\n",
        "        'Type': 'Burger'\n",
        "    },\n",
        "    'Spicy Chicken Sandwich': {\n",
        "        'Price': 170,\n",
        "        'Description': 'Crispy and spicy chicken patty with lettuce and mayonnaise, served on a toasted bun.',\n",
        "        'Veg': False,\n",
        "        'Type': 'Burger',\n",
        "        'Customisations': {'Extra Spicy': 5.00, 'Pickles': 3.00}\n",
        "    },\n",
        "    'Veggie Delight Wrap': {\n",
        "        'Price': 150,\n",
        "        'Description': 'A wholesome wrap filled with a variety of fresh vegetables and a tangy sauce, wrapped in a soft tortilla.',\n",
        "        'Veg': True,\n",
        "        'Type': 'Wrap'\n",
        "    },\n",
        "    'Grilled Chicken Salad': {\n",
        "        'Price': 190,\n",
        "        'Description': 'Grilled chicken breast slices served on a bed of mixed greens with a choice of dressing.',\n",
        "        'Veg': False,\n",
        "        'Type': 'Salad'\n",
        "    },\n",
        "    'Margherita Pizza': {\n",
        "        'Price': 250,\n",
        "        'Description': 'Classic Italian pizza with tomato sauce, mozzarella cheese, and fresh basil leaves.',\n",
        "        'Veg': True,\n",
        "        'Type': 'Pizza',\n",
        "        'Customisations': {'Extra Toppings (Veggies)': 15.00, 'Extra Cheese': 10.00}\n",
        "    },\n",
        "    'Pepperoni Pizza': {\n",
        "        'Price': 270,\n",
        "        'Description': 'A pizza topped with pepperoni slices, tomato sauce, and melted cheese.',\n",
        "        'Veg': False,\n",
        "        'Type': 'Pizza'\n",
        "    },\n",
        "    'Sushi Platter': {\n",
        "        'Price': 350,\n",
        "        'Description': 'Assorted sushi rolls with fresh seafood, rice, and seaweed, served with soy sauce and wasabi.',\n",
        "        'Veg': False,\n",
        "        'Type': 'Sushi'\n",
        "    },\n",
        "    'Mango Tango Smoothie': {\n",
        "        'Price': 80,\n",
        "        'Description': 'A refreshing smoothie made with ripe mangoes, yogurt, and a hint of honey.',\n",
        "        'Veg': True,\n",
        "        'Type': 'Beverage',\n",
        "        'Customisations': {'Extra Mango': 10.00, 'Whipped Cream': 5.00}\n",
        "    },\n",
        "    'Iced Caramel Macchiato': {\n",
        "        'Price': 160,\n",
        "        'Description': 'Espresso mixed with caramel syrup, milk, and ice, topped with whipped cream.',\n",
        "        'Veg': True,\n",
        "        'Type': 'Beverage'\n",
        "    },\n",
        "    'Chocolate Brownie Sundae': {\n",
        "        'Price': 120,\n",
        "        'Description': 'Warm chocolate brownie topped with vanilla ice cream, chocolate sauce, and whipped cream.',\n",
        "        'Veg': True,\n",
        "        'Type': 'Dessert'\n",
        "    },\n",
        "    'Fruit Salad': {\n",
        "        'Price': 90,\n",
        "        'Description': 'A healthy combination of fresh fruits, perfect as a light and refreshing dessert.',\n",
        "        'Veg': True,\n",
        "        'Type': 'Dessert'\n",
        "    },\n",
        "    'Chicken Tikka Masala': {\n",
        "        'Price': 220,\n",
        "        'Description': 'Tender pieces of chicken cooked in a rich tomato and cream sauce, served with naan bread.',\n",
        "        'Veg': False,\n",
        "        'Type': 'Main Course'\n",
        "    }\n",
        "}\n"
      ],
      "metadata": {
        "id": "I5ismcUIGT_X"
      },
      "execution_count": null,
      "outputs": []
    },
    {
      "cell_type": "markdown",
      "source": [
        "## Way 3 Creating Object through Sample Data using items.copy()"
      ],
      "metadata": {
        "id": "MY2Kp2UgGbyb"
      }
    },
    {
      "cell_type": "code",
      "source": [
        "items.copy(dicti2)"
      ],
      "metadata": {
        "id": "rguymmlcGWV2"
      },
      "execution_count": null,
      "outputs": []
    },
    {
      "cell_type": "code",
      "source": [
        "items.menu"
      ],
      "metadata": {
        "colab": {
          "base_uri": "https://localhost:8080/"
        },
        "id": "jTKWZS59Glc5",
        "outputId": "0a723154-9b4c-4e35-8d3a-4431baf0ea16"
      },
      "execution_count": null,
      "outputs": [
        {
          "output_type": "execute_result",
          "data": {
            "text/plain": [
              "{'Mexican McAloo Tikki Burger': {'Price': 250,\n",
              "  'Description': 'The Tastiest Burger in the town!',\n",
              "  'Veg': True,\n",
              "  'Type': 'Burger',\n",
              "  'Customisations': {}},\n",
              " 'Vej Maharaja Mac': {'Price': 250,\n",
              "  'Description': 'The King of Burgers is here',\n",
              "  'Veg': True,\n",
              "  'Type': 'Burger',\n",
              "  'Customisations': {'Onion': 5.0, 'Tomato': 7.5, 'Lettuce': 8.0}},\n",
              " 'McAlooTikki': {'Price': 63,\n",
              "  'Description': \"The World's favourite Indian burger! Crunchy potato and peas patty with delicious Tom Mayo & crunchy onions; now with Whole Wheat Bun\",\n",
              "  'Veg': True,\n",
              "  'Type': 'Burger',\n",
              "  'Customisations': {'Extra Cheese': 10.0, 'Spicy Sauce': 5.0}},\n",
              " 'McSpicy Paneer Burger': {'Price': 200,\n",
              "  'Description': 'Rich and filling cottage cheese patty coated in spicy, crispy batter topped with a creamy sauce and crispy shredded lettuce will have you craving for more.',\n",
              "  'Veg': True,\n",
              "  'Type': 'Burger',\n",
              "  'Customisations': {'Onions': 5.0, 'Tomatoes': 7.0, 'Lettuce': 4.0}},\n",
              " 'Big Mac': {'Price': 230,\n",
              "  'Description': 'The iconic double-decker burger featuring two beef patties, special sauce, lettuce, cheese, pickles, and onions on a sesame seed bun.',\n",
              "  'Veg': False,\n",
              "  'Type': 'Burger',\n",
              "  'Customisations': {'Extra Patty': 50.0, 'Bacon': 20.0}},\n",
              " 'Filet-O-Fish': {'Price': 180,\n",
              "  'Description': 'A delicious fish fillet with tartar sauce and shredded lettuce, served on a soft steamed bun.',\n",
              "  'Veg': False,\n",
              "  'Type': 'Burger',\n",
              "  'Customisations': {}},\n",
              " 'Spicy Chicken Sandwich': {'Price': 170,\n",
              "  'Description': 'Crispy and spicy chicken patty with lettuce and mayonnaise, served on a toasted bun.',\n",
              "  'Veg': False,\n",
              "  'Type': 'Burger',\n",
              "  'Customisations': {'Extra Spicy': 5.0, 'Pickles': 3.0}},\n",
              " 'Veggie Delight Wrap': {'Price': 150,\n",
              "  'Description': 'A wholesome wrap filled with a variety of fresh vegetables and a tangy sauce, wrapped in a soft tortilla.',\n",
              "  'Veg': True,\n",
              "  'Type': 'Wrap',\n",
              "  'Customisations': {}},\n",
              " 'Grilled Chicken Salad': {'Price': 190,\n",
              "  'Description': 'Grilled chicken breast slices served on a bed of mixed greens with a choice of dressing.',\n",
              "  'Veg': False,\n",
              "  'Type': 'Salad',\n",
              "  'Customisations': {}},\n",
              " 'Margherita Pizza': {'Price': 250,\n",
              "  'Description': 'Classic Italian pizza with tomato sauce, mozzarella cheese, and fresh basil leaves.',\n",
              "  'Veg': True,\n",
              "  'Type': 'Pizza',\n",
              "  'Customisations': {'Extra Toppings (Veggies)': 15.0, 'Extra Cheese': 10.0}},\n",
              " 'Pepperoni Pizza': {'Price': 270,\n",
              "  'Description': 'A pizza topped with pepperoni slices, tomato sauce, and melted cheese.',\n",
              "  'Veg': False,\n",
              "  'Type': 'Pizza',\n",
              "  'Customisations': {}},\n",
              " 'Sushi Platter': {'Price': 350,\n",
              "  'Description': 'Assorted sushi rolls with fresh seafood, rice, and seaweed, served with soy sauce and wasabi.',\n",
              "  'Veg': False,\n",
              "  'Type': 'Sushi',\n",
              "  'Customisations': {}},\n",
              " 'Mango Tango Smoothie': {'Price': 80,\n",
              "  'Description': 'A refreshing smoothie made with ripe mangoes, yogurt, and a hint of honey.',\n",
              "  'Veg': True,\n",
              "  'Type': 'Beverage',\n",
              "  'Customisations': {'Extra Mango': 10.0, 'Whipped Cream': 5.0}},\n",
              " 'Iced Caramel Macchiato': {'Price': 160,\n",
              "  'Description': 'Espresso mixed with caramel syrup, milk, and ice, topped with whipped cream.',\n",
              "  'Veg': True,\n",
              "  'Type': 'Beverage',\n",
              "  'Customisations': {}},\n",
              " 'Chocolate Brownie Sundae': {'Price': 120,\n",
              "  'Description': 'Warm chocolate brownie topped with vanilla ice cream, chocolate sauce, and whipped cream.',\n",
              "  'Veg': True,\n",
              "  'Type': 'Dessert',\n",
              "  'Customisations': {}},\n",
              " 'Fruit Salad': {'Price': 90,\n",
              "  'Description': 'A healthy combination of fresh fruits, perfect as a light and refreshing dessert.',\n",
              "  'Veg': True,\n",
              "  'Type': 'Dessert',\n",
              "  'Customisations': {}},\n",
              " 'Chicken Tikka Masala': {'Price': 220,\n",
              "  'Description': 'Tender pieces of chicken cooked in a rich tomato and cream sauce, served with naan bread.',\n",
              "  'Veg': False,\n",
              "  'Type': 'Main Course',\n",
              "  'Customisations': {}}}"
            ]
          },
          "metadata": {},
          "execution_count": 18
        }
      ]
    },
    {
      "cell_type": "markdown",
      "source": [
        "## Display Base Menu Page"
      ],
      "metadata": {
        "id": "vfzI3BDKGwr2"
      }
    },
    {
      "cell_type": "code",
      "source": [
        "def menu_base():\n",
        "  unique=[]\n",
        "  for k,v in items.menu.items():\n",
        "    if v['Type'] not in unique:\n",
        "      unique.append(v['Type'])\n",
        "  return unique\n"
      ],
      "metadata": {
        "id": "h29Zmb5lGxOZ"
      },
      "execution_count": null,
      "outputs": []
    },
    {
      "cell_type": "code",
      "source": [
        "menu_base()"
      ],
      "metadata": {
        "colab": {
          "base_uri": "https://localhost:8080/"
        },
        "id": "rQppJOemG3gU",
        "outputId": "335d05aa-56f7-4024-99c2-d18fa82dfbc8"
      },
      "execution_count": null,
      "outputs": [
        {
          "output_type": "execute_result",
          "data": {
            "text/plain": [
              "['Burger',\n",
              " 'Wrap',\n",
              " 'Salad',\n",
              " 'Pizza',\n",
              " 'Sushi',\n",
              " 'Beverage',\n",
              " 'Dessert',\n",
              " 'Main Course']"
            ]
          },
          "metadata": {},
          "execution_count": 20
        }
      ]
    },
    {
      "cell_type": "markdown",
      "source": [
        "## Display Sub Menu Page"
      ],
      "metadata": {
        "id": "jLSYf38ZHGU1"
      }
    },
    {
      "cell_type": "code",
      "source": [
        "def sub_menu():\n",
        "  print(menu_base())\n",
        "  fetch=str(input(\"What dishes are you looking for?\"))\n",
        "  for k,v in items.menu.items():\n",
        "    if v['Type']==fetch:\n",
        "      print(k,'  :  ',v)"
      ],
      "metadata": {
        "id": "IMDYU36iG5Ry"
      },
      "execution_count": null,
      "outputs": []
    },
    {
      "cell_type": "code",
      "source": [
        "sub_menu()"
      ],
      "metadata": {
        "colab": {
          "base_uri": "https://localhost:8080/"
        },
        "id": "zKWAnoz9HJrF",
        "outputId": "aa5d5e5f-d800-4aad-a0f9-a3a290590f45"
      },
      "execution_count": null,
      "outputs": [
        {
          "output_type": "stream",
          "name": "stdout",
          "text": [
            "['Burger', 'Wrap', 'Salad', 'Pizza', 'Sushi', 'Beverage', 'Dessert', 'Main Course']\n",
            "What dishes are you looking for?Main Course\n",
            "Chicken Tikka Masala   :   {'Price': 220, 'Description': 'Tender pieces of chicken cooked in a rich tomato and cream sauce, served with naan bread.', 'Veg': False, 'Type': 'Main Course', 'Customisations': {}}\n"
          ]
        }
      ]
    },
    {
      "cell_type": "markdown",
      "source": [
        "## *FUNCTION FOR FETCHING MENU FROM SERVICE CONSUMER*"
      ],
      "metadata": {
        "id": "-31pulUrHUOM"
      }
    },
    {
      "cell_type": "code",
      "source": [
        "def get_menu():\n",
        "  num=int(input('How many dishes you want to add?'))\n",
        "  disc=float(input('What is the discount you want to set?'))\n",
        "  tax=float(input('What is tax percent in your Country?'))\n",
        "  for i in range(num):\n",
        "    items.get()\n",
        "  for k,v in items.menu.items():\n",
        "      v['Discount Price']=v['price']*(1-(disc/100))\n",
        "      v['Discount']=disc\n",
        "      v['Tax']=round(v['price']*(tax/100),2)\n",
        "      v['Taxed Price']=v['Discount Price']+v['Tax']\n"
      ],
      "metadata": {
        "id": "X3eaYc7JHLIn"
      },
      "execution_count": null,
      "outputs": []
    },
    {
      "cell_type": "markdown",
      "source": [
        "#Function for Making Menu from Sample Menu"
      ],
      "metadata": {
        "id": "uoxyIsCdUnoZ"
      }
    },
    {
      "cell_type": "code",
      "source": [
        "def process_menu(dictionaryy):\n",
        "\n",
        "  items.copy(dictionaryy)\n",
        "  disc=float(input('What is the discount you want to set?'))\n",
        "  tax=float(input('What is tax percent in your Country?'))\n",
        "  for k,v in items.menu.items():\n",
        "      v['Discount Price']=v['Price']*(1-(disc/100))\n",
        "      v['Discount']=disc\n",
        "      v['Tax']=round(v['Price']*(tax/100),2)\n",
        "      v['Taxed Price']=v['Discount Price']+v['Tax']\n"
      ],
      "metadata": {
        "id": "tcUhiSPhUoPa"
      },
      "execution_count": null,
      "outputs": []
    },
    {
      "cell_type": "code",
      "source": [
        "items.menu"
      ],
      "metadata": {
        "colab": {
          "base_uri": "https://localhost:8080/"
        },
        "id": "fapuaN3MQs9_",
        "outputId": "b796df73-c4b2-415e-ebb6-b32e88bca2a7"
      },
      "execution_count": null,
      "outputs": [
        {
          "output_type": "execute_result",
          "data": {
            "text/plain": [
              "{'Mexican McAloo Tikki Burger': {'Price': 250,\n",
              "  'Description': 'The Tastiest Burger in the town!',\n",
              "  'Veg': True,\n",
              "  'Type': 'Burger',\n",
              "  'Customisations': {}},\n",
              " 'Vej Maharaja Mac': {'Price': 250,\n",
              "  'Description': 'The King of Burgers is here',\n",
              "  'Veg': True,\n",
              "  'Type': 'Burger',\n",
              "  'Customisations': {'Onion': 5.0, 'Tomato': 7.5, 'Lettuce': 8.0}},\n",
              " 'McAlooTikki': {'Price': 63,\n",
              "  'Description': \"The World's favourite Indian burger! Crunchy potato and peas patty with delicious Tom Mayo & crunchy onions; now with Whole Wheat Bun\",\n",
              "  'Veg': True,\n",
              "  'Type': 'Burger',\n",
              "  'Customisations': {'Extra Cheese': 10.0, 'Spicy Sauce': 5.0}},\n",
              " 'McSpicy Paneer Burger': {'Price': 200,\n",
              "  'Description': 'Rich and filling cottage cheese patty coated in spicy, crispy batter topped with a creamy sauce and crispy shredded lettuce will have you craving for more.',\n",
              "  'Veg': True,\n",
              "  'Type': 'Burger',\n",
              "  'Customisations': {'Onions': 5.0, 'Tomatoes': 7.0, 'Lettuce': 4.0}},\n",
              " 'Big Mac': {'Price': 230,\n",
              "  'Description': 'The iconic double-decker burger featuring two beef patties, special sauce, lettuce, cheese, pickles, and onions on a sesame seed bun.',\n",
              "  'Veg': False,\n",
              "  'Type': 'Burger',\n",
              "  'Customisations': {'Extra Patty': 50.0, 'Bacon': 20.0}},\n",
              " 'Filet-O-Fish': {'Price': 180,\n",
              "  'Description': 'A delicious fish fillet with tartar sauce and shredded lettuce, served on a soft steamed bun.',\n",
              "  'Veg': False,\n",
              "  'Type': 'Burger',\n",
              "  'Customisations': {}},\n",
              " 'Spicy Chicken Sandwich': {'Price': 170,\n",
              "  'Description': 'Crispy and spicy chicken patty with lettuce and mayonnaise, served on a toasted bun.',\n",
              "  'Veg': False,\n",
              "  'Type': 'Burger',\n",
              "  'Customisations': {'Extra Spicy': 5.0, 'Pickles': 3.0}},\n",
              " 'Veggie Delight Wrap': {'Price': 150,\n",
              "  'Description': 'A wholesome wrap filled with a variety of fresh vegetables and a tangy sauce, wrapped in a soft tortilla.',\n",
              "  'Veg': True,\n",
              "  'Type': 'Wrap',\n",
              "  'Customisations': {}},\n",
              " 'Grilled Chicken Salad': {'Price': 190,\n",
              "  'Description': 'Grilled chicken breast slices served on a bed of mixed greens with a choice of dressing.',\n",
              "  'Veg': False,\n",
              "  'Type': 'Salad',\n",
              "  'Customisations': {}},\n",
              " 'Margherita Pizza': {'Price': 250,\n",
              "  'Description': 'Classic Italian pizza with tomato sauce, mozzarella cheese, and fresh basil leaves.',\n",
              "  'Veg': True,\n",
              "  'Type': 'Pizza',\n",
              "  'Customisations': {'Extra Toppings (Veggies)': 15.0, 'Extra Cheese': 10.0}},\n",
              " 'Pepperoni Pizza': {'Price': 270,\n",
              "  'Description': 'A pizza topped with pepperoni slices, tomato sauce, and melted cheese.',\n",
              "  'Veg': False,\n",
              "  'Type': 'Pizza',\n",
              "  'Customisations': {}},\n",
              " 'Sushi Platter': {'Price': 350,\n",
              "  'Description': 'Assorted sushi rolls with fresh seafood, rice, and seaweed, served with soy sauce and wasabi.',\n",
              "  'Veg': False,\n",
              "  'Type': 'Sushi',\n",
              "  'Customisations': {}},\n",
              " 'Mango Tango Smoothie': {'Price': 80,\n",
              "  'Description': 'A refreshing smoothie made with ripe mangoes, yogurt, and a hint of honey.',\n",
              "  'Veg': True,\n",
              "  'Type': 'Beverage',\n",
              "  'Customisations': {'Extra Mango': 10.0, 'Whipped Cream': 5.0}},\n",
              " 'Iced Caramel Macchiato': {'Price': 160,\n",
              "  'Description': 'Espresso mixed with caramel syrup, milk, and ice, topped with whipped cream.',\n",
              "  'Veg': True,\n",
              "  'Type': 'Beverage',\n",
              "  'Customisations': {}},\n",
              " 'Chocolate Brownie Sundae': {'Price': 120,\n",
              "  'Description': 'Warm chocolate brownie topped with vanilla ice cream, chocolate sauce, and whipped cream.',\n",
              "  'Veg': True,\n",
              "  'Type': 'Dessert',\n",
              "  'Customisations': {}},\n",
              " 'Fruit Salad': {'Price': 90,\n",
              "  'Description': 'A healthy combination of fresh fruits, perfect as a light and refreshing dessert.',\n",
              "  'Veg': True,\n",
              "  'Type': 'Dessert',\n",
              "  'Customisations': {}},\n",
              " 'Chicken Tikka Masala': {'Price': 220,\n",
              "  'Description': 'Tender pieces of chicken cooked in a rich tomato and cream sauce, served with naan bread.',\n",
              "  'Veg': False,\n",
              "  'Type': 'Main Course',\n",
              "  'Customisations': {}}}"
            ]
          },
          "metadata": {},
          "execution_count": 25
        }
      ]
    },
    {
      "cell_type": "code",
      "source": [
        "process_menu(dicti2)"
      ],
      "metadata": {
        "colab": {
          "base_uri": "https://localhost:8080/"
        },
        "id": "wZYvsscOUrKn",
        "outputId": "1679e5ec-2118-4b8f-8fc3-4c0c457b5874"
      },
      "execution_count": null,
      "outputs": [
        {
          "name": "stdout",
          "output_type": "stream",
          "text": [
            "What is the discount you want to set?7\n",
            "What is tax percent in your Country?18\n"
          ]
        }
      ]
    },
    {
      "cell_type": "code",
      "source": [
        "items.menu"
      ],
      "metadata": {
        "colab": {
          "base_uri": "https://localhost:8080/"
        },
        "id": "J-9dzMe6U2eU",
        "outputId": "f6bb3ebf-c515-4fef-991a-f0279fbc333e"
      },
      "execution_count": null,
      "outputs": [
        {
          "output_type": "execute_result",
          "data": {
            "text/plain": [
              "{'Mexican McAloo Tikki Burger': {'Price': 250,\n",
              "  'Description': 'The Tastiest Burger in the town!',\n",
              "  'Veg': True,\n",
              "  'Type': 'Burger',\n",
              "  'Customisations': {},\n",
              "  'Discount Price': 232.49999999999997,\n",
              "  'Discount': 7.0,\n",
              "  'Tax': 45.0,\n",
              "  'Taxed Price': 277.5},\n",
              " 'Vej Maharaja Mac': {'Price': 250,\n",
              "  'Description': 'The King of Burgers is here',\n",
              "  'Veg': True,\n",
              "  'Type': 'Burger',\n",
              "  'Customisations': {'Onion': 5.0, 'Tomato': 7.5, 'Lettuce': 8.0},\n",
              "  'Discount Price': 232.49999999999997,\n",
              "  'Discount': 7.0,\n",
              "  'Tax': 45.0,\n",
              "  'Taxed Price': 277.5},\n",
              " 'McAlooTikki': {'Price': 63,\n",
              "  'Description': \"The World's favourite Indian burger! Crunchy potato and peas patty with delicious Tom Mayo & crunchy onions; now with Whole Wheat Bun\",\n",
              "  'Veg': True,\n",
              "  'Type': 'Burger',\n",
              "  'Customisations': {'Extra Cheese': 10.0, 'Spicy Sauce': 5.0},\n",
              "  'Discount Price': 58.589999999999996,\n",
              "  'Discount': 7.0,\n",
              "  'Tax': 11.34,\n",
              "  'Taxed Price': 69.92999999999999},\n",
              " 'McSpicy Paneer Burger': {'Price': 200,\n",
              "  'Description': 'Rich and filling cottage cheese patty coated in spicy, crispy batter topped with a creamy sauce and crispy shredded lettuce will have you craving for more.',\n",
              "  'Veg': True,\n",
              "  'Type': 'Burger',\n",
              "  'Customisations': {'Onions': 5.0, 'Tomatoes': 7.0, 'Lettuce': 4.0},\n",
              "  'Discount Price': 186.0,\n",
              "  'Discount': 7.0,\n",
              "  'Tax': 36.0,\n",
              "  'Taxed Price': 222.0},\n",
              " 'Big Mac': {'Price': 230,\n",
              "  'Description': 'The iconic double-decker burger featuring two beef patties, special sauce, lettuce, cheese, pickles, and onions on a sesame seed bun.',\n",
              "  'Veg': False,\n",
              "  'Type': 'Burger',\n",
              "  'Customisations': {'Extra Patty': 50.0, 'Bacon': 20.0},\n",
              "  'Discount Price': 213.89999999999998,\n",
              "  'Discount': 7.0,\n",
              "  'Tax': 41.4,\n",
              "  'Taxed Price': 255.29999999999998},\n",
              " 'Filet-O-Fish': {'Price': 180,\n",
              "  'Description': 'A delicious fish fillet with tartar sauce and shredded lettuce, served on a soft steamed bun.',\n",
              "  'Veg': False,\n",
              "  'Type': 'Burger',\n",
              "  'Customisations': {},\n",
              "  'Discount Price': 167.39999999999998,\n",
              "  'Discount': 7.0,\n",
              "  'Tax': 32.4,\n",
              "  'Taxed Price': 199.79999999999998},\n",
              " 'Spicy Chicken Sandwich': {'Price': 170,\n",
              "  'Description': 'Crispy and spicy chicken patty with lettuce and mayonnaise, served on a toasted bun.',\n",
              "  'Veg': False,\n",
              "  'Type': 'Burger',\n",
              "  'Customisations': {'Extra Spicy': 5.0, 'Pickles': 3.0},\n",
              "  'Discount Price': 158.1,\n",
              "  'Discount': 7.0,\n",
              "  'Tax': 30.6,\n",
              "  'Taxed Price': 188.7},\n",
              " 'Veggie Delight Wrap': {'Price': 150,\n",
              "  'Description': 'A wholesome wrap filled with a variety of fresh vegetables and a tangy sauce, wrapped in a soft tortilla.',\n",
              "  'Veg': True,\n",
              "  'Type': 'Wrap',\n",
              "  'Customisations': {},\n",
              "  'Discount Price': 139.5,\n",
              "  'Discount': 7.0,\n",
              "  'Tax': 27.0,\n",
              "  'Taxed Price': 166.5},\n",
              " 'Grilled Chicken Salad': {'Price': 190,\n",
              "  'Description': 'Grilled chicken breast slices served on a bed of mixed greens with a choice of dressing.',\n",
              "  'Veg': False,\n",
              "  'Type': 'Salad',\n",
              "  'Customisations': {},\n",
              "  'Discount Price': 176.7,\n",
              "  'Discount': 7.0,\n",
              "  'Tax': 34.2,\n",
              "  'Taxed Price': 210.89999999999998},\n",
              " 'Margherita Pizza': {'Price': 250,\n",
              "  'Description': 'Classic Italian pizza with tomato sauce, mozzarella cheese, and fresh basil leaves.',\n",
              "  'Veg': True,\n",
              "  'Type': 'Pizza',\n",
              "  'Customisations': {'Extra Toppings (Veggies)': 15.0, 'Extra Cheese': 10.0},\n",
              "  'Discount Price': 232.49999999999997,\n",
              "  'Discount': 7.0,\n",
              "  'Tax': 45.0,\n",
              "  'Taxed Price': 277.5},\n",
              " 'Pepperoni Pizza': {'Price': 270,\n",
              "  'Description': 'A pizza topped with pepperoni slices, tomato sauce, and melted cheese.',\n",
              "  'Veg': False,\n",
              "  'Type': 'Pizza',\n",
              "  'Customisations': {},\n",
              "  'Discount Price': 251.1,\n",
              "  'Discount': 7.0,\n",
              "  'Tax': 48.6,\n",
              "  'Taxed Price': 299.7},\n",
              " 'Sushi Platter': {'Price': 350,\n",
              "  'Description': 'Assorted sushi rolls with fresh seafood, rice, and seaweed, served with soy sauce and wasabi.',\n",
              "  'Veg': False,\n",
              "  'Type': 'Sushi',\n",
              "  'Customisations': {},\n",
              "  'Discount Price': 325.5,\n",
              "  'Discount': 7.0,\n",
              "  'Tax': 63.0,\n",
              "  'Taxed Price': 388.5},\n",
              " 'Mango Tango Smoothie': {'Price': 80,\n",
              "  'Description': 'A refreshing smoothie made with ripe mangoes, yogurt, and a hint of honey.',\n",
              "  'Veg': True,\n",
              "  'Type': 'Beverage',\n",
              "  'Customisations': {'Extra Mango': 10.0, 'Whipped Cream': 5.0},\n",
              "  'Discount Price': 74.39999999999999,\n",
              "  'Discount': 7.0,\n",
              "  'Tax': 14.4,\n",
              "  'Taxed Price': 88.8},\n",
              " 'Iced Caramel Macchiato': {'Price': 160,\n",
              "  'Description': 'Espresso mixed with caramel syrup, milk, and ice, topped with whipped cream.',\n",
              "  'Veg': True,\n",
              "  'Type': 'Beverage',\n",
              "  'Customisations': {},\n",
              "  'Discount Price': 148.79999999999998,\n",
              "  'Discount': 7.0,\n",
              "  'Tax': 28.8,\n",
              "  'Taxed Price': 177.6},\n",
              " 'Chocolate Brownie Sundae': {'Price': 120,\n",
              "  'Description': 'Warm chocolate brownie topped with vanilla ice cream, chocolate sauce, and whipped cream.',\n",
              "  'Veg': True,\n",
              "  'Type': 'Dessert',\n",
              "  'Customisations': {},\n",
              "  'Discount Price': 111.6,\n",
              "  'Discount': 7.0,\n",
              "  'Tax': 21.6,\n",
              "  'Taxed Price': 133.2},\n",
              " 'Fruit Salad': {'Price': 90,\n",
              "  'Description': 'A healthy combination of fresh fruits, perfect as a light and refreshing dessert.',\n",
              "  'Veg': True,\n",
              "  'Type': 'Dessert',\n",
              "  'Customisations': {},\n",
              "  'Discount Price': 83.69999999999999,\n",
              "  'Discount': 7.0,\n",
              "  'Tax': 16.2,\n",
              "  'Taxed Price': 99.89999999999999},\n",
              " 'Chicken Tikka Masala': {'Price': 220,\n",
              "  'Description': 'Tender pieces of chicken cooked in a rich tomato and cream sauce, served with naan bread.',\n",
              "  'Veg': False,\n",
              "  'Type': 'Main Course',\n",
              "  'Customisations': {},\n",
              "  'Discount Price': 204.6,\n",
              "  'Discount': 7.0,\n",
              "  'Tax': 39.6,\n",
              "  'Taxed Price': 244.2}}"
            ]
          },
          "metadata": {},
          "execution_count": 27
        }
      ]
    },
    {
      "cell_type": "markdown",
      "source": [
        "## Function to Show the Menu"
      ],
      "metadata": {
        "id": "usEw80cshMfI"
      }
    },
    {
      "cell_type": "code",
      "source": [
        "def show_menu():\n",
        "  import pprint\n",
        "  pprint.pprint(items.menu)\n"
      ],
      "metadata": {
        "id": "4fwgO36ZhMJA"
      },
      "execution_count": null,
      "outputs": []
    },
    {
      "cell_type": "code",
      "source": [
        "show_menu()"
      ],
      "metadata": {
        "colab": {
          "base_uri": "https://localhost:8080/"
        },
        "id": "szg15k_Wu3yL",
        "outputId": "850be138-9c0c-4710-cf78-3bcdfe17db80"
      },
      "execution_count": null,
      "outputs": [
        {
          "output_type": "stream",
          "name": "stdout",
          "text": [
            "{'Big Mac': {'Customisations': {'Bacon': 20.0, 'Extra Patty': 50.0},\n",
            "             'Description': 'The iconic double-decker burger featuring two '\n",
            "                            'beef patties, special sauce, lettuce, cheese, '\n",
            "                            'pickles, and onions on a sesame seed bun.',\n",
            "             'Discount': 7.0,\n",
            "             'Discount Price': 213.89999999999998,\n",
            "             'Price': 230,\n",
            "             'Tax': 41.4,\n",
            "             'Taxed Price': 255.29999999999998,\n",
            "             'Type': 'Burger',\n",
            "             'Veg': False},\n",
            " 'Chicken Tikka Masala': {'Customisations': {},\n",
            "                          'Description': 'Tender pieces of chicken cooked in a '\n",
            "                                         'rich tomato and cream sauce, served '\n",
            "                                         'with naan bread.',\n",
            "                          'Discount': 7.0,\n",
            "                          'Discount Price': 204.6,\n",
            "                          'Price': 220,\n",
            "                          'Tax': 39.6,\n",
            "                          'Taxed Price': 244.2,\n",
            "                          'Type': 'Main Course',\n",
            "                          'Veg': False},\n",
            " 'Chocolate Brownie Sundae': {'Customisations': {},\n",
            "                              'Description': 'Warm chocolate brownie topped '\n",
            "                                             'with vanilla ice cream, '\n",
            "                                             'chocolate sauce, and whipped '\n",
            "                                             'cream.',\n",
            "                              'Discount': 7.0,\n",
            "                              'Discount Price': 111.6,\n",
            "                              'Price': 120,\n",
            "                              'Tax': 21.6,\n",
            "                              'Taxed Price': 133.2,\n",
            "                              'Type': 'Dessert',\n",
            "                              'Veg': True},\n",
            " 'Filet-O-Fish': {'Customisations': {},\n",
            "                  'Description': 'A delicious fish fillet with tartar sauce '\n",
            "                                 'and shredded lettuce, served on a soft '\n",
            "                                 'steamed bun.',\n",
            "                  'Discount': 7.0,\n",
            "                  'Discount Price': 167.39999999999998,\n",
            "                  'Price': 180,\n",
            "                  'Tax': 32.4,\n",
            "                  'Taxed Price': 199.79999999999998,\n",
            "                  'Type': 'Burger',\n",
            "                  'Veg': False},\n",
            " 'Fruit Salad': {'Customisations': {},\n",
            "                 'Description': 'A healthy combination of fresh fruits, '\n",
            "                                'perfect as a light and refreshing dessert.',\n",
            "                 'Discount': 7.0,\n",
            "                 'Discount Price': 83.69999999999999,\n",
            "                 'Price': 90,\n",
            "                 'Tax': 16.2,\n",
            "                 'Taxed Price': 99.89999999999999,\n",
            "                 'Type': 'Dessert',\n",
            "                 'Veg': True},\n",
            " 'Grilled Chicken Salad': {'Customisations': {},\n",
            "                           'Description': 'Grilled chicken breast slices '\n",
            "                                          'served on a bed of mixed greens '\n",
            "                                          'with a choice of dressing.',\n",
            "                           'Discount': 7.0,\n",
            "                           'Discount Price': 176.7,\n",
            "                           'Price': 190,\n",
            "                           'Tax': 34.2,\n",
            "                           'Taxed Price': 210.89999999999998,\n",
            "                           'Type': 'Salad',\n",
            "                           'Veg': False},\n",
            " 'Iced Caramel Macchiato': {'Customisations': {},\n",
            "                            'Description': 'Espresso mixed with caramel syrup, '\n",
            "                                           'milk, and ice, topped with whipped '\n",
            "                                           'cream.',\n",
            "                            'Discount': 7.0,\n",
            "                            'Discount Price': 148.79999999999998,\n",
            "                            'Price': 160,\n",
            "                            'Tax': 28.8,\n",
            "                            'Taxed Price': 177.6,\n",
            "                            'Type': 'Beverage',\n",
            "                            'Veg': True},\n",
            " 'Mango Tango Smoothie': {'Customisations': {'Extra Mango': 10.0,\n",
            "                                             'Whipped Cream': 5.0},\n",
            "                          'Description': 'A refreshing smoothie made with ripe '\n",
            "                                         'mangoes, yogurt, and a hint of '\n",
            "                                         'honey.',\n",
            "                          'Discount': 7.0,\n",
            "                          'Discount Price': 74.39999999999999,\n",
            "                          'Price': 80,\n",
            "                          'Tax': 14.4,\n",
            "                          'Taxed Price': 88.8,\n",
            "                          'Type': 'Beverage',\n",
            "                          'Veg': True},\n",
            " 'Margherita Pizza': {'Customisations': {'Extra Cheese': 10.0,\n",
            "                                         'Extra Toppings (Veggies)': 15.0},\n",
            "                      'Description': 'Classic Italian pizza with tomato sauce, '\n",
            "                                     'mozzarella cheese, and fresh basil '\n",
            "                                     'leaves.',\n",
            "                      'Discount': 7.0,\n",
            "                      'Discount Price': 232.49999999999997,\n",
            "                      'Price': 250,\n",
            "                      'Tax': 45.0,\n",
            "                      'Taxed Price': 277.5,\n",
            "                      'Type': 'Pizza',\n",
            "                      'Veg': True},\n",
            " 'McAlooTikki': {'Customisations': {'Extra Cheese': 10.0, 'Spicy Sauce': 5.0},\n",
            "                 'Description': \"The World's favourite Indian burger! Crunchy \"\n",
            "                                'potato and peas patty with delicious Tom Mayo '\n",
            "                                '& crunchy onions; now with Whole Wheat Bun',\n",
            "                 'Discount': 7.0,\n",
            "                 'Discount Price': 58.589999999999996,\n",
            "                 'Price': 63,\n",
            "                 'Tax': 11.34,\n",
            "                 'Taxed Price': 69.92999999999999,\n",
            "                 'Type': 'Burger',\n",
            "                 'Veg': True},\n",
            " 'McSpicy Paneer Burger': {'Customisations': {'Lettuce': 4.0,\n",
            "                                              'Onions': 5.0,\n",
            "                                              'Tomatoes': 7.0},\n",
            "                           'Description': 'Rich and filling cottage cheese '\n",
            "                                          'patty coated in spicy, crispy '\n",
            "                                          'batter topped with a creamy sauce '\n",
            "                                          'and crispy shredded lettuce will '\n",
            "                                          'have you craving for more.',\n",
            "                           'Discount': 7.0,\n",
            "                           'Discount Price': 186.0,\n",
            "                           'Price': 200,\n",
            "                           'Tax': 36.0,\n",
            "                           'Taxed Price': 222.0,\n",
            "                           'Type': 'Burger',\n",
            "                           'Veg': True},\n",
            " 'Mexican McAloo Tikki Burger': {'Customisations': {},\n",
            "                                 'Description': 'The Tastiest Burger in the '\n",
            "                                                'town!',\n",
            "                                 'Discount': 7.0,\n",
            "                                 'Discount Price': 232.49999999999997,\n",
            "                                 'Price': 250,\n",
            "                                 'Tax': 45.0,\n",
            "                                 'Taxed Price': 277.5,\n",
            "                                 'Type': 'Burger',\n",
            "                                 'Veg': True},\n",
            " 'Pepperoni Pizza': {'Customisations': {},\n",
            "                     'Description': 'A pizza topped with pepperoni slices, '\n",
            "                                    'tomato sauce, and melted cheese.',\n",
            "                     'Discount': 7.0,\n",
            "                     'Discount Price': 251.1,\n",
            "                     'Price': 270,\n",
            "                     'Tax': 48.6,\n",
            "                     'Taxed Price': 299.7,\n",
            "                     'Type': 'Pizza',\n",
            "                     'Veg': False},\n",
            " 'Spicy Chicken Sandwich': {'Customisations': {'Extra Spicy': 5.0,\n",
            "                                               'Pickles': 3.0},\n",
            "                            'Description': 'Crispy and spicy chicken patty '\n",
            "                                           'with lettuce and mayonnaise, '\n",
            "                                           'served on a toasted bun.',\n",
            "                            'Discount': 7.0,\n",
            "                            'Discount Price': 158.1,\n",
            "                            'Price': 170,\n",
            "                            'Tax': 30.6,\n",
            "                            'Taxed Price': 188.7,\n",
            "                            'Type': 'Burger',\n",
            "                            'Veg': False},\n",
            " 'Sushi Platter': {'Customisations': {},\n",
            "                   'Description': 'Assorted sushi rolls with fresh seafood, '\n",
            "                                  'rice, and seaweed, served with soy sauce '\n",
            "                                  'and wasabi.',\n",
            "                   'Discount': 7.0,\n",
            "                   'Discount Price': 325.5,\n",
            "                   'Price': 350,\n",
            "                   'Tax': 63.0,\n",
            "                   'Taxed Price': 388.5,\n",
            "                   'Type': 'Sushi',\n",
            "                   'Veg': False},\n",
            " 'Veggie Delight Wrap': {'Customisations': {},\n",
            "                         'Description': 'A wholesome wrap filled with a '\n",
            "                                        'variety of fresh vegetables and a '\n",
            "                                        'tangy sauce, wrapped in a soft '\n",
            "                                        'tortilla.',\n",
            "                         'Discount': 7.0,\n",
            "                         'Discount Price': 139.5,\n",
            "                         'Price': 150,\n",
            "                         'Tax': 27.0,\n",
            "                         'Taxed Price': 166.5,\n",
            "                         'Type': 'Wrap',\n",
            "                         'Veg': True},\n",
            " 'Vej Maharaja Mac': {'Customisations': {'Lettuce': 8.0,\n",
            "                                         'Onion': 5.0,\n",
            "                                         'Tomato': 7.5},\n",
            "                      'Description': 'The King of Burgers is here',\n",
            "                      'Discount': 7.0,\n",
            "                      'Discount Price': 232.49999999999997,\n",
            "                      'Price': 250,\n",
            "                      'Tax': 45.0,\n",
            "                      'Taxed Price': 277.5,\n",
            "                      'Type': 'Burger',\n",
            "                      'Veg': True}}\n"
          ]
        }
      ]
    },
    {
      "cell_type": "markdown",
      "source": [
        "## Function to Clear the Menu"
      ],
      "metadata": {
        "id": "XsxBGJ_lVMGG"
      }
    },
    {
      "cell_type": "code",
      "source": [
        "def empty_menu():\n",
        "  items.menu={}"
      ],
      "metadata": {
        "id": "DmXhJEG3U6a_"
      },
      "execution_count": null,
      "outputs": []
    },
    {
      "cell_type": "code",
      "source": [
        "items.menu"
      ],
      "metadata": {
        "colab": {
          "base_uri": "https://localhost:8080/"
        },
        "id": "I0qs6x1rVSpM",
        "outputId": "d172661b-d079-467c-8efb-4722bdcf9309"
      },
      "execution_count": null,
      "outputs": [
        {
          "output_type": "execute_result",
          "data": {
            "text/plain": [
              "{'Mexican McAloo Tikki Burger': {'Price': 250,\n",
              "  'Description': 'The Tastiest Burger in the town!',\n",
              "  'Veg': True,\n",
              "  'Type': 'Burger',\n",
              "  'Customisations': {},\n",
              "  'Discount Price': 187.5,\n",
              "  'Discount': 25.0,\n",
              "  'Tax': 45.0,\n",
              "  'Taxed Price': 232.5},\n",
              " 'Vej Maharaja Mac': {'Price': 250,\n",
              "  'Description': 'The King of Burgers is here',\n",
              "  'Veg': True,\n",
              "  'Type': 'Burger',\n",
              "  'Customisations': {'Tomato': 5.0, 'Onion': 7.5},\n",
              "  'Discount Price': 187.5,\n",
              "  'Discount': 25.0,\n",
              "  'Tax': 45.0,\n",
              "  'Taxed Price': 232.5},\n",
              " 'McAlooTikki': {'Price': 63,\n",
              "  'Description': \"The World's favourite Indian burger! Crunchy potato and peas patty with delicious Tom Mayo & crunchy onions; now with Whole Wheat Bun\",\n",
              "  'Veg': True,\n",
              "  'Type': 'Burger',\n",
              "  'Customisations': {'Extra Cheese': 10.0, 'Spicy Sauce': 5.0},\n",
              "  'Discount Price': 47.25,\n",
              "  'Discount': 25.0,\n",
              "  'Tax': 11.34,\n",
              "  'Taxed Price': 58.59},\n",
              " 'McSpicy Paneer Burger': {'Price': 200,\n",
              "  'Description': 'Rich and filling cottage cheese patty coated in spicy, crispy batter topped with a creamy sauce and crispy shredded lettuce will have you craving for more.',\n",
              "  'Veg': True,\n",
              "  'Type': 'Burger',\n",
              "  'Customisations': {'Onions': 5.0, 'Tomatoes': 7.0, 'Lettuce': 4.0},\n",
              "  'Discount Price': 150.0,\n",
              "  'Discount': 25.0,\n",
              "  'Tax': 36.0,\n",
              "  'Taxed Price': 186.0},\n",
              " 'Big Mac': {'Price': 230,\n",
              "  'Description': 'The iconic double-decker burger featuring two beef patties, special sauce, lettuce, cheese, pickles, and onions on a sesame seed bun.',\n",
              "  'Veg': False,\n",
              "  'Type': 'Burger',\n",
              "  'Customisations': {'Extra Patty': 50.0, 'Bacon': 20.0},\n",
              "  'Discount Price': 172.5,\n",
              "  'Discount': 25.0,\n",
              "  'Tax': 41.4,\n",
              "  'Taxed Price': 213.9},\n",
              " 'Filet-O-Fish': {'Price': 180,\n",
              "  'Description': 'A delicious fish fillet with tartar sauce and shredded lettuce, served on a soft steamed bun.',\n",
              "  'Veg': False,\n",
              "  'Type': 'Burger',\n",
              "  'Customisations': {},\n",
              "  'Discount Price': 135.0,\n",
              "  'Discount': 25.0,\n",
              "  'Tax': 32.4,\n",
              "  'Taxed Price': 167.4},\n",
              " 'Spicy Chicken Sandwich': {'Price': 170,\n",
              "  'Description': 'Crispy and spicy chicken patty with lettuce and mayonnaise, served on a toasted bun.',\n",
              "  'Veg': False,\n",
              "  'Type': 'Burger',\n",
              "  'Customisations': {'Extra Spicy': 5.0, 'Pickles': 3.0},\n",
              "  'Discount Price': 127.5,\n",
              "  'Discount': 25.0,\n",
              "  'Tax': 30.6,\n",
              "  'Taxed Price': 158.1},\n",
              " 'Veggie Delight Wrap': {'Price': 150,\n",
              "  'Description': 'A wholesome wrap filled with a variety of fresh vegetables and a tangy sauce, wrapped in a soft tortilla.',\n",
              "  'Veg': True,\n",
              "  'Type': 'Wrap',\n",
              "  'Customisations': {},\n",
              "  'Discount Price': 112.5,\n",
              "  'Discount': 25.0,\n",
              "  'Tax': 27.0,\n",
              "  'Taxed Price': 139.5},\n",
              " 'Grilled Chicken Salad': {'Price': 190,\n",
              "  'Description': 'Grilled chicken breast slices served on a bed of mixed greens with a choice of dressing.',\n",
              "  'Veg': False,\n",
              "  'Type': 'Salad',\n",
              "  'Customisations': {},\n",
              "  'Discount Price': 142.5,\n",
              "  'Discount': 25.0,\n",
              "  'Tax': 34.2,\n",
              "  'Taxed Price': 176.7},\n",
              " 'Margherita Pizza': {'Price': 250,\n",
              "  'Description': 'Classic Italian pizza with tomato sauce, mozzarella cheese, and fresh basil leaves.',\n",
              "  'Veg': True,\n",
              "  'Type': 'Pizza',\n",
              "  'Customisations': {'Extra Toppings (Veggies)': 15.0, 'Extra Cheese': 10.0},\n",
              "  'Discount Price': 187.5,\n",
              "  'Discount': 25.0,\n",
              "  'Tax': 45.0,\n",
              "  'Taxed Price': 232.5},\n",
              " 'Pepperoni Pizza': {'Price': 270,\n",
              "  'Description': 'A pizza topped with pepperoni slices, tomato sauce, and melted cheese.',\n",
              "  'Veg': False,\n",
              "  'Type': 'Pizza',\n",
              "  'Customisations': {},\n",
              "  'Discount Price': 202.5,\n",
              "  'Discount': 25.0,\n",
              "  'Tax': 48.6,\n",
              "  'Taxed Price': 251.1},\n",
              " 'Sushi Platter': {'Price': 350,\n",
              "  'Description': 'Assorted sushi rolls with fresh seafood, rice, and seaweed, served with soy sauce and wasabi.',\n",
              "  'Veg': False,\n",
              "  'Type': 'Sushi',\n",
              "  'Customisations': {},\n",
              "  'Discount Price': 262.5,\n",
              "  'Discount': 25.0,\n",
              "  'Tax': 63.0,\n",
              "  'Taxed Price': 325.5},\n",
              " 'Mango Tango Smoothie': {'Price': 80,\n",
              "  'Description': 'A refreshing smoothie made with ripe mangoes, yogurt, and a hint of honey.',\n",
              "  'Veg': True,\n",
              "  'Type': 'Beverage',\n",
              "  'Customisations': {'Extra Mango': 10.0, 'Whipped Cream': 5.0},\n",
              "  'Discount Price': 60.0,\n",
              "  'Discount': 25.0,\n",
              "  'Tax': 14.4,\n",
              "  'Taxed Price': 74.4},\n",
              " 'Iced Caramel Macchiato': {'Price': 160,\n",
              "  'Description': 'Espresso mixed with caramel syrup, milk, and ice, topped with whipped cream.',\n",
              "  'Veg': True,\n",
              "  'Type': 'Beverage',\n",
              "  'Customisations': {},\n",
              "  'Discount Price': 120.0,\n",
              "  'Discount': 25.0,\n",
              "  'Tax': 28.8,\n",
              "  'Taxed Price': 148.8},\n",
              " 'Chocolate Brownie Sundae': {'Price': 120,\n",
              "  'Description': 'Warm chocolate brownie topped with vanilla ice cream, chocolate sauce, and whipped cream.',\n",
              "  'Veg': True,\n",
              "  'Type': 'Dessert',\n",
              "  'Customisations': {},\n",
              "  'Discount Price': 90.0,\n",
              "  'Discount': 25.0,\n",
              "  'Tax': 21.6,\n",
              "  'Taxed Price': 111.6},\n",
              " 'Fruit Salad': {'Price': 90,\n",
              "  'Description': 'A healthy combination of fresh fruits, perfect as a light and refreshing dessert.',\n",
              "  'Veg': True,\n",
              "  'Type': 'Dessert',\n",
              "  'Customisations': {},\n",
              "  'Discount Price': 67.5,\n",
              "  'Discount': 25.0,\n",
              "  'Tax': 16.2,\n",
              "  'Taxed Price': 83.7},\n",
              " 'Chicken Tikka Masala': {'Price': 220,\n",
              "  'Description': 'Tender pieces of chicken cooked in a rich tomato and cream sauce, served with naan bread.',\n",
              "  'Veg': False,\n",
              "  'Type': 'Main Course',\n",
              "  'Customisations': {},\n",
              "  'Discount Price': 165.0,\n",
              "  'Discount': 25.0,\n",
              "  'Tax': 39.6,\n",
              "  'Taxed Price': 204.6}}"
            ]
          },
          "metadata": {},
          "execution_count": 36
        }
      ]
    },
    {
      "cell_type": "code",
      "source": [
        "empty_menu()"
      ],
      "metadata": {
        "id": "l_7nOEDlVU9h"
      },
      "execution_count": null,
      "outputs": []
    },
    {
      "cell_type": "code",
      "source": [
        "items.menu"
      ],
      "metadata": {
        "colab": {
          "base_uri": "https://localhost:8080/"
        },
        "id": "i5rLbd4SVZHq",
        "outputId": "f9893f9d-878e-45c9-da2f-8b402308856e"
      },
      "execution_count": null,
      "outputs": [
        {
          "output_type": "execute_result",
          "data": {
            "text/plain": [
              "{'Mexican McAloo Tikki Burger': {'Price': 250,\n",
              "  'Description': 'The Tastiest Burger in the town!',\n",
              "  'Veg': True,\n",
              "  'Type': 'Burger',\n",
              "  'Customisations': {},\n",
              "  'Discount Price': 187.5,\n",
              "  'Discount': 25.0,\n",
              "  'Tax': 45.0,\n",
              "  'Taxed Price': 232.5},\n",
              " 'Vej Maharaja Mac': {'Price': 250,\n",
              "  'Description': 'The King of Burgers is here',\n",
              "  'Veg': True,\n",
              "  'Type': 'Burger',\n",
              "  'Customisations': {'Tomato': 5.0, 'Onion': 7.5},\n",
              "  'Discount Price': 187.5,\n",
              "  'Discount': 25.0,\n",
              "  'Tax': 45.0,\n",
              "  'Taxed Price': 232.5},\n",
              " 'McAlooTikki': {'Price': 63,\n",
              "  'Description': \"The World's favourite Indian burger! Crunchy potato and peas patty with delicious Tom Mayo & crunchy onions; now with Whole Wheat Bun\",\n",
              "  'Veg': True,\n",
              "  'Type': 'Burger',\n",
              "  'Customisations': {'Extra Cheese': 10.0, 'Spicy Sauce': 5.0},\n",
              "  'Discount Price': 47.25,\n",
              "  'Discount': 25.0,\n",
              "  'Tax': 11.34,\n",
              "  'Taxed Price': 58.59},\n",
              " 'McSpicy Paneer Burger': {'Price': 200,\n",
              "  'Description': 'Rich and filling cottage cheese patty coated in spicy, crispy batter topped with a creamy sauce and crispy shredded lettuce will have you craving for more.',\n",
              "  'Veg': True,\n",
              "  'Type': 'Burger',\n",
              "  'Customisations': {'Onions': 5.0, 'Tomatoes': 7.0, 'Lettuce': 4.0},\n",
              "  'Discount Price': 150.0,\n",
              "  'Discount': 25.0,\n",
              "  'Tax': 36.0,\n",
              "  'Taxed Price': 186.0},\n",
              " 'Big Mac': {'Price': 230,\n",
              "  'Description': 'The iconic double-decker burger featuring two beef patties, special sauce, lettuce, cheese, pickles, and onions on a sesame seed bun.',\n",
              "  'Veg': False,\n",
              "  'Type': 'Burger',\n",
              "  'Customisations': {'Extra Patty': 50.0, 'Bacon': 20.0},\n",
              "  'Discount Price': 172.5,\n",
              "  'Discount': 25.0,\n",
              "  'Tax': 41.4,\n",
              "  'Taxed Price': 213.9},\n",
              " 'Filet-O-Fish': {'Price': 180,\n",
              "  'Description': 'A delicious fish fillet with tartar sauce and shredded lettuce, served on a soft steamed bun.',\n",
              "  'Veg': False,\n",
              "  'Type': 'Burger',\n",
              "  'Customisations': {},\n",
              "  'Discount Price': 135.0,\n",
              "  'Discount': 25.0,\n",
              "  'Tax': 32.4,\n",
              "  'Taxed Price': 167.4},\n",
              " 'Spicy Chicken Sandwich': {'Price': 170,\n",
              "  'Description': 'Crispy and spicy chicken patty with lettuce and mayonnaise, served on a toasted bun.',\n",
              "  'Veg': False,\n",
              "  'Type': 'Burger',\n",
              "  'Customisations': {'Extra Spicy': 5.0, 'Pickles': 3.0},\n",
              "  'Discount Price': 127.5,\n",
              "  'Discount': 25.0,\n",
              "  'Tax': 30.6,\n",
              "  'Taxed Price': 158.1},\n",
              " 'Veggie Delight Wrap': {'Price': 150,\n",
              "  'Description': 'A wholesome wrap filled with a variety of fresh vegetables and a tangy sauce, wrapped in a soft tortilla.',\n",
              "  'Veg': True,\n",
              "  'Type': 'Wrap',\n",
              "  'Customisations': {},\n",
              "  'Discount Price': 112.5,\n",
              "  'Discount': 25.0,\n",
              "  'Tax': 27.0,\n",
              "  'Taxed Price': 139.5},\n",
              " 'Grilled Chicken Salad': {'Price': 190,\n",
              "  'Description': 'Grilled chicken breast slices served on a bed of mixed greens with a choice of dressing.',\n",
              "  'Veg': False,\n",
              "  'Type': 'Salad',\n",
              "  'Customisations': {},\n",
              "  'Discount Price': 142.5,\n",
              "  'Discount': 25.0,\n",
              "  'Tax': 34.2,\n",
              "  'Taxed Price': 176.7},\n",
              " 'Margherita Pizza': {'Price': 250,\n",
              "  'Description': 'Classic Italian pizza with tomato sauce, mozzarella cheese, and fresh basil leaves.',\n",
              "  'Veg': True,\n",
              "  'Type': 'Pizza',\n",
              "  'Customisations': {'Extra Toppings (Veggies)': 15.0, 'Extra Cheese': 10.0},\n",
              "  'Discount Price': 187.5,\n",
              "  'Discount': 25.0,\n",
              "  'Tax': 45.0,\n",
              "  'Taxed Price': 232.5},\n",
              " 'Pepperoni Pizza': {'Price': 270,\n",
              "  'Description': 'A pizza topped with pepperoni slices, tomato sauce, and melted cheese.',\n",
              "  'Veg': False,\n",
              "  'Type': 'Pizza',\n",
              "  'Customisations': {},\n",
              "  'Discount Price': 202.5,\n",
              "  'Discount': 25.0,\n",
              "  'Tax': 48.6,\n",
              "  'Taxed Price': 251.1},\n",
              " 'Sushi Platter': {'Price': 350,\n",
              "  'Description': 'Assorted sushi rolls with fresh seafood, rice, and seaweed, served with soy sauce and wasabi.',\n",
              "  'Veg': False,\n",
              "  'Type': 'Sushi',\n",
              "  'Customisations': {},\n",
              "  'Discount Price': 262.5,\n",
              "  'Discount': 25.0,\n",
              "  'Tax': 63.0,\n",
              "  'Taxed Price': 325.5},\n",
              " 'Mango Tango Smoothie': {'Price': 80,\n",
              "  'Description': 'A refreshing smoothie made with ripe mangoes, yogurt, and a hint of honey.',\n",
              "  'Veg': True,\n",
              "  'Type': 'Beverage',\n",
              "  'Customisations': {'Extra Mango': 10.0, 'Whipped Cream': 5.0},\n",
              "  'Discount Price': 60.0,\n",
              "  'Discount': 25.0,\n",
              "  'Tax': 14.4,\n",
              "  'Taxed Price': 74.4},\n",
              " 'Iced Caramel Macchiato': {'Price': 160,\n",
              "  'Description': 'Espresso mixed with caramel syrup, milk, and ice, topped with whipped cream.',\n",
              "  'Veg': True,\n",
              "  'Type': 'Beverage',\n",
              "  'Customisations': {},\n",
              "  'Discount Price': 120.0,\n",
              "  'Discount': 25.0,\n",
              "  'Tax': 28.8,\n",
              "  'Taxed Price': 148.8},\n",
              " 'Chocolate Brownie Sundae': {'Price': 120,\n",
              "  'Description': 'Warm chocolate brownie topped with vanilla ice cream, chocolate sauce, and whipped cream.',\n",
              "  'Veg': True,\n",
              "  'Type': 'Dessert',\n",
              "  'Customisations': {},\n",
              "  'Discount Price': 90.0,\n",
              "  'Discount': 25.0,\n",
              "  'Tax': 21.6,\n",
              "  'Taxed Price': 111.6},\n",
              " 'Fruit Salad': {'Price': 90,\n",
              "  'Description': 'A healthy combination of fresh fruits, perfect as a light and refreshing dessert.',\n",
              "  'Veg': True,\n",
              "  'Type': 'Dessert',\n",
              "  'Customisations': {},\n",
              "  'Discount Price': 67.5,\n",
              "  'Discount': 25.0,\n",
              "  'Tax': 16.2,\n",
              "  'Taxed Price': 83.7},\n",
              " 'Chicken Tikka Masala': {'Price': 220,\n",
              "  'Description': 'Tender pieces of chicken cooked in a rich tomato and cream sauce, served with naan bread.',\n",
              "  'Veg': False,\n",
              "  'Type': 'Main Course',\n",
              "  'Customisations': {},\n",
              "  'Discount Price': 165.0,\n",
              "  'Discount': 25.0,\n",
              "  'Tax': 39.6,\n",
              "  'Taxed Price': 204.6}}"
            ]
          },
          "metadata": {},
          "execution_count": 37
        }
      ]
    },
    {
      "cell_type": "markdown",
      "source": [
        "# CART FUNCTIONALITIES"
      ],
      "metadata": {
        "id": "CAk41nq4ViRj"
      }
    },
    {
      "cell_type": "markdown",
      "source": [
        "## Re-Initialize Cart"
      ],
      "metadata": {
        "id": "B4Q5PlIhyn2F"
      }
    },
    {
      "cell_type": "code",
      "source": [
        "def reinit_cart():\n",
        "  cart={}"
      ],
      "metadata": {
        "id": "DBXqQHo9yqmq"
      },
      "execution_count": null,
      "outputs": []
    },
    {
      "cell_type": "code",
      "source": [
        "cart={}"
      ],
      "metadata": {
        "id": "YgZpU16QvdSB"
      },
      "execution_count": null,
      "outputs": []
    },
    {
      "cell_type": "markdown",
      "source": [
        "## Print Cart Items"
      ],
      "metadata": {
        "id": "Ypd5vlq8W7ma"
      }
    },
    {
      "cell_type": "code",
      "source": [
        "def cart_members():\n",
        "  for k,v in cart.items():\n",
        "    print(f\" Dish : {k} | Quantity : {v['Quantity']} | Price : {v['Final Price']} \")"
      ],
      "metadata": {
        "id": "IyMj7dnxW-cV"
      },
      "execution_count": null,
      "outputs": []
    },
    {
      "cell_type": "code",
      "source": [
        "cart_members()"
      ],
      "metadata": {
        "id": "0AUaG3QjXgga"
      },
      "execution_count": null,
      "outputs": []
    },
    {
      "cell_type": "code",
      "source": [
        "items.menu"
      ],
      "metadata": {
        "colab": {
          "base_uri": "https://localhost:8080/"
        },
        "id": "PUz9jqRMVaNb",
        "outputId": "5011c291-d4bf-42a0-d197-a9864df79596"
      },
      "execution_count": null,
      "outputs": [
        {
          "output_type": "execute_result",
          "data": {
            "text/plain": [
              "{'Mexican McAloo Tikki Burger': {'Price': 250,\n",
              "  'Description': 'The Tastiest Burger in the town!',\n",
              "  'Veg': True,\n",
              "  'Type': 'Burger',\n",
              "  'Customisations': {},\n",
              "  'Discount Price': 187.5,\n",
              "  'Discount': 25.0,\n",
              "  'Tax': 45.0,\n",
              "  'Taxed Price': 232.5},\n",
              " 'Vej Maharaja Mac': {'Price': 250,\n",
              "  'Description': 'The King of Burgers is here',\n",
              "  'Veg': True,\n",
              "  'Type': 'Burger',\n",
              "  'Customisations': {'Tomato': 5.0, 'Onion': 7.5},\n",
              "  'Discount Price': 187.5,\n",
              "  'Discount': 25.0,\n",
              "  'Tax': 45.0,\n",
              "  'Taxed Price': 232.5},\n",
              " 'McAlooTikki': {'Price': 63,\n",
              "  'Description': \"The World's favourite Indian burger! Crunchy potato and peas patty with delicious Tom Mayo & crunchy onions; now with Whole Wheat Bun\",\n",
              "  'Veg': True,\n",
              "  'Type': 'Burger',\n",
              "  'Customisations': {'Extra Cheese': 10.0, 'Spicy Sauce': 5.0},\n",
              "  'Discount Price': 47.25,\n",
              "  'Discount': 25.0,\n",
              "  'Tax': 11.34,\n",
              "  'Taxed Price': 58.59},\n",
              " 'McSpicy Paneer Burger': {'Price': 200,\n",
              "  'Description': 'Rich and filling cottage cheese patty coated in spicy, crispy batter topped with a creamy sauce and crispy shredded lettuce will have you craving for more.',\n",
              "  'Veg': True,\n",
              "  'Type': 'Burger',\n",
              "  'Customisations': {'Onions': 5.0, 'Tomatoes': 7.0, 'Lettuce': 4.0},\n",
              "  'Discount Price': 150.0,\n",
              "  'Discount': 25.0,\n",
              "  'Tax': 36.0,\n",
              "  'Taxed Price': 186.0},\n",
              " 'Big Mac': {'Price': 230,\n",
              "  'Description': 'The iconic double-decker burger featuring two beef patties, special sauce, lettuce, cheese, pickles, and onions on a sesame seed bun.',\n",
              "  'Veg': False,\n",
              "  'Type': 'Burger',\n",
              "  'Customisations': {'Extra Patty': 50.0, 'Bacon': 20.0},\n",
              "  'Discount Price': 172.5,\n",
              "  'Discount': 25.0,\n",
              "  'Tax': 41.4,\n",
              "  'Taxed Price': 213.9},\n",
              " 'Filet-O-Fish': {'Price': 180,\n",
              "  'Description': 'A delicious fish fillet with tartar sauce and shredded lettuce, served on a soft steamed bun.',\n",
              "  'Veg': False,\n",
              "  'Type': 'Burger',\n",
              "  'Customisations': {},\n",
              "  'Discount Price': 135.0,\n",
              "  'Discount': 25.0,\n",
              "  'Tax': 32.4,\n",
              "  'Taxed Price': 167.4},\n",
              " 'Spicy Chicken Sandwich': {'Price': 170,\n",
              "  'Description': 'Crispy and spicy chicken patty with lettuce and mayonnaise, served on a toasted bun.',\n",
              "  'Veg': False,\n",
              "  'Type': 'Burger',\n",
              "  'Customisations': {'Extra Spicy': 5.0, 'Pickles': 3.0},\n",
              "  'Discount Price': 127.5,\n",
              "  'Discount': 25.0,\n",
              "  'Tax': 30.6,\n",
              "  'Taxed Price': 158.1},\n",
              " 'Veggie Delight Wrap': {'Price': 150,\n",
              "  'Description': 'A wholesome wrap filled with a variety of fresh vegetables and a tangy sauce, wrapped in a soft tortilla.',\n",
              "  'Veg': True,\n",
              "  'Type': 'Wrap',\n",
              "  'Customisations': {},\n",
              "  'Discount Price': 112.5,\n",
              "  'Discount': 25.0,\n",
              "  'Tax': 27.0,\n",
              "  'Taxed Price': 139.5},\n",
              " 'Grilled Chicken Salad': {'Price': 190,\n",
              "  'Description': 'Grilled chicken breast slices served on a bed of mixed greens with a choice of dressing.',\n",
              "  'Veg': False,\n",
              "  'Type': 'Salad',\n",
              "  'Customisations': {},\n",
              "  'Discount Price': 142.5,\n",
              "  'Discount': 25.0,\n",
              "  'Tax': 34.2,\n",
              "  'Taxed Price': 176.7},\n",
              " 'Margherita Pizza': {'Price': 250,\n",
              "  'Description': 'Classic Italian pizza with tomato sauce, mozzarella cheese, and fresh basil leaves.',\n",
              "  'Veg': True,\n",
              "  'Type': 'Pizza',\n",
              "  'Customisations': {'Extra Toppings (Veggies)': 15.0, 'Extra Cheese': 10.0},\n",
              "  'Discount Price': 187.5,\n",
              "  'Discount': 25.0,\n",
              "  'Tax': 45.0,\n",
              "  'Taxed Price': 232.5},\n",
              " 'Pepperoni Pizza': {'Price': 270,\n",
              "  'Description': 'A pizza topped with pepperoni slices, tomato sauce, and melted cheese.',\n",
              "  'Veg': False,\n",
              "  'Type': 'Pizza',\n",
              "  'Customisations': {},\n",
              "  'Discount Price': 202.5,\n",
              "  'Discount': 25.0,\n",
              "  'Tax': 48.6,\n",
              "  'Taxed Price': 251.1},\n",
              " 'Sushi Platter': {'Price': 350,\n",
              "  'Description': 'Assorted sushi rolls with fresh seafood, rice, and seaweed, served with soy sauce and wasabi.',\n",
              "  'Veg': False,\n",
              "  'Type': 'Sushi',\n",
              "  'Customisations': {},\n",
              "  'Discount Price': 262.5,\n",
              "  'Discount': 25.0,\n",
              "  'Tax': 63.0,\n",
              "  'Taxed Price': 325.5},\n",
              " 'Mango Tango Smoothie': {'Price': 80,\n",
              "  'Description': 'A refreshing smoothie made with ripe mangoes, yogurt, and a hint of honey.',\n",
              "  'Veg': True,\n",
              "  'Type': 'Beverage',\n",
              "  'Customisations': {'Extra Mango': 10.0, 'Whipped Cream': 5.0},\n",
              "  'Discount Price': 60.0,\n",
              "  'Discount': 25.0,\n",
              "  'Tax': 14.4,\n",
              "  'Taxed Price': 74.4},\n",
              " 'Iced Caramel Macchiato': {'Price': 160,\n",
              "  'Description': 'Espresso mixed with caramel syrup, milk, and ice, topped with whipped cream.',\n",
              "  'Veg': True,\n",
              "  'Type': 'Beverage',\n",
              "  'Customisations': {},\n",
              "  'Discount Price': 120.0,\n",
              "  'Discount': 25.0,\n",
              "  'Tax': 28.8,\n",
              "  'Taxed Price': 148.8},\n",
              " 'Chocolate Brownie Sundae': {'Price': 120,\n",
              "  'Description': 'Warm chocolate brownie topped with vanilla ice cream, chocolate sauce, and whipped cream.',\n",
              "  'Veg': True,\n",
              "  'Type': 'Dessert',\n",
              "  'Customisations': {},\n",
              "  'Discount Price': 90.0,\n",
              "  'Discount': 25.0,\n",
              "  'Tax': 21.6,\n",
              "  'Taxed Price': 111.6},\n",
              " 'Fruit Salad': {'Price': 90,\n",
              "  'Description': 'A healthy combination of fresh fruits, perfect as a light and refreshing dessert.',\n",
              "  'Veg': True,\n",
              "  'Type': 'Dessert',\n",
              "  'Customisations': {},\n",
              "  'Discount Price': 67.5,\n",
              "  'Discount': 25.0,\n",
              "  'Tax': 16.2,\n",
              "  'Taxed Price': 83.7},\n",
              " 'Chicken Tikka Masala': {'Price': 220,\n",
              "  'Description': 'Tender pieces of chicken cooked in a rich tomato and cream sauce, served with naan bread.',\n",
              "  'Veg': False,\n",
              "  'Type': 'Main Course',\n",
              "  'Customisations': {},\n",
              "  'Discount Price': 165.0,\n",
              "  'Discount': 25.0,\n",
              "  'Tax': 39.6,\n",
              "  'Taxed Price': 204.6}}"
            ]
          },
          "metadata": {},
          "execution_count": 42
        }
      ]
    },
    {
      "cell_type": "markdown",
      "source": [
        "## Adding Items to Cart along with Customisations"
      ],
      "metadata": {
        "id": "bJblQrgyWCJd"
      }
    },
    {
      "cell_type": "code",
      "source": [
        "cart={}\n",
        "fetch_name=str(input('What Dish you want to add?'))\n",
        "fetch_quantity=int(input(f'How many {fetch_name} you want to add?'))\n",
        "for k,v in items.menu.items():\n",
        "    if k==fetch_name:\n",
        "      cart[k]=v.copy()\n",
        "for k,v in cart.items():\n",
        "  v['Quantity']=fetch_quantity\n",
        "  if k==fetch_name:\n",
        "    if 'Customisations' in v:\n",
        "      fetch_ask=bool(str(input('Press any key to Customise')))\n",
        "      if fetch_ask:\n",
        "        v['Custom_add']={}\n",
        "        for l,m in v['Customisations'].items():\n",
        "          fetch_quantity2=int(input(f\"How much {l} worth {m} each, you want to add?\"))\n",
        "          v['Custom_add'][l]={'Price':m,'Quantity':fetch_quantity2}\n",
        "      else:\n",
        "          v['Custom_add']={}\n",
        "  v['Final Price']=0\n",
        "  v['Final Price']+=v['Taxed Price']\n",
        "  for m,j in v['Custom_add'].items():\n",
        "    v['Final Price']+=j['Price']*j['Quantity']\n",
        "  v['Final Price']*=v['Quantity']\n",
        "  v['Final Price']=round(v['Final Price'],2)\n"
      ],
      "metadata": {
        "colab": {
          "base_uri": "https://localhost:8080/"
        },
        "id": "qKrh_IV3WA7P",
        "outputId": "ac18f625-c0d2-4d4d-d65d-2b43a1b932c7"
      },
      "execution_count": null,
      "outputs": [
        {
          "name": "stdout",
          "output_type": "stream",
          "text": [
            "What Dish you want to add?Mango Tango Smoothie\n",
            "How many Mango Tango Smoothie you want to add?1\n",
            "Press any key to Customise\n"
          ]
        }
      ]
    },
    {
      "cell_type": "code",
      "source": [
        "cart"
      ],
      "metadata": {
        "colab": {
          "base_uri": "https://localhost:8080/"
        },
        "id": "iLT4MkTkVmcU",
        "outputId": "e03b7ce9-76fb-4d20-ec59-2c99c5284824"
      },
      "execution_count": null,
      "outputs": [
        {
          "output_type": "execute_result",
          "data": {
            "text/plain": [
              "{'Big Mac': {'Price': 230,\n",
              "  'Description': 'The iconic double-decker burger featuring two beef patties, special sauce, lettuce, cheese, pickles, and onions on a sesame seed bun.',\n",
              "  'Veg': False,\n",
              "  'Type': 'Burger',\n",
              "  'Customisations': {'Extra Patty': 50.0, 'Bacon': 20.0},\n",
              "  'Discount Price': 213.89999999999998,\n",
              "  'Discount': 7.0,\n",
              "  'Tax': 41.4,\n",
              "  'Taxed Price': 255.29999999999998,\n",
              "  'Quantity': 1,\n",
              "  'Custom_add': {'Extra Patty': {'Price': 50.0, 'Quantity': 1},\n",
              "   'Bacon': {'Price': 20.0, 'Quantity': 1}},\n",
              "  'Final Price': 325.3},\n",
              " 'Mango Tango Smoothie': {'Price': 80,\n",
              "  'Description': 'A refreshing smoothie made with ripe mangoes, yogurt, and a hint of honey.',\n",
              "  'Veg': True,\n",
              "  'Type': 'Beverage',\n",
              "  'Customisations': {'Extra Mango': 10.0, 'Whipped Cream': 5.0},\n",
              "  'Discount Price': 74.39999999999999,\n",
              "  'Discount': 7.0,\n",
              "  'Tax': 14.4,\n",
              "  'Taxed Price': 88.8,\n",
              "  'Quantity': 1,\n",
              "  'Custom_add': {},\n",
              "  'Final Price': 88.8}}"
            ]
          },
          "metadata": {},
          "execution_count": 34
        }
      ]
    },
    {
      "cell_type": "code",
      "source": [
        "items.menu"
      ],
      "metadata": {
        "colab": {
          "base_uri": "https://localhost:8080/"
        },
        "id": "suWlTy5PWdVz",
        "outputId": "d99dd8cc-a8ab-44b3-f2ab-3f2d4a338c71"
      },
      "execution_count": null,
      "outputs": [
        {
          "output_type": "execute_result",
          "data": {
            "text/plain": [
              "{'Mexican McAloo Tikki Burger': {'Price': 250,\n",
              "  'Description': 'The Tastiest Burger in the town!',\n",
              "  'Veg': True,\n",
              "  'Type': 'Burger',\n",
              "  'Customisations': {},\n",
              "  'Discount Price': 187.5,\n",
              "  'Discount': 25.0,\n",
              "  'Tax': 45.0,\n",
              "  'Taxed Price': 232.5},\n",
              " 'Vej Maharaja Mac': {'Price': 250,\n",
              "  'Description': 'The King of Burgers is here',\n",
              "  'Veg': True,\n",
              "  'Type': 'Burger',\n",
              "  'Customisations': {'Tomato': 5.0, 'Onion': 7.5},\n",
              "  'Discount Price': 187.5,\n",
              "  'Discount': 25.0,\n",
              "  'Tax': 45.0,\n",
              "  'Taxed Price': 232.5},\n",
              " 'McAlooTikki': {'Price': 63,\n",
              "  'Description': \"The World's favourite Indian burger! Crunchy potato and peas patty with delicious Tom Mayo & crunchy onions; now with Whole Wheat Bun\",\n",
              "  'Veg': True,\n",
              "  'Type': 'Burger',\n",
              "  'Customisations': {'Extra Cheese': 10.0, 'Spicy Sauce': 5.0},\n",
              "  'Discount Price': 47.25,\n",
              "  'Discount': 25.0,\n",
              "  'Tax': 11.34,\n",
              "  'Taxed Price': 58.59},\n",
              " 'McSpicy Paneer Burger': {'Price': 200,\n",
              "  'Description': 'Rich and filling cottage cheese patty coated in spicy, crispy batter topped with a creamy sauce and crispy shredded lettuce will have you craving for more.',\n",
              "  'Veg': True,\n",
              "  'Type': 'Burger',\n",
              "  'Customisations': {'Onions': 5.0, 'Tomatoes': 7.0, 'Lettuce': 4.0},\n",
              "  'Discount Price': 150.0,\n",
              "  'Discount': 25.0,\n",
              "  'Tax': 36.0,\n",
              "  'Taxed Price': 186.0},\n",
              " 'Big Mac': {'Price': 230,\n",
              "  'Description': 'The iconic double-decker burger featuring two beef patties, special sauce, lettuce, cheese, pickles, and onions on a sesame seed bun.',\n",
              "  'Veg': False,\n",
              "  'Type': 'Burger',\n",
              "  'Customisations': {'Extra Patty': 50.0, 'Bacon': 20.0},\n",
              "  'Discount Price': 172.5,\n",
              "  'Discount': 25.0,\n",
              "  'Tax': 41.4,\n",
              "  'Taxed Price': 213.9},\n",
              " 'Filet-O-Fish': {'Price': 180,\n",
              "  'Description': 'A delicious fish fillet with tartar sauce and shredded lettuce, served on a soft steamed bun.',\n",
              "  'Veg': False,\n",
              "  'Type': 'Burger',\n",
              "  'Customisations': {},\n",
              "  'Discount Price': 135.0,\n",
              "  'Discount': 25.0,\n",
              "  'Tax': 32.4,\n",
              "  'Taxed Price': 167.4},\n",
              " 'Spicy Chicken Sandwich': {'Price': 170,\n",
              "  'Description': 'Crispy and spicy chicken patty with lettuce and mayonnaise, served on a toasted bun.',\n",
              "  'Veg': False,\n",
              "  'Type': 'Burger',\n",
              "  'Customisations': {'Extra Spicy': 5.0, 'Pickles': 3.0},\n",
              "  'Discount Price': 127.5,\n",
              "  'Discount': 25.0,\n",
              "  'Tax': 30.6,\n",
              "  'Taxed Price': 158.1},\n",
              " 'Veggie Delight Wrap': {'Price': 150,\n",
              "  'Description': 'A wholesome wrap filled with a variety of fresh vegetables and a tangy sauce, wrapped in a soft tortilla.',\n",
              "  'Veg': True,\n",
              "  'Type': 'Wrap',\n",
              "  'Customisations': {},\n",
              "  'Discount Price': 112.5,\n",
              "  'Discount': 25.0,\n",
              "  'Tax': 27.0,\n",
              "  'Taxed Price': 139.5},\n",
              " 'Grilled Chicken Salad': {'Price': 190,\n",
              "  'Description': 'Grilled chicken breast slices served on a bed of mixed greens with a choice of dressing.',\n",
              "  'Veg': False,\n",
              "  'Type': 'Salad',\n",
              "  'Customisations': {},\n",
              "  'Discount Price': 142.5,\n",
              "  'Discount': 25.0,\n",
              "  'Tax': 34.2,\n",
              "  'Taxed Price': 176.7},\n",
              " 'Margherita Pizza': {'Price': 250,\n",
              "  'Description': 'Classic Italian pizza with tomato sauce, mozzarella cheese, and fresh basil leaves.',\n",
              "  'Veg': True,\n",
              "  'Type': 'Pizza',\n",
              "  'Customisations': {'Extra Toppings (Veggies)': 15.0, 'Extra Cheese': 10.0},\n",
              "  'Discount Price': 187.5,\n",
              "  'Discount': 25.0,\n",
              "  'Tax': 45.0,\n",
              "  'Taxed Price': 232.5},\n",
              " 'Pepperoni Pizza': {'Price': 270,\n",
              "  'Description': 'A pizza topped with pepperoni slices, tomato sauce, and melted cheese.',\n",
              "  'Veg': False,\n",
              "  'Type': 'Pizza',\n",
              "  'Customisations': {},\n",
              "  'Discount Price': 202.5,\n",
              "  'Discount': 25.0,\n",
              "  'Tax': 48.6,\n",
              "  'Taxed Price': 251.1},\n",
              " 'Sushi Platter': {'Price': 350,\n",
              "  'Description': 'Assorted sushi rolls with fresh seafood, rice, and seaweed, served with soy sauce and wasabi.',\n",
              "  'Veg': False,\n",
              "  'Type': 'Sushi',\n",
              "  'Customisations': {},\n",
              "  'Discount Price': 262.5,\n",
              "  'Discount': 25.0,\n",
              "  'Tax': 63.0,\n",
              "  'Taxed Price': 325.5},\n",
              " 'Mango Tango Smoothie': {'Price': 80,\n",
              "  'Description': 'A refreshing smoothie made with ripe mangoes, yogurt, and a hint of honey.',\n",
              "  'Veg': True,\n",
              "  'Type': 'Beverage',\n",
              "  'Customisations': {'Extra Mango': 10.0, 'Whipped Cream': 5.0},\n",
              "  'Discount Price': 60.0,\n",
              "  'Discount': 25.0,\n",
              "  'Tax': 14.4,\n",
              "  'Taxed Price': 74.4},\n",
              " 'Iced Caramel Macchiato': {'Price': 160,\n",
              "  'Description': 'Espresso mixed with caramel syrup, milk, and ice, topped with whipped cream.',\n",
              "  'Veg': True,\n",
              "  'Type': 'Beverage',\n",
              "  'Customisations': {},\n",
              "  'Discount Price': 120.0,\n",
              "  'Discount': 25.0,\n",
              "  'Tax': 28.8,\n",
              "  'Taxed Price': 148.8},\n",
              " 'Chocolate Brownie Sundae': {'Price': 120,\n",
              "  'Description': 'Warm chocolate brownie topped with vanilla ice cream, chocolate sauce, and whipped cream.',\n",
              "  'Veg': True,\n",
              "  'Type': 'Dessert',\n",
              "  'Customisations': {},\n",
              "  'Discount Price': 90.0,\n",
              "  'Discount': 25.0,\n",
              "  'Tax': 21.6,\n",
              "  'Taxed Price': 111.6},\n",
              " 'Fruit Salad': {'Price': 90,\n",
              "  'Description': 'A healthy combination of fresh fruits, perfect as a light and refreshing dessert.',\n",
              "  'Veg': True,\n",
              "  'Type': 'Dessert',\n",
              "  'Customisations': {},\n",
              "  'Discount Price': 67.5,\n",
              "  'Discount': 25.0,\n",
              "  'Tax': 16.2,\n",
              "  'Taxed Price': 83.7},\n",
              " 'Chicken Tikka Masala': {'Price': 220,\n",
              "  'Description': 'Tender pieces of chicken cooked in a rich tomato and cream sauce, served with naan bread.',\n",
              "  'Veg': False,\n",
              "  'Type': 'Main Course',\n",
              "  'Customisations': {},\n",
              "  'Discount Price': 165.0,\n",
              "  'Discount': 25.0,\n",
              "  'Tax': 39.6,\n",
              "  'Taxed Price': 204.6}}"
            ]
          },
          "metadata": {},
          "execution_count": 48
        }
      ]
    },
    {
      "cell_type": "markdown",
      "source": [
        "### MAKING IT A FUNCTION"
      ],
      "metadata": {
        "id": "hwF15Xywq3xz"
      }
    },
    {
      "cell_type": "code",
      "source": [
        "def add_to_cart():\n",
        "  fetch_name=str(input('What Dish you want to add?'))\n",
        "  fetch_quantity=int(input(f'How many {fetch_name} you want to add?'))\n",
        "  for k,v in items.menu.items():\n",
        "      if k==fetch_name:\n",
        "        cart[k]=v.copy()\n",
        "  for k,v in cart.items():\n",
        "    v['Quantity']=fetch_quantity\n",
        "    if k==fetch_name:\n",
        "      if 'Customisations' in v:\n",
        "        fetch_ask=bool(str(input('Press any key to Customise')))\n",
        "        if fetch_ask:\n",
        "          v['Custom_add']={}\n",
        "          for l,m in v['Customisations'].items():\n",
        "            fetch_quantity2=int(input(f\"How much {l} worth {m} each, you want to add?\"))\n",
        "            v['Custom_add'][l]={'Price':m,'Quantity':fetch_quantity2}\n",
        "        else:\n",
        "            v['Custom_add']={}\n",
        "    v['Final Price']=0\n",
        "    v['Final Price']+=v['Taxed Price']\n",
        "    for m,j in v['Custom_add'].items():\n",
        "      v['Final Price']+=j['Price']*j['Quantity']\n",
        "    v['Final Price']*=v['Quantity']\n",
        "    v['Final Price']=round(v['Final Price'],2)\n"
      ],
      "metadata": {
        "id": "3dVCy0Sjq267"
      },
      "execution_count": null,
      "outputs": []
    },
    {
      "cell_type": "markdown",
      "source": [
        "## Removing Items from Cart"
      ],
      "metadata": {
        "id": "68qr4n5CWVip"
      }
    },
    {
      "cell_type": "code",
      "source": [
        "cart"
      ],
      "metadata": {
        "colab": {
          "base_uri": "https://localhost:8080/"
        },
        "id": "wDh9DymKWtJR",
        "outputId": "5d7b1bcb-6b36-4c16-8dbd-6486f9dd84e3"
      },
      "execution_count": null,
      "outputs": [
        {
          "output_type": "execute_result",
          "data": {
            "text/plain": [
              "{'Big Mac': {'Price': 230,\n",
              "  'Description': 'The iconic double-decker burger featuring two beef patties, special sauce, lettuce, cheese, pickles, and onions on a sesame seed bun.',\n",
              "  'Veg': False,\n",
              "  'Type': 'Burger',\n",
              "  'Customisations': {'Extra Patty': 50.0, 'Bacon': 20.0},\n",
              "  'Discount Price': 172.5,\n",
              "  'Discount': 25.0,\n",
              "  'Tax': 41.4,\n",
              "  'Taxed Price': 213.9,\n",
              "  'Quantity': 2,\n",
              "  'Custom_add': {'Extra Patty': {'Price': 50.0, 'Quantity': 2},\n",
              "   'Bacon': {'Price': 20.0, 'Quantity': 2}},\n",
              "  'Final Price': 707.8},\n",
              " 'Mango Tango Smoothie': {'Price': 80,\n",
              "  'Description': 'A refreshing smoothie made with ripe mangoes, yogurt, and a hint of honey.',\n",
              "  'Veg': True,\n",
              "  'Type': 'Beverage',\n",
              "  'Customisations': {'Extra Mango': 10.0, 'Whipped Cream': 5.0},\n",
              "  'Discount Price': 60.0,\n",
              "  'Discount': 25.0,\n",
              "  'Tax': 14.4,\n",
              "  'Taxed Price': 74.4,\n",
              "  'Quantity': 2,\n",
              "  'Custom_add': {'Extra Mango': {'Price': 10.0, 'Quantity': 2},\n",
              "   'Whipped Cream': {'Price': 5.0, 'Quantity': 2}},\n",
              "  'Final Price': 208.8}}"
            ]
          },
          "metadata": {},
          "execution_count": 50
        }
      ]
    },
    {
      "cell_type": "code",
      "source": [
        "cart_members()\n",
        "fetch_name=str(input(\"Which Dish you want to Delete?\"))\n",
        "keys_to_delete=[]\n",
        "for k,v in cart.items():\n",
        "  if fetch_name==k:\n",
        "    keys_to_delete.append(k)\n",
        "for k in keys_to_delete:\n",
        "  del cart[k]\n"
      ],
      "metadata": {
        "colab": {
          "base_uri": "https://localhost:8080/",
          "height": 425
        },
        "id": "HNMcXYFhWRxZ",
        "outputId": "8df9efc0-6320-432e-fba9-3e56ee0c8d03"
      },
      "execution_count": null,
      "outputs": [
        {
          "output_type": "stream",
          "name": "stdout",
          "text": [
            " Dish : Big Mac | Quantity : 1 | Price : 325.3 \n",
            " Dish : Mango Tango Smoothie | Quantity : 1 | Price : 88.8 \n"
          ]
        },
        {
          "output_type": "error",
          "ename": "KeyboardInterrupt",
          "evalue": "ignored",
          "traceback": [
            "\u001b[0;31m---------------------------------------------------------------------------\u001b[0m",
            "\u001b[0;31mKeyboardInterrupt\u001b[0m                         Traceback (most recent call last)",
            "\u001b[0;32m<ipython-input-58-0cc516219519>\u001b[0m in \u001b[0;36m<cell line: 2>\u001b[0;34m()\u001b[0m\n\u001b[1;32m      1\u001b[0m \u001b[0mcart_members\u001b[0m\u001b[0;34m(\u001b[0m\u001b[0;34m)\u001b[0m\u001b[0;34m\u001b[0m\u001b[0;34m\u001b[0m\u001b[0m\n\u001b[0;32m----> 2\u001b[0;31m \u001b[0mfetch_name\u001b[0m\u001b[0;34m=\u001b[0m\u001b[0mstr\u001b[0m\u001b[0;34m(\u001b[0m\u001b[0minput\u001b[0m\u001b[0;34m(\u001b[0m\u001b[0;34m\"Which Dish you want to Delete?\"\u001b[0m\u001b[0;34m)\u001b[0m\u001b[0;34m)\u001b[0m\u001b[0;34m\u001b[0m\u001b[0;34m\u001b[0m\u001b[0m\n\u001b[0m\u001b[1;32m      3\u001b[0m \u001b[0mkeys_to_delete\u001b[0m\u001b[0;34m=\u001b[0m\u001b[0;34m[\u001b[0m\u001b[0;34m]\u001b[0m\u001b[0;34m\u001b[0m\u001b[0;34m\u001b[0m\u001b[0m\n\u001b[1;32m      4\u001b[0m \u001b[0;32mfor\u001b[0m \u001b[0mk\u001b[0m\u001b[0;34m,\u001b[0m\u001b[0mv\u001b[0m \u001b[0;32min\u001b[0m \u001b[0mcart\u001b[0m\u001b[0;34m.\u001b[0m\u001b[0mitems\u001b[0m\u001b[0;34m(\u001b[0m\u001b[0;34m)\u001b[0m\u001b[0;34m:\u001b[0m\u001b[0;34m\u001b[0m\u001b[0;34m\u001b[0m\u001b[0m\n\u001b[1;32m      5\u001b[0m   \u001b[0;32mif\u001b[0m \u001b[0mfetch_name\u001b[0m\u001b[0;34m==\u001b[0m\u001b[0mk\u001b[0m\u001b[0;34m:\u001b[0m\u001b[0;34m\u001b[0m\u001b[0;34m\u001b[0m\u001b[0m\n",
            "\u001b[0;32m/usr/local/lib/python3.10/dist-packages/ipykernel/kernelbase.py\u001b[0m in \u001b[0;36mraw_input\u001b[0;34m(self, prompt)\u001b[0m\n\u001b[1;32m    849\u001b[0m                 \u001b[0;34m\"raw_input was called, but this frontend does not support input requests.\"\u001b[0m\u001b[0;34m\u001b[0m\u001b[0;34m\u001b[0m\u001b[0m\n\u001b[1;32m    850\u001b[0m             )\n\u001b[0;32m--> 851\u001b[0;31m         return self._input_request(str(prompt),\n\u001b[0m\u001b[1;32m    852\u001b[0m             \u001b[0mself\u001b[0m\u001b[0;34m.\u001b[0m\u001b[0m_parent_ident\u001b[0m\u001b[0;34m,\u001b[0m\u001b[0;34m\u001b[0m\u001b[0;34m\u001b[0m\u001b[0m\n\u001b[1;32m    853\u001b[0m             \u001b[0mself\u001b[0m\u001b[0;34m.\u001b[0m\u001b[0m_parent_header\u001b[0m\u001b[0;34m,\u001b[0m\u001b[0;34m\u001b[0m\u001b[0;34m\u001b[0m\u001b[0m\n",
            "\u001b[0;32m/usr/local/lib/python3.10/dist-packages/ipykernel/kernelbase.py\u001b[0m in \u001b[0;36m_input_request\u001b[0;34m(self, prompt, ident, parent, password)\u001b[0m\n\u001b[1;32m    893\u001b[0m             \u001b[0;32mexcept\u001b[0m \u001b[0mKeyboardInterrupt\u001b[0m\u001b[0;34m:\u001b[0m\u001b[0;34m\u001b[0m\u001b[0;34m\u001b[0m\u001b[0m\n\u001b[1;32m    894\u001b[0m                 \u001b[0;31m# re-raise KeyboardInterrupt, to truncate traceback\u001b[0m\u001b[0;34m\u001b[0m\u001b[0;34m\u001b[0m\u001b[0m\n\u001b[0;32m--> 895\u001b[0;31m                 \u001b[0;32mraise\u001b[0m \u001b[0mKeyboardInterrupt\u001b[0m\u001b[0;34m(\u001b[0m\u001b[0;34m\"Interrupted by user\"\u001b[0m\u001b[0;34m)\u001b[0m \u001b[0;32mfrom\u001b[0m \u001b[0;32mNone\u001b[0m\u001b[0;34m\u001b[0m\u001b[0;34m\u001b[0m\u001b[0m\n\u001b[0m\u001b[1;32m    896\u001b[0m             \u001b[0;32mexcept\u001b[0m \u001b[0mException\u001b[0m \u001b[0;32mas\u001b[0m \u001b[0me\u001b[0m\u001b[0;34m:\u001b[0m\u001b[0;34m\u001b[0m\u001b[0;34m\u001b[0m\u001b[0m\n\u001b[1;32m    897\u001b[0m                 \u001b[0mself\u001b[0m\u001b[0;34m.\u001b[0m\u001b[0mlog\u001b[0m\u001b[0;34m.\u001b[0m\u001b[0mwarning\u001b[0m\u001b[0;34m(\u001b[0m\u001b[0;34m\"Invalid Message:\"\u001b[0m\u001b[0;34m,\u001b[0m \u001b[0mexc_info\u001b[0m\u001b[0;34m=\u001b[0m\u001b[0;32mTrue\u001b[0m\u001b[0;34m)\u001b[0m\u001b[0;34m\u001b[0m\u001b[0;34m\u001b[0m\u001b[0m\n",
            "\u001b[0;31mKeyboardInterrupt\u001b[0m: Interrupted by user"
          ]
        }
      ]
    },
    {
      "cell_type": "code",
      "source": [],
      "metadata": {
        "id": "2r0ZslMsR9ve"
      },
      "execution_count": null,
      "outputs": []
    },
    {
      "cell_type": "code",
      "source": [
        "cart"
      ],
      "metadata": {
        "colab": {
          "base_uri": "https://localhost:8080/"
        },
        "id": "XdONdaiDWucn",
        "outputId": "bc7f6417-b24d-4182-c3f1-e8e8e6595c85"
      },
      "execution_count": null,
      "outputs": [
        {
          "output_type": "execute_result",
          "data": {
            "text/plain": [
              "{'Big Mac': {'Price': 230,\n",
              "  'Description': 'The iconic double-decker burger featuring two beef patties, special sauce, lettuce, cheese, pickles, and onions on a sesame seed bun.',\n",
              "  'Veg': False,\n",
              "  'Type': 'Burger',\n",
              "  'Customisations': {'Extra Patty': 50.0, 'Bacon': 20.0},\n",
              "  'Discount Price': 172.5,\n",
              "  'Discount': 25.0,\n",
              "  'Tax': 41.4,\n",
              "  'Taxed Price': 213.9,\n",
              "  'Quantity': 3,\n",
              "  'Custom_add': {'Extra Patty': {'Price': 50.0, 'Quantity': 2},\n",
              "   'Bacon': {'Price': 20.0, 'Quantity': 2}},\n",
              "  'Final Price': 1061.7},\n",
              " 'Mango Tango Smoothie': {'Price': 80,\n",
              "  'Description': 'A refreshing smoothie made with ripe mangoes, yogurt, and a hint of honey.',\n",
              "  'Veg': True,\n",
              "  'Type': 'Beverage',\n",
              "  'Customisations': {'Extra Mango': 10.0, 'Whipped Cream': 5.0},\n",
              "  'Discount Price': 60.0,\n",
              "  'Discount': 25.0,\n",
              "  'Tax': 14.4,\n",
              "  'Taxed Price': 74.4,\n",
              "  'Quantity': 3,\n",
              "  'Custom_add': {'Extra Mango': {'Price': 10.0, 'Quantity': 2},\n",
              "   'Whipped Cream': {'Price': 5.0, 'Quantity': 2}},\n",
              "  'Final Price': 313.2}}"
            ]
          },
          "metadata": {},
          "execution_count": 60
        }
      ]
    },
    {
      "cell_type": "markdown",
      "source": [
        "### MAKING IT A FUNCTION"
      ],
      "metadata": {
        "id": "1SY1fZ0grTtU"
      }
    },
    {
      "cell_type": "code",
      "source": [
        "def remove_cart():\n",
        "  cart_members()\n",
        "  fetch_name=str(input(\"Which Dish you want to Delete?\"))\n",
        "  keys_to_delete=[]\n",
        "  for k,v in cart.items():\n",
        "    if fetch_name==k:\n",
        "      keys_to_delete.append(k)\n",
        "  for k in keys_to_delete:\n",
        "    del cart[k]\n"
      ],
      "metadata": {
        "id": "WhGeQv3_rTbs"
      },
      "execution_count": null,
      "outputs": []
    },
    {
      "cell_type": "code",
      "source": [
        "remove_cart()"
      ],
      "metadata": {
        "id": "E_73up_c2U9w",
        "colab": {
          "base_uri": "https://localhost:8080/",
          "height": 355
        },
        "outputId": "dc3fca1a-1662-4b81-df92-9afd326a032d"
      },
      "execution_count": null,
      "outputs": [
        {
          "output_type": "stream",
          "name": "stdout",
          "text": [
            " Dish : Big Mac | Quantity : 2 | Price : 707.8 \n",
            " Dish : Mango Tango Smoothie | Quantity : 2 | Price : 208.8 \n"
          ]
        },
        {
          "output_type": "error",
          "ename": "KeyboardInterrupt",
          "evalue": "ignored",
          "traceback": [
            "\u001b[0;31m---------------------------------------------------------------------------\u001b[0m",
            "\u001b[0;31mKeyboardInterrupt\u001b[0m                         Traceback (most recent call last)",
            "\u001b[0;32m<ipython-input-53-1533bf1f56cc>\u001b[0m in \u001b[0;36m<cell line: 1>\u001b[0;34m()\u001b[0m\n\u001b[0;32m----> 1\u001b[0;31m \u001b[0mremove_cart\u001b[0m\u001b[0;34m(\u001b[0m\u001b[0;34m)\u001b[0m\u001b[0;34m\u001b[0m\u001b[0;34m\u001b[0m\u001b[0m\n\u001b[0m",
            "\u001b[0;32m<ipython-input-52-54864a11ab5b>\u001b[0m in \u001b[0;36mremove_cart\u001b[0;34m()\u001b[0m\n\u001b[1;32m      1\u001b[0m \u001b[0;32mdef\u001b[0m \u001b[0mremove_cart\u001b[0m\u001b[0;34m(\u001b[0m\u001b[0;34m)\u001b[0m\u001b[0;34m:\u001b[0m\u001b[0;34m\u001b[0m\u001b[0;34m\u001b[0m\u001b[0m\n\u001b[1;32m      2\u001b[0m   \u001b[0mcart_members\u001b[0m\u001b[0;34m(\u001b[0m\u001b[0;34m)\u001b[0m\u001b[0;34m\u001b[0m\u001b[0;34m\u001b[0m\u001b[0m\n\u001b[0;32m----> 3\u001b[0;31m   \u001b[0mfetch_name\u001b[0m\u001b[0;34m=\u001b[0m\u001b[0mstr\u001b[0m\u001b[0;34m(\u001b[0m\u001b[0minput\u001b[0m\u001b[0;34m(\u001b[0m\u001b[0;34m\"Which Dish you want to Delete?\"\u001b[0m\u001b[0;34m)\u001b[0m\u001b[0;34m)\u001b[0m\u001b[0;34m\u001b[0m\u001b[0;34m\u001b[0m\u001b[0m\n\u001b[0m\u001b[1;32m      4\u001b[0m   \u001b[0mkeys_to_delete\u001b[0m\u001b[0;34m=\u001b[0m\u001b[0;34m[\u001b[0m\u001b[0;34m]\u001b[0m\u001b[0;34m\u001b[0m\u001b[0;34m\u001b[0m\u001b[0m\n\u001b[1;32m      5\u001b[0m   \u001b[0;32mfor\u001b[0m \u001b[0mk\u001b[0m\u001b[0;34m,\u001b[0m\u001b[0mv\u001b[0m \u001b[0;32min\u001b[0m \u001b[0mcart\u001b[0m\u001b[0;34m.\u001b[0m\u001b[0mitems\u001b[0m\u001b[0;34m(\u001b[0m\u001b[0;34m)\u001b[0m\u001b[0;34m:\u001b[0m\u001b[0;34m\u001b[0m\u001b[0;34m\u001b[0m\u001b[0m\n",
            "\u001b[0;32m/usr/local/lib/python3.10/dist-packages/ipykernel/kernelbase.py\u001b[0m in \u001b[0;36mraw_input\u001b[0;34m(self, prompt)\u001b[0m\n\u001b[1;32m    849\u001b[0m                 \u001b[0;34m\"raw_input was called, but this frontend does not support input requests.\"\u001b[0m\u001b[0;34m\u001b[0m\u001b[0;34m\u001b[0m\u001b[0m\n\u001b[1;32m    850\u001b[0m             )\n\u001b[0;32m--> 851\u001b[0;31m         return self._input_request(str(prompt),\n\u001b[0m\u001b[1;32m    852\u001b[0m             \u001b[0mself\u001b[0m\u001b[0;34m.\u001b[0m\u001b[0m_parent_ident\u001b[0m\u001b[0;34m,\u001b[0m\u001b[0;34m\u001b[0m\u001b[0;34m\u001b[0m\u001b[0m\n\u001b[1;32m    853\u001b[0m             \u001b[0mself\u001b[0m\u001b[0;34m.\u001b[0m\u001b[0m_parent_header\u001b[0m\u001b[0;34m,\u001b[0m\u001b[0;34m\u001b[0m\u001b[0;34m\u001b[0m\u001b[0m\n",
            "\u001b[0;32m/usr/local/lib/python3.10/dist-packages/ipykernel/kernelbase.py\u001b[0m in \u001b[0;36m_input_request\u001b[0;34m(self, prompt, ident, parent, password)\u001b[0m\n\u001b[1;32m    893\u001b[0m             \u001b[0;32mexcept\u001b[0m \u001b[0mKeyboardInterrupt\u001b[0m\u001b[0;34m:\u001b[0m\u001b[0;34m\u001b[0m\u001b[0;34m\u001b[0m\u001b[0m\n\u001b[1;32m    894\u001b[0m                 \u001b[0;31m# re-raise KeyboardInterrupt, to truncate traceback\u001b[0m\u001b[0;34m\u001b[0m\u001b[0;34m\u001b[0m\u001b[0m\n\u001b[0;32m--> 895\u001b[0;31m                 \u001b[0;32mraise\u001b[0m \u001b[0mKeyboardInterrupt\u001b[0m\u001b[0;34m(\u001b[0m\u001b[0;34m\"Interrupted by user\"\u001b[0m\u001b[0;34m)\u001b[0m \u001b[0;32mfrom\u001b[0m \u001b[0;32mNone\u001b[0m\u001b[0;34m\u001b[0m\u001b[0;34m\u001b[0m\u001b[0m\n\u001b[0m\u001b[1;32m    896\u001b[0m             \u001b[0;32mexcept\u001b[0m \u001b[0mException\u001b[0m \u001b[0;32mas\u001b[0m \u001b[0me\u001b[0m\u001b[0;34m:\u001b[0m\u001b[0;34m\u001b[0m\u001b[0;34m\u001b[0m\u001b[0m\n\u001b[1;32m    897\u001b[0m                 \u001b[0mself\u001b[0m\u001b[0;34m.\u001b[0m\u001b[0mlog\u001b[0m\u001b[0;34m.\u001b[0m\u001b[0mwarning\u001b[0m\u001b[0;34m(\u001b[0m\u001b[0;34m\"Invalid Message:\"\u001b[0m\u001b[0;34m,\u001b[0m \u001b[0mexc_info\u001b[0m\u001b[0;34m=\u001b[0m\u001b[0;32mTrue\u001b[0m\u001b[0;34m)\u001b[0m\u001b[0;34m\u001b[0m\u001b[0;34m\u001b[0m\u001b[0m\n",
            "\u001b[0;31mKeyboardInterrupt\u001b[0m: Interrupted by user"
          ]
        }
      ]
    },
    {
      "cell_type": "markdown",
      "source": [
        "## DOING CART TOTAL"
      ],
      "metadata": {
        "id": "dZdGt2k1Zu3L"
      }
    },
    {
      "cell_type": "code",
      "source": [
        "cart"
      ],
      "metadata": {
        "colab": {
          "base_uri": "https://localhost:8080/"
        },
        "id": "b2atEj72WyZ9",
        "outputId": "20dcffb5-d59a-4cc2-f940-1315b3531ccb"
      },
      "execution_count": null,
      "outputs": [
        {
          "output_type": "execute_result",
          "data": {
            "text/plain": [
              "{'Big Mac': {'Price': 230,\n",
              "  'Description': 'The iconic double-decker burger featuring two beef patties, special sauce, lettuce, cheese, pickles, and onions on a sesame seed bun.',\n",
              "  'Veg': False,\n",
              "  'Type': 'Burger',\n",
              "  'Customisations': {'Extra Patty': 50.0, 'Bacon': 20.0},\n",
              "  'Discount Price': 213.89999999999998,\n",
              "  'Discount': 7.0,\n",
              "  'Tax': 41.4,\n",
              "  'Taxed Price': 255.29999999999998,\n",
              "  'Quantity': 1,\n",
              "  'Custom_add': {'Extra Patty': {'Price': 50.0, 'Quantity': 1},\n",
              "   'Bacon': {'Price': 20.0, 'Quantity': 1}},\n",
              "  'Final Price': 325.3},\n",
              " 'Mango Tango Smoothie': {'Price': 80,\n",
              "  'Description': 'A refreshing smoothie made with ripe mangoes, yogurt, and a hint of honey.',\n",
              "  'Veg': True,\n",
              "  'Type': 'Beverage',\n",
              "  'Customisations': {'Extra Mango': 10.0, 'Whipped Cream': 5.0},\n",
              "  'Discount Price': 74.39999999999999,\n",
              "  'Discount': 7.0,\n",
              "  'Tax': 14.4,\n",
              "  'Taxed Price': 88.8,\n",
              "  'Quantity': 1,\n",
              "  'Custom_add': {},\n",
              "  'Final Price': 88.8}}"
            ]
          },
          "metadata": {},
          "execution_count": 35
        }
      ]
    },
    {
      "cell_type": "code",
      "source": [
        "total=0\n",
        "for k,v in cart.items():\n",
        "  total+=v['Final Price']\n",
        "  total=round(total,2)\n",
        "print(f'Cart Total is : {total}')"
      ],
      "metadata": {
        "colab": {
          "base_uri": "https://localhost:8080/"
        },
        "id": "BJRMmAgpaw8T",
        "outputId": "bf5e7641-ad3d-48b2-d414-b1d09bbaad30"
      },
      "execution_count": null,
      "outputs": [
        {
          "output_type": "stream",
          "name": "stdout",
          "text": [
            "Cart Total is : 414.1\n"
          ]
        }
      ]
    },
    {
      "cell_type": "markdown",
      "source": [
        "### MAKING IT A FUNCTION"
      ],
      "metadata": {
        "id": "QJXRDdFRruZn"
      }
    },
    {
      "cell_type": "code",
      "source": [
        "def cart_total():\n",
        "  total=0\n",
        "  for k,v in cart.items():\n",
        "    total+=v['Final Price']\n",
        "    total=round(total,2)\n",
        "  print(f'Cart Total is : {total}')"
      ],
      "metadata": {
        "id": "71tFws3YruHK"
      },
      "execution_count": null,
      "outputs": []
    },
    {
      "cell_type": "code",
      "source": [
        "cart_total()"
      ],
      "metadata": {
        "colab": {
          "base_uri": "https://localhost:8080/"
        },
        "id": "3eYOzskt2qNT",
        "outputId": "d31c77bc-14be-470c-e783-b367a96e659e"
      },
      "execution_count": null,
      "outputs": [
        {
          "output_type": "stream",
          "name": "stdout",
          "text": [
            "Cart Total is : 916.6\n"
          ]
        }
      ]
    },
    {
      "cell_type": "markdown",
      "source": [
        "## DISPLAYING FULL CART"
      ],
      "metadata": {
        "id": "bjY1H4utiTsk"
      }
    },
    {
      "cell_type": "code",
      "source": [
        "def show_cart():\n",
        "  import pprint\n",
        "  pprint.pprint(cart)"
      ],
      "metadata": {
        "id": "SDHprOSMiRdO"
      },
      "execution_count": null,
      "outputs": []
    },
    {
      "cell_type": "code",
      "source": [
        "show_cart()"
      ],
      "metadata": {
        "colab": {
          "base_uri": "https://localhost:8080/"
        },
        "id": "tsp6_RUq2vQu",
        "outputId": "dd166d58-4c9f-4e91-ae91-c9a01e1c056b"
      },
      "execution_count": null,
      "outputs": [
        {
          "output_type": "stream",
          "name": "stdout",
          "text": [
            "{'Big Mac': {'Custom_add': {'Bacon': {'Price': 20.0, 'Quantity': 1},\n",
            "                            'Extra Patty': {'Price': 50.0, 'Quantity': 1}},\n",
            "             'Customisations': {'Bacon': 20.0, 'Extra Patty': 50.0},\n",
            "             'Description': 'The iconic double-decker burger featuring two '\n",
            "                            'beef patties, special sauce, lettuce, cheese, '\n",
            "                            'pickles, and onions on a sesame seed bun.',\n",
            "             'Discount': 7.0,\n",
            "             'Discount Price': 213.89999999999998,\n",
            "             'Final Price': 325.3,\n",
            "             'Price': 230,\n",
            "             'Quantity': 1,\n",
            "             'Tax': 41.4,\n",
            "             'Taxed Price': 255.29999999999998,\n",
            "             'Type': 'Burger',\n",
            "             'Veg': False},\n",
            " 'Mango Tango Smoothie': {'Custom_add': {},\n",
            "                          'Customisations': {'Extra Mango': 10.0,\n",
            "                                             'Whipped Cream': 5.0},\n",
            "                          'Description': 'A refreshing smoothie made with ripe '\n",
            "                                         'mangoes, yogurt, and a hint of '\n",
            "                                         'honey.',\n",
            "                          'Discount': 7.0,\n",
            "                          'Discount Price': 74.39999999999999,\n",
            "                          'Final Price': 88.8,\n",
            "                          'Price': 80,\n",
            "                          'Quantity': 1,\n",
            "                          'Tax': 14.4,\n",
            "                          'Taxed Price': 88.8,\n",
            "                          'Type': 'Beverage',\n",
            "                          'Veg': True}}\n"
          ]
        }
      ]
    },
    {
      "cell_type": "markdown",
      "source": [
        "# SET DISCOUNT FUNCTIONALITIES"
      ],
      "metadata": {
        "id": "ySnup0-6dYwG"
      }
    },
    {
      "cell_type": "code",
      "source": [
        "items.menu"
      ],
      "metadata": {
        "colab": {
          "base_uri": "https://localhost:8080/"
        },
        "id": "gbIsKZHvdfQH",
        "outputId": "5dc7f778-a458-4966-f2b9-1cd187bb6478"
      },
      "execution_count": null,
      "outputs": [
        {
          "output_type": "execute_result",
          "data": {
            "text/plain": [
              "{'Mexican McAloo Tikki Burger': {'Price': 250,\n",
              "  'Description': 'The Tastiest Burger in the town!',\n",
              "  'Veg': True,\n",
              "  'Type': 'Burger',\n",
              "  'Customisations': {},\n",
              "  'Discount Price': 187.5,\n",
              "  'Discount': 25.0,\n",
              "  'Tax': 45.0,\n",
              "  'Taxed Price': 232.5},\n",
              " 'Vej Maharaja Mac': {'Price': 250,\n",
              "  'Description': 'The King of Burgers is here',\n",
              "  'Veg': True,\n",
              "  'Type': 'Burger',\n",
              "  'Customisations': {'Tomato': 5.0, 'Onion': 7.5},\n",
              "  'Discount Price': 187.5,\n",
              "  'Discount': 25.0,\n",
              "  'Tax': 45.0,\n",
              "  'Taxed Price': 232.5},\n",
              " 'McAlooTikki': {'Price': 63,\n",
              "  'Description': \"The World's favourite Indian burger! Crunchy potato and peas patty with delicious Tom Mayo & crunchy onions; now with Whole Wheat Bun\",\n",
              "  'Veg': True,\n",
              "  'Type': 'Burger',\n",
              "  'Customisations': {'Extra Cheese': 10.0, 'Spicy Sauce': 5.0},\n",
              "  'Discount Price': 47.25,\n",
              "  'Discount': 25.0,\n",
              "  'Tax': 11.34,\n",
              "  'Taxed Price': 58.59},\n",
              " 'McSpicy Paneer Burger': {'Price': 200,\n",
              "  'Description': 'Rich and filling cottage cheese patty coated in spicy, crispy batter topped with a creamy sauce and crispy shredded lettuce will have you craving for more.',\n",
              "  'Veg': True,\n",
              "  'Type': 'Burger',\n",
              "  'Customisations': {'Onions': 5.0, 'Tomatoes': 7.0, 'Lettuce': 4.0},\n",
              "  'Discount Price': 150.0,\n",
              "  'Discount': 25.0,\n",
              "  'Tax': 36.0,\n",
              "  'Taxed Price': 186.0},\n",
              " 'Big Mac': {'Price': 230,\n",
              "  'Description': 'The iconic double-decker burger featuring two beef patties, special sauce, lettuce, cheese, pickles, and onions on a sesame seed bun.',\n",
              "  'Veg': False,\n",
              "  'Type': 'Burger',\n",
              "  'Customisations': {'Extra Patty': 50.0, 'Bacon': 20.0},\n",
              "  'Discount Price': 172.5,\n",
              "  'Discount': 25.0,\n",
              "  'Tax': 41.4,\n",
              "  'Taxed Price': 213.9},\n",
              " 'Filet-O-Fish': {'Price': 180,\n",
              "  'Description': 'A delicious fish fillet with tartar sauce and shredded lettuce, served on a soft steamed bun.',\n",
              "  'Veg': False,\n",
              "  'Type': 'Burger',\n",
              "  'Customisations': {},\n",
              "  'Discount Price': 135.0,\n",
              "  'Discount': 25.0,\n",
              "  'Tax': 32.4,\n",
              "  'Taxed Price': 167.4},\n",
              " 'Spicy Chicken Sandwich': {'Price': 170,\n",
              "  'Description': 'Crispy and spicy chicken patty with lettuce and mayonnaise, served on a toasted bun.',\n",
              "  'Veg': False,\n",
              "  'Type': 'Burger',\n",
              "  'Customisations': {'Extra Spicy': 5.0, 'Pickles': 3.0},\n",
              "  'Discount Price': 127.5,\n",
              "  'Discount': 25.0,\n",
              "  'Tax': 30.6,\n",
              "  'Taxed Price': 158.1},\n",
              " 'Veggie Delight Wrap': {'Price': 150,\n",
              "  'Description': 'A wholesome wrap filled with a variety of fresh vegetables and a tangy sauce, wrapped in a soft tortilla.',\n",
              "  'Veg': True,\n",
              "  'Type': 'Wrap',\n",
              "  'Customisations': {},\n",
              "  'Discount Price': 112.5,\n",
              "  'Discount': 25.0,\n",
              "  'Tax': 27.0,\n",
              "  'Taxed Price': 139.5},\n",
              " 'Grilled Chicken Salad': {'Price': 190,\n",
              "  'Description': 'Grilled chicken breast slices served on a bed of mixed greens with a choice of dressing.',\n",
              "  'Veg': False,\n",
              "  'Type': 'Salad',\n",
              "  'Customisations': {},\n",
              "  'Discount Price': 142.5,\n",
              "  'Discount': 25.0,\n",
              "  'Tax': 34.2,\n",
              "  'Taxed Price': 176.7},\n",
              " 'Margherita Pizza': {'Price': 250,\n",
              "  'Description': 'Classic Italian pizza with tomato sauce, mozzarella cheese, and fresh basil leaves.',\n",
              "  'Veg': True,\n",
              "  'Type': 'Pizza',\n",
              "  'Customisations': {'Extra Toppings (Veggies)': 15.0, 'Extra Cheese': 10.0},\n",
              "  'Discount Price': 187.5,\n",
              "  'Discount': 25.0,\n",
              "  'Tax': 45.0,\n",
              "  'Taxed Price': 232.5},\n",
              " 'Pepperoni Pizza': {'Price': 270,\n",
              "  'Description': 'A pizza topped with pepperoni slices, tomato sauce, and melted cheese.',\n",
              "  'Veg': False,\n",
              "  'Type': 'Pizza',\n",
              "  'Customisations': {},\n",
              "  'Discount Price': 202.5,\n",
              "  'Discount': 25.0,\n",
              "  'Tax': 48.6,\n",
              "  'Taxed Price': 251.1},\n",
              " 'Sushi Platter': {'Price': 350,\n",
              "  'Description': 'Assorted sushi rolls with fresh seafood, rice, and seaweed, served with soy sauce and wasabi.',\n",
              "  'Veg': False,\n",
              "  'Type': 'Sushi',\n",
              "  'Customisations': {},\n",
              "  'Discount Price': 262.5,\n",
              "  'Discount': 25.0,\n",
              "  'Tax': 63.0,\n",
              "  'Taxed Price': 325.5},\n",
              " 'Mango Tango Smoothie': {'Price': 80,\n",
              "  'Description': 'A refreshing smoothie made with ripe mangoes, yogurt, and a hint of honey.',\n",
              "  'Veg': True,\n",
              "  'Type': 'Beverage',\n",
              "  'Customisations': {'Extra Mango': 10.0, 'Whipped Cream': 5.0},\n",
              "  'Discount Price': 60.0,\n",
              "  'Discount': 25.0,\n",
              "  'Tax': 14.4,\n",
              "  'Taxed Price': 74.4},\n",
              " 'Iced Caramel Macchiato': {'Price': 160,\n",
              "  'Description': 'Espresso mixed with caramel syrup, milk, and ice, topped with whipped cream.',\n",
              "  'Veg': True,\n",
              "  'Type': 'Beverage',\n",
              "  'Customisations': {},\n",
              "  'Discount Price': 120.0,\n",
              "  'Discount': 25.0,\n",
              "  'Tax': 28.8,\n",
              "  'Taxed Price': 148.8},\n",
              " 'Chocolate Brownie Sundae': {'Price': 120,\n",
              "  'Description': 'Warm chocolate brownie topped with vanilla ice cream, chocolate sauce, and whipped cream.',\n",
              "  'Veg': True,\n",
              "  'Type': 'Dessert',\n",
              "  'Customisations': {},\n",
              "  'Discount Price': 90.0,\n",
              "  'Discount': 25.0,\n",
              "  'Tax': 21.6,\n",
              "  'Taxed Price': 111.6},\n",
              " 'Fruit Salad': {'Price': 90,\n",
              "  'Description': 'A healthy combination of fresh fruits, perfect as a light and refreshing dessert.',\n",
              "  'Veg': True,\n",
              "  'Type': 'Dessert',\n",
              "  'Customisations': {},\n",
              "  'Discount Price': 67.5,\n",
              "  'Discount': 25.0,\n",
              "  'Tax': 16.2,\n",
              "  'Taxed Price': 83.7},\n",
              " 'Chicken Tikka Masala': {'Price': 220,\n",
              "  'Description': 'Tender pieces of chicken cooked in a rich tomato and cream sauce, served with naan bread.',\n",
              "  'Veg': False,\n",
              "  'Type': 'Main Course',\n",
              "  'Customisations': {},\n",
              "  'Discount Price': 165.0,\n",
              "  'Discount': 25.0,\n",
              "  'Tax': 39.6,\n",
              "  'Taxed Price': 204.6}}"
            ]
          },
          "metadata": {},
          "execution_count": 61
        }
      ]
    },
    {
      "cell_type": "markdown",
      "source": [
        "## SETTING DISCOUNT FOR PARTICULAR CATEGORY"
      ],
      "metadata": {
        "id": "jeBxUXs7fPca"
      }
    },
    {
      "cell_type": "code",
      "source": [
        "print(menu_base())\n",
        "fetch_category=str(input(\"Which Category you want to update Discount for?\"))\n",
        "discount=float(input(\"What discount you want to set ?\"))\n",
        "for k,v in items.menu.items():\n",
        "  if v['Type']==fetch_category:\n",
        "    v['Discount']=discount\n",
        "    v['Discount Price']=v['Price']*(1-(discount/100))\n",
        "    v['Discount Price']=round(v['Discount Price'],2)\n",
        "    v['Taxed Price']=v['Discount Price']+v['Tax']\n"
      ],
      "metadata": {
        "colab": {
          "base_uri": "https://localhost:8080/"
        },
        "id": "S0eilX3re23Z",
        "outputId": "5ae62f1a-473b-4226-85aa-19cd90b40303"
      },
      "execution_count": null,
      "outputs": [
        {
          "name": "stdout",
          "output_type": "stream",
          "text": [
            "['Burger', 'Wrap', 'Salad', 'Pizza', 'Sushi', 'Beverage', 'Dessert', 'Main Course']\n",
            "Which Category you want to update Discount for?Burger\n",
            "What discount you want to set ?12\n"
          ]
        }
      ]
    },
    {
      "cell_type": "markdown",
      "source": [
        "### MAKING IT A FUNCTION"
      ],
      "metadata": {
        "id": "o9M_eiSE23GQ"
      }
    },
    {
      "cell_type": "code",
      "source": [
        "def set_discount_category():\n",
        "  print(menu_base())\n",
        "  fetch_category=str(input(\"Which Category you want to update Discount for?\"))\n",
        "  discount=float(input(\"What discount you want to set ?\"))\n",
        "  for k,v in items.menu.items():\n",
        "    if v['Type']==fetch_category:\n",
        "      v['Discount']=discount\n",
        "      v['Discount Price']=v['Price']*(1-(discount/100))\n",
        "      v['Discount Price']=round(v['Discount Price'],2)\n",
        "      v['Taxed Price']=v['Discount Price']+v['Tax']\n"
      ],
      "metadata": {
        "id": "YPsZCD7525XC"
      },
      "execution_count": null,
      "outputs": []
    },
    {
      "cell_type": "code",
      "source": [
        "set_discount_category()"
      ],
      "metadata": {
        "id": "ExsBSJ9o3Apa"
      },
      "execution_count": null,
      "outputs": []
    },
    {
      "cell_type": "code",
      "source": [
        "items.menu"
      ],
      "metadata": {
        "colab": {
          "base_uri": "https://localhost:8080/"
        },
        "id": "QMqh1d4NfU1Z",
        "outputId": "a3fc1295-a849-4b6d-d4fe-69799d4f5221"
      },
      "execution_count": null,
      "outputs": [
        {
          "output_type": "execute_result",
          "data": {
            "text/plain": [
              "{'Mexican McAloo Tikki Burger': {'Price': 250,\n",
              "  'Description': 'The Tastiest Burger in the town!',\n",
              "  'Veg': True,\n",
              "  'Type': 'Burger',\n",
              "  'Customisations': {},\n",
              "  'Discount Price': 220.0,\n",
              "  'Discount': 12.0,\n",
              "  'Tax': 45.0,\n",
              "  'Taxed Price': 265.0},\n",
              " 'Vej Maharaja Mac': {'Price': 250,\n",
              "  'Description': 'The King of Burgers is here',\n",
              "  'Veg': True,\n",
              "  'Type': 'Burger',\n",
              "  'Customisations': {'Onion': 5.0, 'Tomato': 7.5, 'Lettuce': 8.0},\n",
              "  'Discount Price': 220.0,\n",
              "  'Discount': 12.0,\n",
              "  'Tax': 45.0,\n",
              "  'Taxed Price': 265.0},\n",
              " 'McAlooTikki': {'Price': 63,\n",
              "  'Description': \"The World's favourite Indian burger! Crunchy potato and peas patty with delicious Tom Mayo & crunchy onions; now with Whole Wheat Bun\",\n",
              "  'Veg': True,\n",
              "  'Type': 'Burger',\n",
              "  'Customisations': {'Extra Cheese': 10.0, 'Spicy Sauce': 5.0},\n",
              "  'Discount Price': 55.44,\n",
              "  'Discount': 12.0,\n",
              "  'Tax': 11.34,\n",
              "  'Taxed Price': 66.78},\n",
              " 'McSpicy Paneer Burger': {'Price': 200,\n",
              "  'Description': 'Rich and filling cottage cheese patty coated in spicy, crispy batter topped with a creamy sauce and crispy shredded lettuce will have you craving for more.',\n",
              "  'Veg': True,\n",
              "  'Type': 'Burger',\n",
              "  'Customisations': {'Onions': 5.0, 'Tomatoes': 7.0, 'Lettuce': 4.0},\n",
              "  'Discount Price': 176.0,\n",
              "  'Discount': 12.0,\n",
              "  'Tax': 36.0,\n",
              "  'Taxed Price': 212.0},\n",
              " 'Big Mac': {'Price': 230,\n",
              "  'Description': 'The iconic double-decker burger featuring two beef patties, special sauce, lettuce, cheese, pickles, and onions on a sesame seed bun.',\n",
              "  'Veg': False,\n",
              "  'Type': 'Burger',\n",
              "  'Customisations': {'Extra Patty': 50.0, 'Bacon': 20.0},\n",
              "  'Discount Price': 202.4,\n",
              "  'Discount': 12.0,\n",
              "  'Tax': 41.4,\n",
              "  'Taxed Price': 243.8},\n",
              " 'Filet-O-Fish': {'Price': 180,\n",
              "  'Description': 'A delicious fish fillet with tartar sauce and shredded lettuce, served on a soft steamed bun.',\n",
              "  'Veg': False,\n",
              "  'Type': 'Burger',\n",
              "  'Customisations': {},\n",
              "  'Discount Price': 158.4,\n",
              "  'Discount': 12.0,\n",
              "  'Tax': 32.4,\n",
              "  'Taxed Price': 190.8},\n",
              " 'Spicy Chicken Sandwich': {'Price': 170,\n",
              "  'Description': 'Crispy and spicy chicken patty with lettuce and mayonnaise, served on a toasted bun.',\n",
              "  'Veg': False,\n",
              "  'Type': 'Burger',\n",
              "  'Customisations': {'Extra Spicy': 5.0, 'Pickles': 3.0},\n",
              "  'Discount Price': 149.6,\n",
              "  'Discount': 12.0,\n",
              "  'Tax': 30.6,\n",
              "  'Taxed Price': 180.2},\n",
              " 'Veggie Delight Wrap': {'Price': 150,\n",
              "  'Description': 'A wholesome wrap filled with a variety of fresh vegetables and a tangy sauce, wrapped in a soft tortilla.',\n",
              "  'Veg': True,\n",
              "  'Type': 'Wrap',\n",
              "  'Customisations': {},\n",
              "  'Discount Price': 139.5,\n",
              "  'Discount': 7.0,\n",
              "  'Tax': 27.0,\n",
              "  'Taxed Price': 166.5},\n",
              " 'Grilled Chicken Salad': {'Price': 190,\n",
              "  'Description': 'Grilled chicken breast slices served on a bed of mixed greens with a choice of dressing.',\n",
              "  'Veg': False,\n",
              "  'Type': 'Salad',\n",
              "  'Customisations': {},\n",
              "  'Discount Price': 176.7,\n",
              "  'Discount': 7.0,\n",
              "  'Tax': 34.2,\n",
              "  'Taxed Price': 210.89999999999998},\n",
              " 'Margherita Pizza': {'Price': 250,\n",
              "  'Description': 'Classic Italian pizza with tomato sauce, mozzarella cheese, and fresh basil leaves.',\n",
              "  'Veg': True,\n",
              "  'Type': 'Pizza',\n",
              "  'Customisations': {'Extra Toppings (Veggies)': 15.0, 'Extra Cheese': 10.0},\n",
              "  'Discount Price': 232.49999999999997,\n",
              "  'Discount': 7.0,\n",
              "  'Tax': 45.0,\n",
              "  'Taxed Price': 277.5},\n",
              " 'Pepperoni Pizza': {'Price': 270,\n",
              "  'Description': 'A pizza topped with pepperoni slices, tomato sauce, and melted cheese.',\n",
              "  'Veg': False,\n",
              "  'Type': 'Pizza',\n",
              "  'Customisations': {},\n",
              "  'Discount Price': 251.1,\n",
              "  'Discount': 7.0,\n",
              "  'Tax': 48.6,\n",
              "  'Taxed Price': 299.7},\n",
              " 'Sushi Platter': {'Price': 350,\n",
              "  'Description': 'Assorted sushi rolls with fresh seafood, rice, and seaweed, served with soy sauce and wasabi.',\n",
              "  'Veg': False,\n",
              "  'Type': 'Sushi',\n",
              "  'Customisations': {},\n",
              "  'Discount Price': 325.5,\n",
              "  'Discount': 7.0,\n",
              "  'Tax': 63.0,\n",
              "  'Taxed Price': 388.5},\n",
              " 'Mango Tango Smoothie': {'Price': 80,\n",
              "  'Description': 'A refreshing smoothie made with ripe mangoes, yogurt, and a hint of honey.',\n",
              "  'Veg': True,\n",
              "  'Type': 'Beverage',\n",
              "  'Customisations': {'Extra Mango': 10.0, 'Whipped Cream': 5.0},\n",
              "  'Discount Price': 74.39999999999999,\n",
              "  'Discount': 7.0,\n",
              "  'Tax': 14.4,\n",
              "  'Taxed Price': 88.8},\n",
              " 'Iced Caramel Macchiato': {'Price': 160,\n",
              "  'Description': 'Espresso mixed with caramel syrup, milk, and ice, topped with whipped cream.',\n",
              "  'Veg': True,\n",
              "  'Type': 'Beverage',\n",
              "  'Customisations': {},\n",
              "  'Discount Price': 148.79999999999998,\n",
              "  'Discount': 7.0,\n",
              "  'Tax': 28.8,\n",
              "  'Taxed Price': 177.6},\n",
              " 'Chocolate Brownie Sundae': {'Price': 120,\n",
              "  'Description': 'Warm chocolate brownie topped with vanilla ice cream, chocolate sauce, and whipped cream.',\n",
              "  'Veg': True,\n",
              "  'Type': 'Dessert',\n",
              "  'Customisations': {},\n",
              "  'Discount Price': 111.6,\n",
              "  'Discount': 7.0,\n",
              "  'Tax': 21.6,\n",
              "  'Taxed Price': 133.2},\n",
              " 'Fruit Salad': {'Price': 90,\n",
              "  'Description': 'A healthy combination of fresh fruits, perfect as a light and refreshing dessert.',\n",
              "  'Veg': True,\n",
              "  'Type': 'Dessert',\n",
              "  'Customisations': {},\n",
              "  'Discount Price': 83.69999999999999,\n",
              "  'Discount': 7.0,\n",
              "  'Tax': 16.2,\n",
              "  'Taxed Price': 99.89999999999999},\n",
              " 'Chicken Tikka Masala': {'Price': 220,\n",
              "  'Description': 'Tender pieces of chicken cooked in a rich tomato and cream sauce, served with naan bread.',\n",
              "  'Veg': False,\n",
              "  'Type': 'Main Course',\n",
              "  'Customisations': {},\n",
              "  'Discount Price': 204.6,\n",
              "  'Discount': 7.0,\n",
              "  'Tax': 39.6,\n",
              "  'Taxed Price': 244.2}}"
            ]
          },
          "metadata": {},
          "execution_count": 43
        }
      ]
    },
    {
      "cell_type": "markdown",
      "source": [
        "## SETTING DISCOUNT FOR PARTICULAR DISH"
      ],
      "metadata": {
        "id": "-IgRvMvMfhAY"
      }
    },
    {
      "cell_type": "code",
      "source": [
        "fetch_dish=str(input(\"Which Dish you want to update Discount for?\"))\n",
        "discount=float(input(\"What discount you want to set ?\"))\n",
        "for k,v in items.menu.items():\n",
        "  if k==fetch_dish:\n",
        "    v['Discount']=discount\n",
        "    v['Discount Price']=v['Price']*(1-(discount/100))\n",
        "    v['Discount Price']=round(v['Discount Price'],2)\n",
        "    v['Taxed Price']=v['Discount Price']+v['Tax']\n"
      ],
      "metadata": {
        "colab": {
          "base_uri": "https://localhost:8080/"
        },
        "id": "Kmr-ARV9fYM1",
        "outputId": "ca6a0ad0-adb9-4c5a-d98a-aeb7abf1e6ba"
      },
      "execution_count": null,
      "outputs": [
        {
          "name": "stdout",
          "output_type": "stream",
          "text": [
            "Which Dish you want to update Discount for?Filet-O-Fish\n",
            "What discount you want to set ?100\n"
          ]
        }
      ]
    },
    {
      "cell_type": "markdown",
      "source": [
        "### MAKING IT A FUNCTION"
      ],
      "metadata": {
        "id": "92hqPiva3G_H"
      }
    },
    {
      "cell_type": "code",
      "source": [
        "def set_dish_discount():\n",
        "  fetch_dish=str(input(\"Which Dish you want to update Discount for?\"))\n",
        "  discount=float(input(\"What discount you want to set ?\"))\n",
        "  for k,v in items.menu.items():\n",
        "    if k==fetch_dish:\n",
        "      v['Discount']=discount\n",
        "      v['Discount Price']=v['Price']*(1-(discount/100))\n",
        "      v['Discount Price']=round(v['Discount Price'],2)\n",
        "      v['Taxed Price']=v['Discount Price']+v['Tax']\n"
      ],
      "metadata": {
        "id": "SGW-cTGW3Uf6"
      },
      "execution_count": null,
      "outputs": []
    },
    {
      "cell_type": "code",
      "source": [
        "items.menu"
      ],
      "metadata": {
        "colab": {
          "base_uri": "https://localhost:8080/"
        },
        "id": "9P6Ep2tjfoiv",
        "outputId": "a0e60ed6-e7c4-401e-ebfe-919dd3f43d89"
      },
      "execution_count": null,
      "outputs": [
        {
          "output_type": "execute_result",
          "data": {
            "text/plain": [
              "{'Mexican McAloo Tikki Burger': {'Price': 250,\n",
              "  'Description': 'The Tastiest Burger in the town!',\n",
              "  'Veg': True,\n",
              "  'Type': 'Burger',\n",
              "  'Customisations': {},\n",
              "  'Discount Price': 220.0,\n",
              "  'Discount': 12.0,\n",
              "  'Tax': 45.0,\n",
              "  'Taxed Price': 265.0},\n",
              " 'Vej Maharaja Mac': {'Price': 250,\n",
              "  'Description': 'The King of Burgers is here',\n",
              "  'Veg': True,\n",
              "  'Type': 'Burger',\n",
              "  'Customisations': {'Onion': 5.0, 'Tomato': 7.5, 'Lettuce': 8.0},\n",
              "  'Discount Price': 220.0,\n",
              "  'Discount': 12.0,\n",
              "  'Tax': 45.0,\n",
              "  'Taxed Price': 265.0},\n",
              " 'McAlooTikki': {'Price': 63,\n",
              "  'Description': \"The World's favourite Indian burger! Crunchy potato and peas patty with delicious Tom Mayo & crunchy onions; now with Whole Wheat Bun\",\n",
              "  'Veg': True,\n",
              "  'Type': 'Burger',\n",
              "  'Customisations': {'Extra Cheese': 10.0, 'Spicy Sauce': 5.0},\n",
              "  'Discount Price': 55.44,\n",
              "  'Discount': 12.0,\n",
              "  'Tax': 11.34,\n",
              "  'Taxed Price': 66.78},\n",
              " 'McSpicy Paneer Burger': {'Price': 200,\n",
              "  'Description': 'Rich and filling cottage cheese patty coated in spicy, crispy batter topped with a creamy sauce and crispy shredded lettuce will have you craving for more.',\n",
              "  'Veg': True,\n",
              "  'Type': 'Burger',\n",
              "  'Customisations': {'Onions': 5.0, 'Tomatoes': 7.0, 'Lettuce': 4.0},\n",
              "  'Discount Price': 176.0,\n",
              "  'Discount': 12.0,\n",
              "  'Tax': 36.0,\n",
              "  'Taxed Price': 212.0},\n",
              " 'Big Mac': {'Price': 230,\n",
              "  'Description': 'The iconic double-decker burger featuring two beef patties, special sauce, lettuce, cheese, pickles, and onions on a sesame seed bun.',\n",
              "  'Veg': False,\n",
              "  'Type': 'Burger',\n",
              "  'Customisations': {'Extra Patty': 50.0, 'Bacon': 20.0},\n",
              "  'Discount Price': 202.4,\n",
              "  'Discount': 12.0,\n",
              "  'Tax': 41.4,\n",
              "  'Taxed Price': 243.8},\n",
              " 'Filet-O-Fish': {'Price': 180,\n",
              "  'Description': 'A delicious fish fillet with tartar sauce and shredded lettuce, served on a soft steamed bun.',\n",
              "  'Veg': False,\n",
              "  'Type': 'Burger',\n",
              "  'Customisations': {},\n",
              "  'Discount Price': 0.0,\n",
              "  'Discount': 100.0,\n",
              "  'Tax': 32.4,\n",
              "  'Taxed Price': 32.4},\n",
              " 'Spicy Chicken Sandwich': {'Price': 170,\n",
              "  'Description': 'Crispy and spicy chicken patty with lettuce and mayonnaise, served on a toasted bun.',\n",
              "  'Veg': False,\n",
              "  'Type': 'Burger',\n",
              "  'Customisations': {'Extra Spicy': 5.0, 'Pickles': 3.0},\n",
              "  'Discount Price': 149.6,\n",
              "  'Discount': 12.0,\n",
              "  'Tax': 30.6,\n",
              "  'Taxed Price': 180.2},\n",
              " 'Veggie Delight Wrap': {'Price': 150,\n",
              "  'Description': 'A wholesome wrap filled with a variety of fresh vegetables and a tangy sauce, wrapped in a soft tortilla.',\n",
              "  'Veg': True,\n",
              "  'Type': 'Wrap',\n",
              "  'Customisations': {},\n",
              "  'Discount Price': 139.5,\n",
              "  'Discount': 7.0,\n",
              "  'Tax': 27.0,\n",
              "  'Taxed Price': 166.5},\n",
              " 'Grilled Chicken Salad': {'Price': 190,\n",
              "  'Description': 'Grilled chicken breast slices served on a bed of mixed greens with a choice of dressing.',\n",
              "  'Veg': False,\n",
              "  'Type': 'Salad',\n",
              "  'Customisations': {},\n",
              "  'Discount Price': 176.7,\n",
              "  'Discount': 7.0,\n",
              "  'Tax': 34.2,\n",
              "  'Taxed Price': 210.89999999999998},\n",
              " 'Margherita Pizza': {'Price': 250,\n",
              "  'Description': 'Classic Italian pizza with tomato sauce, mozzarella cheese, and fresh basil leaves.',\n",
              "  'Veg': True,\n",
              "  'Type': 'Pizza',\n",
              "  'Customisations': {'Extra Toppings (Veggies)': 15.0, 'Extra Cheese': 10.0},\n",
              "  'Discount Price': 232.49999999999997,\n",
              "  'Discount': 7.0,\n",
              "  'Tax': 45.0,\n",
              "  'Taxed Price': 277.5},\n",
              " 'Pepperoni Pizza': {'Price': 270,\n",
              "  'Description': 'A pizza topped with pepperoni slices, tomato sauce, and melted cheese.',\n",
              "  'Veg': False,\n",
              "  'Type': 'Pizza',\n",
              "  'Customisations': {},\n",
              "  'Discount Price': 251.1,\n",
              "  'Discount': 7.0,\n",
              "  'Tax': 48.6,\n",
              "  'Taxed Price': 299.7},\n",
              " 'Sushi Platter': {'Price': 350,\n",
              "  'Description': 'Assorted sushi rolls with fresh seafood, rice, and seaweed, served with soy sauce and wasabi.',\n",
              "  'Veg': False,\n",
              "  'Type': 'Sushi',\n",
              "  'Customisations': {},\n",
              "  'Discount Price': 325.5,\n",
              "  'Discount': 7.0,\n",
              "  'Tax': 63.0,\n",
              "  'Taxed Price': 388.5},\n",
              " 'Mango Tango Smoothie': {'Price': 80,\n",
              "  'Description': 'A refreshing smoothie made with ripe mangoes, yogurt, and a hint of honey.',\n",
              "  'Veg': True,\n",
              "  'Type': 'Beverage',\n",
              "  'Customisations': {'Extra Mango': 10.0, 'Whipped Cream': 5.0},\n",
              "  'Discount Price': 74.39999999999999,\n",
              "  'Discount': 7.0,\n",
              "  'Tax': 14.4,\n",
              "  'Taxed Price': 88.8},\n",
              " 'Iced Caramel Macchiato': {'Price': 160,\n",
              "  'Description': 'Espresso mixed with caramel syrup, milk, and ice, topped with whipped cream.',\n",
              "  'Veg': True,\n",
              "  'Type': 'Beverage',\n",
              "  'Customisations': {},\n",
              "  'Discount Price': 148.79999999999998,\n",
              "  'Discount': 7.0,\n",
              "  'Tax': 28.8,\n",
              "  'Taxed Price': 177.6},\n",
              " 'Chocolate Brownie Sundae': {'Price': 120,\n",
              "  'Description': 'Warm chocolate brownie topped with vanilla ice cream, chocolate sauce, and whipped cream.',\n",
              "  'Veg': True,\n",
              "  'Type': 'Dessert',\n",
              "  'Customisations': {},\n",
              "  'Discount Price': 111.6,\n",
              "  'Discount': 7.0,\n",
              "  'Tax': 21.6,\n",
              "  'Taxed Price': 133.2},\n",
              " 'Fruit Salad': {'Price': 90,\n",
              "  'Description': 'A healthy combination of fresh fruits, perfect as a light and refreshing dessert.',\n",
              "  'Veg': True,\n",
              "  'Type': 'Dessert',\n",
              "  'Customisations': {},\n",
              "  'Discount Price': 83.69999999999999,\n",
              "  'Discount': 7.0,\n",
              "  'Tax': 16.2,\n",
              "  'Taxed Price': 99.89999999999999},\n",
              " 'Chicken Tikka Masala': {'Price': 220,\n",
              "  'Description': 'Tender pieces of chicken cooked in a rich tomato and cream sauce, served with naan bread.',\n",
              "  'Veg': False,\n",
              "  'Type': 'Main Course',\n",
              "  'Customisations': {},\n",
              "  'Discount Price': 204.6,\n",
              "  'Discount': 7.0,\n",
              "  'Tax': 39.6,\n",
              "  'Taxed Price': 244.2}}"
            ]
          },
          "metadata": {},
          "execution_count": 45
        }
      ]
    },
    {
      "cell_type": "markdown",
      "source": [
        "# FRAMING FUNCTIONALITIES"
      ],
      "metadata": {
        "id": "jVlYGuFknE1v"
      }
    },
    {
      "cell_type": "markdown",
      "source": [
        "## FRAMING MENU"
      ],
      "metadata": {
        "id": "3dclVcILnc0h"
      }
    },
    {
      "cell_type": "code",
      "source": [
        "def frame_menu():\n",
        "  import pandas as pd\n",
        "  return pd.DataFrame(items.menu).T"
      ],
      "metadata": {
        "id": "y0k0A2GYnEJt"
      },
      "execution_count": null,
      "outputs": []
    },
    {
      "cell_type": "code",
      "source": [
        "frame_menu()"
      ],
      "metadata": {
        "colab": {
          "base_uri": "https://localhost:8080/",
          "height": 669
        },
        "id": "HTjEipkBnS8z",
        "outputId": "55bdea8e-1ba1-45ca-974e-4143dc020738"
      },
      "execution_count": null,
      "outputs": [
        {
          "output_type": "execute_result",
          "data": {
            "text/plain": [
              "                            Price  \\\n",
              "Mexican McAloo Tikki Burger   250   \n",
              "Vej Maharaja Mac              250   \n",
              "McAlooTikki                    63   \n",
              "McSpicy Paneer Burger         200   \n",
              "Big Mac                       230   \n",
              "Filet-O-Fish                  180   \n",
              "Spicy Chicken Sandwich        170   \n",
              "Veggie Delight Wrap           150   \n",
              "Grilled Chicken Salad         190   \n",
              "Margherita Pizza              250   \n",
              "Pepperoni Pizza               270   \n",
              "Sushi Platter                 350   \n",
              "Mango Tango Smoothie           80   \n",
              "Iced Caramel Macchiato        160   \n",
              "Chocolate Brownie Sundae      120   \n",
              "Fruit Salad                    90   \n",
              "Chicken Tikka Masala          220   \n",
              "\n",
              "                                                                   Description  \\\n",
              "Mexican McAloo Tikki Burger                   The Tastiest Burger in the town!   \n",
              "Vej Maharaja Mac                                   The King of Burgers is here   \n",
              "McAlooTikki                  The World's favourite Indian burger! Crunchy p...   \n",
              "McSpicy Paneer Burger        Rich and filling cottage cheese patty coated i...   \n",
              "Big Mac                      The iconic double-decker burger featuring two ...   \n",
              "Filet-O-Fish                 A delicious fish fillet with tartar sauce and ...   \n",
              "Spicy Chicken Sandwich       Crispy and spicy chicken patty with lettuce an...   \n",
              "Veggie Delight Wrap          A wholesome wrap filled with a variety of fres...   \n",
              "Grilled Chicken Salad        Grilled chicken breast slices served on a bed ...   \n",
              "Margherita Pizza             Classic Italian pizza with tomato sauce, mozza...   \n",
              "Pepperoni Pizza              A pizza topped with pepperoni slices, tomato s...   \n",
              "Sushi Platter                Assorted sushi rolls with fresh seafood, rice,...   \n",
              "Mango Tango Smoothie         A refreshing smoothie made with ripe mangoes, ...   \n",
              "Iced Caramel Macchiato       Espresso mixed with caramel syrup, milk, and i...   \n",
              "Chocolate Brownie Sundae     Warm chocolate brownie topped with vanilla ice...   \n",
              "Fruit Salad                  A healthy combination of fresh fruits, perfect...   \n",
              "Chicken Tikka Masala         Tender pieces of chicken cooked in a rich toma...   \n",
              "\n",
              "                               Veg         Type  \\\n",
              "Mexican McAloo Tikki Burger   True       Burger   \n",
              "Vej Maharaja Mac              True       Burger   \n",
              "McAlooTikki                   True       Burger   \n",
              "McSpicy Paneer Burger         True       Burger   \n",
              "Big Mac                      False       Burger   \n",
              "Filet-O-Fish                 False       Burger   \n",
              "Spicy Chicken Sandwich       False       Burger   \n",
              "Veggie Delight Wrap           True         Wrap   \n",
              "Grilled Chicken Salad        False        Salad   \n",
              "Margherita Pizza              True        Pizza   \n",
              "Pepperoni Pizza              False        Pizza   \n",
              "Sushi Platter                False        Sushi   \n",
              "Mango Tango Smoothie          True     Beverage   \n",
              "Iced Caramel Macchiato        True     Beverage   \n",
              "Chocolate Brownie Sundae      True      Dessert   \n",
              "Fruit Salad                   True      Dessert   \n",
              "Chicken Tikka Masala         False  Main Course   \n",
              "\n",
              "                                                                Customisations  \\\n",
              "Mexican McAloo Tikki Burger                                                 {}   \n",
              "Vej Maharaja Mac                 {'Onion': 5.0, 'Tomato': 7.5, 'Lettuce': 8.0}   \n",
              "McAlooTikki                         {'Extra Cheese': 10.0, 'Spicy Sauce': 5.0}   \n",
              "McSpicy Paneer Burger         {'Onions': 5.0, 'Tomatoes': 7.0, 'Lettuce': 4.0}   \n",
              "Big Mac                                   {'Extra Patty': 50.0, 'Bacon': 20.0}   \n",
              "Filet-O-Fish                                                                {}   \n",
              "Spicy Chicken Sandwich                    {'Extra Spicy': 5.0, 'Pickles': 3.0}   \n",
              "Veggie Delight Wrap                                                         {}   \n",
              "Grilled Chicken Salad                                                       {}   \n",
              "Margherita Pizza             {'Extra Toppings (Veggies)': 15.0, 'Extra Chee...   \n",
              "Pepperoni Pizza                                                             {}   \n",
              "Sushi Platter                                                               {}   \n",
              "Mango Tango Smoothie               {'Extra Mango': 10.0, 'Whipped Cream': 5.0}   \n",
              "Iced Caramel Macchiato                                                      {}   \n",
              "Chocolate Brownie Sundae                                                    {}   \n",
              "Fruit Salad                                                                 {}   \n",
              "Chicken Tikka Masala                                                        {}   \n",
              "\n",
              "                            Discount Price Discount    Tax Taxed Price  \n",
              "Mexican McAloo Tikki Burger          220.0     12.0   45.0       265.0  \n",
              "Vej Maharaja Mac                     220.0     12.0   45.0       265.0  \n",
              "McAlooTikki                          55.44     12.0  11.34       66.78  \n",
              "McSpicy Paneer Burger                176.0     12.0   36.0       212.0  \n",
              "Big Mac                              202.4     12.0   41.4       243.8  \n",
              "Filet-O-Fish                           0.0    100.0   32.4        32.4  \n",
              "Spicy Chicken Sandwich               149.6     12.0   30.6       180.2  \n",
              "Veggie Delight Wrap                  139.5      7.0   27.0       166.5  \n",
              "Grilled Chicken Salad                176.7      7.0   34.2       210.9  \n",
              "Margherita Pizza                     232.5      7.0   45.0       277.5  \n",
              "Pepperoni Pizza                      251.1      7.0   48.6       299.7  \n",
              "Sushi Platter                        325.5      7.0   63.0       388.5  \n",
              "Mango Tango Smoothie                  74.4      7.0   14.4        88.8  \n",
              "Iced Caramel Macchiato               148.8      7.0   28.8       177.6  \n",
              "Chocolate Brownie Sundae             111.6      7.0   21.6       133.2  \n",
              "Fruit Salad                           83.7      7.0   16.2        99.9  \n",
              "Chicken Tikka Masala                 204.6      7.0   39.6       244.2  "
            ],
            "text/html": [
              "\n",
              "  <div id=\"df-dd5c2fa2-9911-4419-add6-d12a982762e0\" class=\"colab-df-container\">\n",
              "    <div>\n",
              "<style scoped>\n",
              "    .dataframe tbody tr th:only-of-type {\n",
              "        vertical-align: middle;\n",
              "    }\n",
              "\n",
              "    .dataframe tbody tr th {\n",
              "        vertical-align: top;\n",
              "    }\n",
              "\n",
              "    .dataframe thead th {\n",
              "        text-align: right;\n",
              "    }\n",
              "</style>\n",
              "<table border=\"1\" class=\"dataframe\">\n",
              "  <thead>\n",
              "    <tr style=\"text-align: right;\">\n",
              "      <th></th>\n",
              "      <th>Price</th>\n",
              "      <th>Description</th>\n",
              "      <th>Veg</th>\n",
              "      <th>Type</th>\n",
              "      <th>Customisations</th>\n",
              "      <th>Discount Price</th>\n",
              "      <th>Discount</th>\n",
              "      <th>Tax</th>\n",
              "      <th>Taxed Price</th>\n",
              "    </tr>\n",
              "  </thead>\n",
              "  <tbody>\n",
              "    <tr>\n",
              "      <th>Mexican McAloo Tikki Burger</th>\n",
              "      <td>250</td>\n",
              "      <td>The Tastiest Burger in the town!</td>\n",
              "      <td>True</td>\n",
              "      <td>Burger</td>\n",
              "      <td>{}</td>\n",
              "      <td>220.0</td>\n",
              "      <td>12.0</td>\n",
              "      <td>45.0</td>\n",
              "      <td>265.0</td>\n",
              "    </tr>\n",
              "    <tr>\n",
              "      <th>Vej Maharaja Mac</th>\n",
              "      <td>250</td>\n",
              "      <td>The King of Burgers is here</td>\n",
              "      <td>True</td>\n",
              "      <td>Burger</td>\n",
              "      <td>{'Onion': 5.0, 'Tomato': 7.5, 'Lettuce': 8.0}</td>\n",
              "      <td>220.0</td>\n",
              "      <td>12.0</td>\n",
              "      <td>45.0</td>\n",
              "      <td>265.0</td>\n",
              "    </tr>\n",
              "    <tr>\n",
              "      <th>McAlooTikki</th>\n",
              "      <td>63</td>\n",
              "      <td>The World's favourite Indian burger! Crunchy p...</td>\n",
              "      <td>True</td>\n",
              "      <td>Burger</td>\n",
              "      <td>{'Extra Cheese': 10.0, 'Spicy Sauce': 5.0}</td>\n",
              "      <td>55.44</td>\n",
              "      <td>12.0</td>\n",
              "      <td>11.34</td>\n",
              "      <td>66.78</td>\n",
              "    </tr>\n",
              "    <tr>\n",
              "      <th>McSpicy Paneer Burger</th>\n",
              "      <td>200</td>\n",
              "      <td>Rich and filling cottage cheese patty coated i...</td>\n",
              "      <td>True</td>\n",
              "      <td>Burger</td>\n",
              "      <td>{'Onions': 5.0, 'Tomatoes': 7.0, 'Lettuce': 4.0}</td>\n",
              "      <td>176.0</td>\n",
              "      <td>12.0</td>\n",
              "      <td>36.0</td>\n",
              "      <td>212.0</td>\n",
              "    </tr>\n",
              "    <tr>\n",
              "      <th>Big Mac</th>\n",
              "      <td>230</td>\n",
              "      <td>The iconic double-decker burger featuring two ...</td>\n",
              "      <td>False</td>\n",
              "      <td>Burger</td>\n",
              "      <td>{'Extra Patty': 50.0, 'Bacon': 20.0}</td>\n",
              "      <td>202.4</td>\n",
              "      <td>12.0</td>\n",
              "      <td>41.4</td>\n",
              "      <td>243.8</td>\n",
              "    </tr>\n",
              "    <tr>\n",
              "      <th>Filet-O-Fish</th>\n",
              "      <td>180</td>\n",
              "      <td>A delicious fish fillet with tartar sauce and ...</td>\n",
              "      <td>False</td>\n",
              "      <td>Burger</td>\n",
              "      <td>{}</td>\n",
              "      <td>0.0</td>\n",
              "      <td>100.0</td>\n",
              "      <td>32.4</td>\n",
              "      <td>32.4</td>\n",
              "    </tr>\n",
              "    <tr>\n",
              "      <th>Spicy Chicken Sandwich</th>\n",
              "      <td>170</td>\n",
              "      <td>Crispy and spicy chicken patty with lettuce an...</td>\n",
              "      <td>False</td>\n",
              "      <td>Burger</td>\n",
              "      <td>{'Extra Spicy': 5.0, 'Pickles': 3.0}</td>\n",
              "      <td>149.6</td>\n",
              "      <td>12.0</td>\n",
              "      <td>30.6</td>\n",
              "      <td>180.2</td>\n",
              "    </tr>\n",
              "    <tr>\n",
              "      <th>Veggie Delight Wrap</th>\n",
              "      <td>150</td>\n",
              "      <td>A wholesome wrap filled with a variety of fres...</td>\n",
              "      <td>True</td>\n",
              "      <td>Wrap</td>\n",
              "      <td>{}</td>\n",
              "      <td>139.5</td>\n",
              "      <td>7.0</td>\n",
              "      <td>27.0</td>\n",
              "      <td>166.5</td>\n",
              "    </tr>\n",
              "    <tr>\n",
              "      <th>Grilled Chicken Salad</th>\n",
              "      <td>190</td>\n",
              "      <td>Grilled chicken breast slices served on a bed ...</td>\n",
              "      <td>False</td>\n",
              "      <td>Salad</td>\n",
              "      <td>{}</td>\n",
              "      <td>176.7</td>\n",
              "      <td>7.0</td>\n",
              "      <td>34.2</td>\n",
              "      <td>210.9</td>\n",
              "    </tr>\n",
              "    <tr>\n",
              "      <th>Margherita Pizza</th>\n",
              "      <td>250</td>\n",
              "      <td>Classic Italian pizza with tomato sauce, mozza...</td>\n",
              "      <td>True</td>\n",
              "      <td>Pizza</td>\n",
              "      <td>{'Extra Toppings (Veggies)': 15.0, 'Extra Chee...</td>\n",
              "      <td>232.5</td>\n",
              "      <td>7.0</td>\n",
              "      <td>45.0</td>\n",
              "      <td>277.5</td>\n",
              "    </tr>\n",
              "    <tr>\n",
              "      <th>Pepperoni Pizza</th>\n",
              "      <td>270</td>\n",
              "      <td>A pizza topped with pepperoni slices, tomato s...</td>\n",
              "      <td>False</td>\n",
              "      <td>Pizza</td>\n",
              "      <td>{}</td>\n",
              "      <td>251.1</td>\n",
              "      <td>7.0</td>\n",
              "      <td>48.6</td>\n",
              "      <td>299.7</td>\n",
              "    </tr>\n",
              "    <tr>\n",
              "      <th>Sushi Platter</th>\n",
              "      <td>350</td>\n",
              "      <td>Assorted sushi rolls with fresh seafood, rice,...</td>\n",
              "      <td>False</td>\n",
              "      <td>Sushi</td>\n",
              "      <td>{}</td>\n",
              "      <td>325.5</td>\n",
              "      <td>7.0</td>\n",
              "      <td>63.0</td>\n",
              "      <td>388.5</td>\n",
              "    </tr>\n",
              "    <tr>\n",
              "      <th>Mango Tango Smoothie</th>\n",
              "      <td>80</td>\n",
              "      <td>A refreshing smoothie made with ripe mangoes, ...</td>\n",
              "      <td>True</td>\n",
              "      <td>Beverage</td>\n",
              "      <td>{'Extra Mango': 10.0, 'Whipped Cream': 5.0}</td>\n",
              "      <td>74.4</td>\n",
              "      <td>7.0</td>\n",
              "      <td>14.4</td>\n",
              "      <td>88.8</td>\n",
              "    </tr>\n",
              "    <tr>\n",
              "      <th>Iced Caramel Macchiato</th>\n",
              "      <td>160</td>\n",
              "      <td>Espresso mixed with caramel syrup, milk, and i...</td>\n",
              "      <td>True</td>\n",
              "      <td>Beverage</td>\n",
              "      <td>{}</td>\n",
              "      <td>148.8</td>\n",
              "      <td>7.0</td>\n",
              "      <td>28.8</td>\n",
              "      <td>177.6</td>\n",
              "    </tr>\n",
              "    <tr>\n",
              "      <th>Chocolate Brownie Sundae</th>\n",
              "      <td>120</td>\n",
              "      <td>Warm chocolate brownie topped with vanilla ice...</td>\n",
              "      <td>True</td>\n",
              "      <td>Dessert</td>\n",
              "      <td>{}</td>\n",
              "      <td>111.6</td>\n",
              "      <td>7.0</td>\n",
              "      <td>21.6</td>\n",
              "      <td>133.2</td>\n",
              "    </tr>\n",
              "    <tr>\n",
              "      <th>Fruit Salad</th>\n",
              "      <td>90</td>\n",
              "      <td>A healthy combination of fresh fruits, perfect...</td>\n",
              "      <td>True</td>\n",
              "      <td>Dessert</td>\n",
              "      <td>{}</td>\n",
              "      <td>83.7</td>\n",
              "      <td>7.0</td>\n",
              "      <td>16.2</td>\n",
              "      <td>99.9</td>\n",
              "    </tr>\n",
              "    <tr>\n",
              "      <th>Chicken Tikka Masala</th>\n",
              "      <td>220</td>\n",
              "      <td>Tender pieces of chicken cooked in a rich toma...</td>\n",
              "      <td>False</td>\n",
              "      <td>Main Course</td>\n",
              "      <td>{}</td>\n",
              "      <td>204.6</td>\n",
              "      <td>7.0</td>\n",
              "      <td>39.6</td>\n",
              "      <td>244.2</td>\n",
              "    </tr>\n",
              "  </tbody>\n",
              "</table>\n",
              "</div>\n",
              "    <div class=\"colab-df-buttons\">\n",
              "\n",
              "  <div class=\"colab-df-container\">\n",
              "    <button class=\"colab-df-convert\" onclick=\"convertToInteractive('df-dd5c2fa2-9911-4419-add6-d12a982762e0')\"\n",
              "            title=\"Convert this dataframe to an interactive table.\"\n",
              "            style=\"display:none;\">\n",
              "\n",
              "  <svg xmlns=\"http://www.w3.org/2000/svg\" height=\"24px\" viewBox=\"0 -960 960 960\">\n",
              "    <path d=\"M120-120v-720h720v720H120Zm60-500h600v-160H180v160Zm220 220h160v-160H400v160Zm0 220h160v-160H400v160ZM180-400h160v-160H180v160Zm440 0h160v-160H620v160ZM180-180h160v-160H180v160Zm440 0h160v-160H620v160Z\"/>\n",
              "  </svg>\n",
              "    </button>\n",
              "\n",
              "  <style>\n",
              "    .colab-df-container {\n",
              "      display:flex;\n",
              "      gap: 12px;\n",
              "    }\n",
              "\n",
              "    .colab-df-convert {\n",
              "      background-color: #E8F0FE;\n",
              "      border: none;\n",
              "      border-radius: 50%;\n",
              "      cursor: pointer;\n",
              "      display: none;\n",
              "      fill: #1967D2;\n",
              "      height: 32px;\n",
              "      padding: 0 0 0 0;\n",
              "      width: 32px;\n",
              "    }\n",
              "\n",
              "    .colab-df-convert:hover {\n",
              "      background-color: #E2EBFA;\n",
              "      box-shadow: 0px 1px 2px rgba(60, 64, 67, 0.3), 0px 1px 3px 1px rgba(60, 64, 67, 0.15);\n",
              "      fill: #174EA6;\n",
              "    }\n",
              "\n",
              "    .colab-df-buttons div {\n",
              "      margin-bottom: 4px;\n",
              "    }\n",
              "\n",
              "    [theme=dark] .colab-df-convert {\n",
              "      background-color: #3B4455;\n",
              "      fill: #D2E3FC;\n",
              "    }\n",
              "\n",
              "    [theme=dark] .colab-df-convert:hover {\n",
              "      background-color: #434B5C;\n",
              "      box-shadow: 0px 1px 3px 1px rgba(0, 0, 0, 0.15);\n",
              "      filter: drop-shadow(0px 1px 2px rgba(0, 0, 0, 0.3));\n",
              "      fill: #FFFFFF;\n",
              "    }\n",
              "  </style>\n",
              "\n",
              "    <script>\n",
              "      const buttonEl =\n",
              "        document.querySelector('#df-dd5c2fa2-9911-4419-add6-d12a982762e0 button.colab-df-convert');\n",
              "      buttonEl.style.display =\n",
              "        google.colab.kernel.accessAllowed ? 'block' : 'none';\n",
              "\n",
              "      async function convertToInteractive(key) {\n",
              "        const element = document.querySelector('#df-dd5c2fa2-9911-4419-add6-d12a982762e0');\n",
              "        const dataTable =\n",
              "          await google.colab.kernel.invokeFunction('convertToInteractive',\n",
              "                                                    [key], {});\n",
              "        if (!dataTable) return;\n",
              "\n",
              "        const docLinkHtml = 'Like what you see? Visit the ' +\n",
              "          '<a target=\"_blank\" href=https://colab.research.google.com/notebooks/data_table.ipynb>data table notebook</a>'\n",
              "          + ' to learn more about interactive tables.';\n",
              "        element.innerHTML = '';\n",
              "        dataTable['output_type'] = 'display_data';\n",
              "        await google.colab.output.renderOutput(dataTable, element);\n",
              "        const docLink = document.createElement('div');\n",
              "        docLink.innerHTML = docLinkHtml;\n",
              "        element.appendChild(docLink);\n",
              "      }\n",
              "    </script>\n",
              "  </div>\n",
              "\n",
              "\n",
              "<div id=\"df-0614e7f1-0ea8-444d-9e93-4f14f353962c\">\n",
              "  <button class=\"colab-df-quickchart\" onclick=\"quickchart('df-0614e7f1-0ea8-444d-9e93-4f14f353962c')\"\n",
              "            title=\"Suggest charts.\"\n",
              "            style=\"display:none;\">\n",
              "\n",
              "<svg xmlns=\"http://www.w3.org/2000/svg\" height=\"24px\"viewBox=\"0 0 24 24\"\n",
              "     width=\"24px\">\n",
              "    <g>\n",
              "        <path d=\"M19 3H5c-1.1 0-2 .9-2 2v14c0 1.1.9 2 2 2h14c1.1 0 2-.9 2-2V5c0-1.1-.9-2-2-2zM9 17H7v-7h2v7zm4 0h-2V7h2v10zm4 0h-2v-4h2v4z\"/>\n",
              "    </g>\n",
              "</svg>\n",
              "  </button>\n",
              "\n",
              "<style>\n",
              "  .colab-df-quickchart {\n",
              "      --bg-color: #E8F0FE;\n",
              "      --fill-color: #1967D2;\n",
              "      --hover-bg-color: #E2EBFA;\n",
              "      --hover-fill-color: #174EA6;\n",
              "      --disabled-fill-color: #AAA;\n",
              "      --disabled-bg-color: #DDD;\n",
              "  }\n",
              "\n",
              "  [theme=dark] .colab-df-quickchart {\n",
              "      --bg-color: #3B4455;\n",
              "      --fill-color: #D2E3FC;\n",
              "      --hover-bg-color: #434B5C;\n",
              "      --hover-fill-color: #FFFFFF;\n",
              "      --disabled-bg-color: #3B4455;\n",
              "      --disabled-fill-color: #666;\n",
              "  }\n",
              "\n",
              "  .colab-df-quickchart {\n",
              "    background-color: var(--bg-color);\n",
              "    border: none;\n",
              "    border-radius: 50%;\n",
              "    cursor: pointer;\n",
              "    display: none;\n",
              "    fill: var(--fill-color);\n",
              "    height: 32px;\n",
              "    padding: 0;\n",
              "    width: 32px;\n",
              "  }\n",
              "\n",
              "  .colab-df-quickchart:hover {\n",
              "    background-color: var(--hover-bg-color);\n",
              "    box-shadow: 0 1px 2px rgba(60, 64, 67, 0.3), 0 1px 3px 1px rgba(60, 64, 67, 0.15);\n",
              "    fill: var(--button-hover-fill-color);\n",
              "  }\n",
              "\n",
              "  .colab-df-quickchart-complete:disabled,\n",
              "  .colab-df-quickchart-complete:disabled:hover {\n",
              "    background-color: var(--disabled-bg-color);\n",
              "    fill: var(--disabled-fill-color);\n",
              "    box-shadow: none;\n",
              "  }\n",
              "\n",
              "  .colab-df-spinner {\n",
              "    border: 2px solid var(--fill-color);\n",
              "    border-color: transparent;\n",
              "    border-bottom-color: var(--fill-color);\n",
              "    animation:\n",
              "      spin 1s steps(1) infinite;\n",
              "  }\n",
              "\n",
              "  @keyframes spin {\n",
              "    0% {\n",
              "      border-color: transparent;\n",
              "      border-bottom-color: var(--fill-color);\n",
              "      border-left-color: var(--fill-color);\n",
              "    }\n",
              "    20% {\n",
              "      border-color: transparent;\n",
              "      border-left-color: var(--fill-color);\n",
              "      border-top-color: var(--fill-color);\n",
              "    }\n",
              "    30% {\n",
              "      border-color: transparent;\n",
              "      border-left-color: var(--fill-color);\n",
              "      border-top-color: var(--fill-color);\n",
              "      border-right-color: var(--fill-color);\n",
              "    }\n",
              "    40% {\n",
              "      border-color: transparent;\n",
              "      border-right-color: var(--fill-color);\n",
              "      border-top-color: var(--fill-color);\n",
              "    }\n",
              "    60% {\n",
              "      border-color: transparent;\n",
              "      border-right-color: var(--fill-color);\n",
              "    }\n",
              "    80% {\n",
              "      border-color: transparent;\n",
              "      border-right-color: var(--fill-color);\n",
              "      border-bottom-color: var(--fill-color);\n",
              "    }\n",
              "    90% {\n",
              "      border-color: transparent;\n",
              "      border-bottom-color: var(--fill-color);\n",
              "    }\n",
              "  }\n",
              "</style>\n",
              "\n",
              "  <script>\n",
              "    async function quickchart(key) {\n",
              "      const quickchartButtonEl =\n",
              "        document.querySelector('#' + key + ' button');\n",
              "      quickchartButtonEl.disabled = true;  // To prevent multiple clicks.\n",
              "      quickchartButtonEl.classList.add('colab-df-spinner');\n",
              "      try {\n",
              "        const charts = await google.colab.kernel.invokeFunction(\n",
              "            'suggestCharts', [key], {});\n",
              "      } catch (error) {\n",
              "        console.error('Error during call to suggestCharts:', error);\n",
              "      }\n",
              "      quickchartButtonEl.classList.remove('colab-df-spinner');\n",
              "      quickchartButtonEl.classList.add('colab-df-quickchart-complete');\n",
              "    }\n",
              "    (() => {\n",
              "      let quickchartButtonEl =\n",
              "        document.querySelector('#df-0614e7f1-0ea8-444d-9e93-4f14f353962c button');\n",
              "      quickchartButtonEl.style.display =\n",
              "        google.colab.kernel.accessAllowed ? 'block' : 'none';\n",
              "    })();\n",
              "  </script>\n",
              "</div>\n",
              "    </div>\n",
              "  </div>\n"
            ]
          },
          "metadata": {},
          "execution_count": 47
        }
      ]
    },
    {
      "cell_type": "markdown",
      "source": [
        "## FRAMING CART"
      ],
      "metadata": {
        "id": "xJTJh4Dlna1L"
      }
    },
    {
      "cell_type": "code",
      "source": [
        "def frame_cart():\n",
        "  import pandas as pd\n",
        "  return pd.DataFrame(cart).T"
      ],
      "metadata": {
        "id": "nMkBy-Vhngp0"
      },
      "execution_count": null,
      "outputs": []
    },
    {
      "cell_type": "code",
      "source": [
        "frame_cart()"
      ],
      "metadata": {
        "id": "tSzMNrdTnnyk",
        "outputId": "42c89ca7-8c84-4e97-fdf5-3c25b9875660",
        "colab": {
          "base_uri": "https://localhost:8080/",
          "height": 164
        }
      },
      "execution_count": null,
      "outputs": [
        {
          "output_type": "execute_result",
          "data": {
            "text/plain": [
              "                     Price                                        Description  \\\n",
              "Big Mac                230  The iconic double-decker burger featuring two ...   \n",
              "Mango Tango Smoothie    80  A refreshing smoothie made with ripe mangoes, ...   \n",
              "\n",
              "                        Veg      Type  \\\n",
              "Big Mac               False    Burger   \n",
              "Mango Tango Smoothie   True  Beverage   \n",
              "\n",
              "                                                   Customisations  \\\n",
              "Big Mac                      {'Extra Patty': 50.0, 'Bacon': 20.0}   \n",
              "Mango Tango Smoothie  {'Extra Mango': 10.0, 'Whipped Cream': 5.0}   \n",
              "\n",
              "                     Discount Price Discount   Tax Taxed Price Quantity  \\\n",
              "Big Mac                       213.9      7.0  41.4       255.3        1   \n",
              "Mango Tango Smoothie           74.4      7.0  14.4        88.8        1   \n",
              "\n",
              "                                                             Custom_add  \\\n",
              "Big Mac               {'Extra Patty': {'Price': 50.0, 'Quantity': 1}...   \n",
              "Mango Tango Smoothie                                                 {}   \n",
              "\n",
              "                     Final Price  \n",
              "Big Mac                    325.3  \n",
              "Mango Tango Smoothie        88.8  "
            ],
            "text/html": [
              "\n",
              "  <div id=\"df-3f46fb3c-542c-4fd4-9201-507ab8084bd7\" class=\"colab-df-container\">\n",
              "    <div>\n",
              "<style scoped>\n",
              "    .dataframe tbody tr th:only-of-type {\n",
              "        vertical-align: middle;\n",
              "    }\n",
              "\n",
              "    .dataframe tbody tr th {\n",
              "        vertical-align: top;\n",
              "    }\n",
              "\n",
              "    .dataframe thead th {\n",
              "        text-align: right;\n",
              "    }\n",
              "</style>\n",
              "<table border=\"1\" class=\"dataframe\">\n",
              "  <thead>\n",
              "    <tr style=\"text-align: right;\">\n",
              "      <th></th>\n",
              "      <th>Price</th>\n",
              "      <th>Description</th>\n",
              "      <th>Veg</th>\n",
              "      <th>Type</th>\n",
              "      <th>Customisations</th>\n",
              "      <th>Discount Price</th>\n",
              "      <th>Discount</th>\n",
              "      <th>Tax</th>\n",
              "      <th>Taxed Price</th>\n",
              "      <th>Quantity</th>\n",
              "      <th>Custom_add</th>\n",
              "      <th>Final Price</th>\n",
              "    </tr>\n",
              "  </thead>\n",
              "  <tbody>\n",
              "    <tr>\n",
              "      <th>Big Mac</th>\n",
              "      <td>230</td>\n",
              "      <td>The iconic double-decker burger featuring two ...</td>\n",
              "      <td>False</td>\n",
              "      <td>Burger</td>\n",
              "      <td>{'Extra Patty': 50.0, 'Bacon': 20.0}</td>\n",
              "      <td>213.9</td>\n",
              "      <td>7.0</td>\n",
              "      <td>41.4</td>\n",
              "      <td>255.3</td>\n",
              "      <td>1</td>\n",
              "      <td>{'Extra Patty': {'Price': 50.0, 'Quantity': 1}...</td>\n",
              "      <td>325.3</td>\n",
              "    </tr>\n",
              "    <tr>\n",
              "      <th>Mango Tango Smoothie</th>\n",
              "      <td>80</td>\n",
              "      <td>A refreshing smoothie made with ripe mangoes, ...</td>\n",
              "      <td>True</td>\n",
              "      <td>Beverage</td>\n",
              "      <td>{'Extra Mango': 10.0, 'Whipped Cream': 5.0}</td>\n",
              "      <td>74.4</td>\n",
              "      <td>7.0</td>\n",
              "      <td>14.4</td>\n",
              "      <td>88.8</td>\n",
              "      <td>1</td>\n",
              "      <td>{}</td>\n",
              "      <td>88.8</td>\n",
              "    </tr>\n",
              "  </tbody>\n",
              "</table>\n",
              "</div>\n",
              "    <div class=\"colab-df-buttons\">\n",
              "\n",
              "  <div class=\"colab-df-container\">\n",
              "    <button class=\"colab-df-convert\" onclick=\"convertToInteractive('df-3f46fb3c-542c-4fd4-9201-507ab8084bd7')\"\n",
              "            title=\"Convert this dataframe to an interactive table.\"\n",
              "            style=\"display:none;\">\n",
              "\n",
              "  <svg xmlns=\"http://www.w3.org/2000/svg\" height=\"24px\" viewBox=\"0 -960 960 960\">\n",
              "    <path d=\"M120-120v-720h720v720H120Zm60-500h600v-160H180v160Zm220 220h160v-160H400v160Zm0 220h160v-160H400v160ZM180-400h160v-160H180v160Zm440 0h160v-160H620v160ZM180-180h160v-160H180v160Zm440 0h160v-160H620v160Z\"/>\n",
              "  </svg>\n",
              "    </button>\n",
              "\n",
              "  <style>\n",
              "    .colab-df-container {\n",
              "      display:flex;\n",
              "      gap: 12px;\n",
              "    }\n",
              "\n",
              "    .colab-df-convert {\n",
              "      background-color: #E8F0FE;\n",
              "      border: none;\n",
              "      border-radius: 50%;\n",
              "      cursor: pointer;\n",
              "      display: none;\n",
              "      fill: #1967D2;\n",
              "      height: 32px;\n",
              "      padding: 0 0 0 0;\n",
              "      width: 32px;\n",
              "    }\n",
              "\n",
              "    .colab-df-convert:hover {\n",
              "      background-color: #E2EBFA;\n",
              "      box-shadow: 0px 1px 2px rgba(60, 64, 67, 0.3), 0px 1px 3px 1px rgba(60, 64, 67, 0.15);\n",
              "      fill: #174EA6;\n",
              "    }\n",
              "\n",
              "    .colab-df-buttons div {\n",
              "      margin-bottom: 4px;\n",
              "    }\n",
              "\n",
              "    [theme=dark] .colab-df-convert {\n",
              "      background-color: #3B4455;\n",
              "      fill: #D2E3FC;\n",
              "    }\n",
              "\n",
              "    [theme=dark] .colab-df-convert:hover {\n",
              "      background-color: #434B5C;\n",
              "      box-shadow: 0px 1px 3px 1px rgba(0, 0, 0, 0.15);\n",
              "      filter: drop-shadow(0px 1px 2px rgba(0, 0, 0, 0.3));\n",
              "      fill: #FFFFFF;\n",
              "    }\n",
              "  </style>\n",
              "\n",
              "    <script>\n",
              "      const buttonEl =\n",
              "        document.querySelector('#df-3f46fb3c-542c-4fd4-9201-507ab8084bd7 button.colab-df-convert');\n",
              "      buttonEl.style.display =\n",
              "        google.colab.kernel.accessAllowed ? 'block' : 'none';\n",
              "\n",
              "      async function convertToInteractive(key) {\n",
              "        const element = document.querySelector('#df-3f46fb3c-542c-4fd4-9201-507ab8084bd7');\n",
              "        const dataTable =\n",
              "          await google.colab.kernel.invokeFunction('convertToInteractive',\n",
              "                                                    [key], {});\n",
              "        if (!dataTable) return;\n",
              "\n",
              "        const docLinkHtml = 'Like what you see? Visit the ' +\n",
              "          '<a target=\"_blank\" href=https://colab.research.google.com/notebooks/data_table.ipynb>data table notebook</a>'\n",
              "          + ' to learn more about interactive tables.';\n",
              "        element.innerHTML = '';\n",
              "        dataTable['output_type'] = 'display_data';\n",
              "        await google.colab.output.renderOutput(dataTable, element);\n",
              "        const docLink = document.createElement('div');\n",
              "        docLink.innerHTML = docLinkHtml;\n",
              "        element.appendChild(docLink);\n",
              "      }\n",
              "    </script>\n",
              "  </div>\n",
              "\n",
              "\n",
              "<div id=\"df-826b066b-d8fd-4b0b-99a4-2a45d4ec6f6d\">\n",
              "  <button class=\"colab-df-quickchart\" onclick=\"quickchart('df-826b066b-d8fd-4b0b-99a4-2a45d4ec6f6d')\"\n",
              "            title=\"Suggest charts.\"\n",
              "            style=\"display:none;\">\n",
              "\n",
              "<svg xmlns=\"http://www.w3.org/2000/svg\" height=\"24px\"viewBox=\"0 0 24 24\"\n",
              "     width=\"24px\">\n",
              "    <g>\n",
              "        <path d=\"M19 3H5c-1.1 0-2 .9-2 2v14c0 1.1.9 2 2 2h14c1.1 0 2-.9 2-2V5c0-1.1-.9-2-2-2zM9 17H7v-7h2v7zm4 0h-2V7h2v10zm4 0h-2v-4h2v4z\"/>\n",
              "    </g>\n",
              "</svg>\n",
              "  </button>\n",
              "\n",
              "<style>\n",
              "  .colab-df-quickchart {\n",
              "      --bg-color: #E8F0FE;\n",
              "      --fill-color: #1967D2;\n",
              "      --hover-bg-color: #E2EBFA;\n",
              "      --hover-fill-color: #174EA6;\n",
              "      --disabled-fill-color: #AAA;\n",
              "      --disabled-bg-color: #DDD;\n",
              "  }\n",
              "\n",
              "  [theme=dark] .colab-df-quickchart {\n",
              "      --bg-color: #3B4455;\n",
              "      --fill-color: #D2E3FC;\n",
              "      --hover-bg-color: #434B5C;\n",
              "      --hover-fill-color: #FFFFFF;\n",
              "      --disabled-bg-color: #3B4455;\n",
              "      --disabled-fill-color: #666;\n",
              "  }\n",
              "\n",
              "  .colab-df-quickchart {\n",
              "    background-color: var(--bg-color);\n",
              "    border: none;\n",
              "    border-radius: 50%;\n",
              "    cursor: pointer;\n",
              "    display: none;\n",
              "    fill: var(--fill-color);\n",
              "    height: 32px;\n",
              "    padding: 0;\n",
              "    width: 32px;\n",
              "  }\n",
              "\n",
              "  .colab-df-quickchart:hover {\n",
              "    background-color: var(--hover-bg-color);\n",
              "    box-shadow: 0 1px 2px rgba(60, 64, 67, 0.3), 0 1px 3px 1px rgba(60, 64, 67, 0.15);\n",
              "    fill: var(--button-hover-fill-color);\n",
              "  }\n",
              "\n",
              "  .colab-df-quickchart-complete:disabled,\n",
              "  .colab-df-quickchart-complete:disabled:hover {\n",
              "    background-color: var(--disabled-bg-color);\n",
              "    fill: var(--disabled-fill-color);\n",
              "    box-shadow: none;\n",
              "  }\n",
              "\n",
              "  .colab-df-spinner {\n",
              "    border: 2px solid var(--fill-color);\n",
              "    border-color: transparent;\n",
              "    border-bottom-color: var(--fill-color);\n",
              "    animation:\n",
              "      spin 1s steps(1) infinite;\n",
              "  }\n",
              "\n",
              "  @keyframes spin {\n",
              "    0% {\n",
              "      border-color: transparent;\n",
              "      border-bottom-color: var(--fill-color);\n",
              "      border-left-color: var(--fill-color);\n",
              "    }\n",
              "    20% {\n",
              "      border-color: transparent;\n",
              "      border-left-color: var(--fill-color);\n",
              "      border-top-color: var(--fill-color);\n",
              "    }\n",
              "    30% {\n",
              "      border-color: transparent;\n",
              "      border-left-color: var(--fill-color);\n",
              "      border-top-color: var(--fill-color);\n",
              "      border-right-color: var(--fill-color);\n",
              "    }\n",
              "    40% {\n",
              "      border-color: transparent;\n",
              "      border-right-color: var(--fill-color);\n",
              "      border-top-color: var(--fill-color);\n",
              "    }\n",
              "    60% {\n",
              "      border-color: transparent;\n",
              "      border-right-color: var(--fill-color);\n",
              "    }\n",
              "    80% {\n",
              "      border-color: transparent;\n",
              "      border-right-color: var(--fill-color);\n",
              "      border-bottom-color: var(--fill-color);\n",
              "    }\n",
              "    90% {\n",
              "      border-color: transparent;\n",
              "      border-bottom-color: var(--fill-color);\n",
              "    }\n",
              "  }\n",
              "</style>\n",
              "\n",
              "  <script>\n",
              "    async function quickchart(key) {\n",
              "      const quickchartButtonEl =\n",
              "        document.querySelector('#' + key + ' button');\n",
              "      quickchartButtonEl.disabled = true;  // To prevent multiple clicks.\n",
              "      quickchartButtonEl.classList.add('colab-df-spinner');\n",
              "      try {\n",
              "        const charts = await google.colab.kernel.invokeFunction(\n",
              "            'suggestCharts', [key], {});\n",
              "      } catch (error) {\n",
              "        console.error('Error during call to suggestCharts:', error);\n",
              "      }\n",
              "      quickchartButtonEl.classList.remove('colab-df-spinner');\n",
              "      quickchartButtonEl.classList.add('colab-df-quickchart-complete');\n",
              "    }\n",
              "    (() => {\n",
              "      let quickchartButtonEl =\n",
              "        document.querySelector('#df-826b066b-d8fd-4b0b-99a4-2a45d4ec6f6d button');\n",
              "      quickchartButtonEl.style.display =\n",
              "        google.colab.kernel.accessAllowed ? 'block' : 'none';\n",
              "    })();\n",
              "  </script>\n",
              "</div>\n",
              "    </div>\n",
              "  </div>\n"
            ]
          },
          "metadata": {},
          "execution_count": 50
        }
      ]
    },
    {
      "cell_type": "markdown",
      "source": [
        "# MENU WORK STARTS"
      ],
      "metadata": {
        "id": "VTSYJ2P-lyDX"
      }
    },
    {
      "cell_type": "code",
      "source": [
        "def carts():\n",
        "  cart={}\n",
        "  fetch=str(input('What do you want to do with cart?  \\n  1: ADD TO CART ,\\n 2: REMOVE FROM CART,\\n 3: CART TOTAL,\\n 4: SHOW CART'))\n",
        "  if fetch=='1':\n",
        "    sub_menu()\n",
        "    add_to_cart()\n",
        "    carts()\n",
        "  elif fetch=='2':\n",
        "    remove_cart()\n",
        "    carts()\n",
        "\n",
        "  elif fetch=='3':\n",
        "    cart_total()\n",
        "    reinit_cart()\n",
        "\n",
        "  elif fetch=='4':\n",
        "    show_cart()\n",
        "    carts()\n",
        "\n",
        "  else:\n",
        "    print('Wrong Input Entered !!')\n",
        "    carts()\n",
        "\n",
        "\n",
        "\n"
      ],
      "metadata": {
        "id": "y7dRBCO_g00a"
      },
      "execution_count": null,
      "outputs": []
    },
    {
      "cell_type": "code",
      "source": [
        "carts()"
      ],
      "metadata": {
        "id": "hNbVUZKDg-Oc"
      },
      "execution_count": null,
      "outputs": []
    },
    {
      "cell_type": "markdown",
      "source": [
        "## MAIN MENU"
      ],
      "metadata": {
        "id": "AvJ1B0-sm6am"
      }
    },
    {
      "cell_type": "code",
      "source": [
        "def menu():\n",
        "  enter()\n",
        "  dining_location()\n",
        "  payment()\n",
        "  reinit_cart()\n",
        "  carts()"
      ],
      "metadata": {
        "id": "DBtQ4N9FhkI_"
      },
      "execution_count": null,
      "outputs": []
    },
    {
      "cell_type": "code",
      "source": [
        "menu()"
      ],
      "metadata": {
        "colab": {
          "base_uri": "https://localhost:8080/"
        },
        "id": "0ki7hd1F4Cvf",
        "outputId": "0e1d19b6-9dda-4d4a-8a15-1fa6039c67d3"
      },
      "execution_count": null,
      "outputs": [
        {
          "output_type": "stream",
          "name": "stdout",
          "text": [
            "Press Enter to Start!\n",
            "\n",
            "You have Started!\n",
            "Press 1 for Eat In & 2 for Takeaway  :1\n",
            "Press 1 for Cash at Counter & 2 for CARD/BHIM  :2\n",
            "What do you want to do with cart?  \n",
            "  1: ADD TO CART ,\n",
            " 2: REMOVE FROM CART,\n",
            " 3: CART TOTAL,\n",
            " 4: SHOW CART1\n",
            "['Burger', 'Wrap', 'Salad', 'Pizza', 'Sushi', 'Beverage', 'Dessert', 'Main Course']\n",
            "What dishes are you looking for?Wrap\n",
            "Veggie Delight Wrap   :   {'Price': 150, 'Description': 'A wholesome wrap filled with a variety of fresh vegetables and a tangy sauce, wrapped in a soft tortilla.', 'Veg': True, 'Type': 'Wrap', 'Customisations': {}, 'Discount Price': 139.5, 'Discount': 7.0, 'Tax': 27.0, 'Taxed Price': 166.5}\n",
            "What Dish you want to add?Veggie Delight Wrap\n",
            "How many Veggie Delight Wrap you want to add?3\n",
            "Press any key to Customise1\n",
            "What do you want to do with cart?  \n",
            "  1: ADD TO CART ,\n",
            " 2: REMOVE FROM CART,\n",
            " 3: CART TOTAL,\n",
            " 4: SHOW CART4\n",
            "{'Big Mac': {'Custom_add': {'Bacon': {'Price': 20.0, 'Quantity': 1},\n",
            "                            'Extra Patty': {'Price': 50.0, 'Quantity': 1}},\n",
            "             'Customisations': {'Bacon': 20.0, 'Extra Patty': 50.0},\n",
            "             'Description': 'The iconic double-decker burger featuring two '\n",
            "                            'beef patties, special sauce, lettuce, cheese, '\n",
            "                            'pickles, and onions on a sesame seed bun.',\n",
            "             'Discount': 7.0,\n",
            "             'Discount Price': 213.89999999999998,\n",
            "             'Final Price': 975.9,\n",
            "             'Price': 230,\n",
            "             'Quantity': 3,\n",
            "             'Tax': 41.4,\n",
            "             'Taxed Price': 255.29999999999998,\n",
            "             'Type': 'Burger',\n",
            "             'Veg': False},\n",
            " 'Mango Tango Smoothie': {'Custom_add': {},\n",
            "                          'Customisations': {'Extra Mango': 10.0,\n",
            "                                             'Whipped Cream': 5.0},\n",
            "                          'Description': 'A refreshing smoothie made with ripe '\n",
            "                                         'mangoes, yogurt, and a hint of '\n",
            "                                         'honey.',\n",
            "                          'Discount': 7.0,\n",
            "                          'Discount Price': 74.39999999999999,\n",
            "                          'Final Price': 266.4,\n",
            "                          'Price': 80,\n",
            "                          'Quantity': 3,\n",
            "                          'Tax': 14.4,\n",
            "                          'Taxed Price': 88.8,\n",
            "                          'Type': 'Beverage',\n",
            "                          'Veg': True},\n",
            " 'Veggie Delight Wrap': {'Custom_add': {},\n",
            "                         'Customisations': {},\n",
            "                         'Description': 'A wholesome wrap filled with a '\n",
            "                                        'variety of fresh vegetables and a '\n",
            "                                        'tangy sauce, wrapped in a soft '\n",
            "                                        'tortilla.',\n",
            "                         'Discount': 7.0,\n",
            "                         'Discount Price': 139.5,\n",
            "                         'Final Price': 499.5,\n",
            "                         'Price': 150,\n",
            "                         'Quantity': 3,\n",
            "                         'Tax': 27.0,\n",
            "                         'Taxed Price': 166.5,\n",
            "                         'Type': 'Wrap',\n",
            "                         'Veg': True}}\n",
            "What do you want to do with cart?  \n",
            "  1: ADD TO CART ,\n",
            " 2: REMOVE FROM CART,\n",
            " 3: CART TOTAL,\n",
            " 4: SHOW CART2\n",
            " Dish : Big Mac | Quantity : 3 | Price : 975.9 \n",
            " Dish : Mango Tango Smoothie | Quantity : 3 | Price : 266.4 \n",
            " Dish : Veggie Delight Wrap | Quantity : 3 | Price : 499.5 \n",
            "Which Dish you want to Delete?Big Mac\n",
            "What do you want to do with cart?  \n",
            "  1: ADD TO CART ,\n",
            " 2: REMOVE FROM CART,\n",
            " 3: CART TOTAL,\n",
            " 4: SHOW CART4\n",
            "{'Mango Tango Smoothie': {'Custom_add': {},\n",
            "                          'Customisations': {'Extra Mango': 10.0,\n",
            "                                             'Whipped Cream': 5.0},\n",
            "                          'Description': 'A refreshing smoothie made with ripe '\n",
            "                                         'mangoes, yogurt, and a hint of '\n",
            "                                         'honey.',\n",
            "                          'Discount': 7.0,\n",
            "                          'Discount Price': 74.39999999999999,\n",
            "                          'Final Price': 266.4,\n",
            "                          'Price': 80,\n",
            "                          'Quantity': 3,\n",
            "                          'Tax': 14.4,\n",
            "                          'Taxed Price': 88.8,\n",
            "                          'Type': 'Beverage',\n",
            "                          'Veg': True},\n",
            " 'Veggie Delight Wrap': {'Custom_add': {},\n",
            "                         'Customisations': {},\n",
            "                         'Description': 'A wholesome wrap filled with a '\n",
            "                                        'variety of fresh vegetables and a '\n",
            "                                        'tangy sauce, wrapped in a soft '\n",
            "                                        'tortilla.',\n",
            "                         'Discount': 7.0,\n",
            "                         'Discount Price': 139.5,\n",
            "                         'Final Price': 499.5,\n",
            "                         'Price': 150,\n",
            "                         'Quantity': 3,\n",
            "                         'Tax': 27.0,\n",
            "                         'Taxed Price': 166.5,\n",
            "                         'Type': 'Wrap',\n",
            "                         'Veg': True}}\n",
            "What do you want to do with cart?  \n",
            "  1: ADD TO CART ,\n",
            " 2: REMOVE FROM CART,\n",
            " 3: CART TOTAL,\n",
            " 4: SHOW CART2\n",
            " Dish : Mango Tango Smoothie | Quantity : 3 | Price : 266.4 \n",
            " Dish : Veggie Delight Wrap | Quantity : 3 | Price : 499.5 \n",
            "Which Dish you want to Delete?Mango Tango Smoothie\n",
            "What do you want to do with cart?  \n",
            "  1: ADD TO CART ,\n",
            " 2: REMOVE FROM CART,\n",
            " 3: CART TOTAL,\n",
            " 4: SHOW CART4\n",
            "{'Veggie Delight Wrap': {'Custom_add': {},\n",
            "                         'Customisations': {},\n",
            "                         'Description': 'A wholesome wrap filled with a '\n",
            "                                        'variety of fresh vegetables and a '\n",
            "                                        'tangy sauce, wrapped in a soft '\n",
            "                                        'tortilla.',\n",
            "                         'Discount': 7.0,\n",
            "                         'Discount Price': 139.5,\n",
            "                         'Final Price': 499.5,\n",
            "                         'Price': 150,\n",
            "                         'Quantity': 3,\n",
            "                         'Tax': 27.0,\n",
            "                         'Taxed Price': 166.5,\n",
            "                         'Type': 'Wrap',\n",
            "                         'Veg': True}}\n",
            "What do you want to do with cart?  \n",
            "  1: ADD TO CART ,\n",
            " 2: REMOVE FROM CART,\n",
            " 3: CART TOTAL,\n",
            " 4: SHOW CART3\n",
            "Cart Total is : 499.5\n"
          ]
        }
      ]
    },
    {
      "cell_type": "code",
      "source": [
        "cart\n"
      ],
      "metadata": {
        "colab": {
          "base_uri": "https://localhost:8080/"
        },
        "id": "Bxdmcv0d4EtS",
        "outputId": "184b4a77-e1d1-4e48-ae59-f3975bb7fa29"
      },
      "execution_count": null,
      "outputs": [
        {
          "output_type": "execute_result",
          "data": {
            "text/plain": [
              "{'Sushi Platter': {'Price': 350,\n",
              "  'Description': 'Assorted sushi rolls with fresh seafood, rice, and seaweed, served with soy sauce and wasabi.',\n",
              "  'Veg': False,\n",
              "  'Type': 'Sushi',\n",
              "  'Customisations': {},\n",
              "  'Discount Price': 262.5,\n",
              "  'Discount': 25.0,\n",
              "  'Tax': 63.0,\n",
              "  'Taxed Price': 325.5,\n",
              "  'Quantity': 1,\n",
              "  'Custom_add': {},\n",
              "  'Final Price': 325.5},\n",
              " 'Chicken Roll': {'Price': 260.0,\n",
              "  'Description': 'Tasty Roll you would ever have',\n",
              "  'Veg': False,\n",
              "  'Type': 'Roll',\n",
              "  'Customisations': {'Extra Chicken': 30.0, 'Lettuce': 10.0, 'Onion': 10.0},\n",
              "  'Discount Price': 195.0,\n",
              "  'Discount': 25.0,\n",
              "  'Tax': 46.8,\n",
              "  'Taxed Price': 241.8,\n",
              "  'Quantity': 1,\n",
              "  'Custom_add': {'Extra Chicken': {'Price': 30.0, 'Quantity': 3},\n",
              "   'Lettuce': {'Price': 10.0, 'Quantity': 2},\n",
              "   'Onion': {'Price': 10.0, 'Quantity': 3}},\n",
              "  'Final Price': 381.8},\n",
              " 'Grilled Chicken Salad': {'Price': 190,\n",
              "  'Description': 'Grilled chicken breast slices served on a bed of mixed greens with a choice of dressing.',\n",
              "  'Veg': False,\n",
              "  'Type': 'Salad',\n",
              "  'Customisations': {},\n",
              "  'Discount Price': 142.5,\n",
              "  'Discount': 25.0,\n",
              "  'Tax': 34.2,\n",
              "  'Taxed Price': 176.7,\n",
              "  'Quantity': 1,\n",
              "  'Custom_add': {},\n",
              "  'Final Price': 176.7},\n",
              " 'Margherita Pizza': {'Price': 250,\n",
              "  'Description': 'Classic Italian pizza with tomato sauce, mozzarella cheese, and fresh basil leaves.',\n",
              "  'Veg': True,\n",
              "  'Type': 'Pizza',\n",
              "  'Customisations': {'Extra Toppings (Veggies)': 15.0, 'Extra Cheese': 10.0},\n",
              "  'Discount Price': 187.5,\n",
              "  'Discount': 25.0,\n",
              "  'Tax': 45.0,\n",
              "  'Taxed Price': 232.5,\n",
              "  'Quantity': 1,\n",
              "  'Custom_add': {},\n",
              "  'Final Price': 232.5},\n",
              " 'Iced Caramel Macchiato': {'Price': 160,\n",
              "  'Description': 'Espresso mixed with caramel syrup, milk, and ice, topped with whipped cream.',\n",
              "  'Veg': True,\n",
              "  'Type': 'Beverage',\n",
              "  'Customisations': {},\n",
              "  'Discount Price': 120.0,\n",
              "  'Discount': 25.0,\n",
              "  'Tax': 28.8,\n",
              "  'Taxed Price': 148.8,\n",
              "  'Quantity': 1,\n",
              "  'Custom_add': {},\n",
              "  'Final Price': 148.8}}"
            ]
          },
          "metadata": {},
          "execution_count": 101
        }
      ]
    },
    {
      "cell_type": "markdown",
      "source": [
        "## Rough Work"
      ],
      "metadata": {
        "id": "4kMSxOJJfd12"
      }
    },
    {
      "cell_type": "code",
      "source": [],
      "metadata": {
        "id": "tjpKI4fQ-lqH",
        "colab": {
          "base_uri": "https://localhost:8080/",
          "height": 175
        },
        "outputId": "a509be80-eef3-4410-fcf1-4f2c3416547a"
      },
      "execution_count": null,
      "outputs": [
        {
          "output_type": "error",
          "ename": "NameError",
          "evalue": "ignored",
          "traceback": [
            "\u001b[0;31m---------------------------------------------------------------------------\u001b[0m",
            "\u001b[0;31mNameError\u001b[0m                                 Traceback (most recent call last)",
            "\u001b[0;32m<ipython-input-2-94f43017524d>\u001b[0m in \u001b[0;36m<cell line: 1>\u001b[0;34m()\u001b[0m\n\u001b[0;32m----> 1\u001b[0;31m \u001b[0mitems\u001b[0m\u001b[0;34m.\u001b[0m\u001b[0mmenu\u001b[0m\u001b[0;34m\u001b[0m\u001b[0;34m\u001b[0m\u001b[0m\n\u001b[0m",
            "\u001b[0;31mNameError\u001b[0m: name 'items' is not defined"
          ]
        }
      ]
    },
    {
      "cell_type": "code",
      "source": [],
      "metadata": {
        "id": "90oiNcsNfhW_"
      },
      "execution_count": null,
      "outputs": []
    }
  ]
}